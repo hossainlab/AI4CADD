{
  "cells": [
    {
      "cell_type": "markdown",
      "metadata": {
        "id": "dAJUV3Hd8zBY"
      },
      "source": [
        "# 💊AI4CADD001 - Compound data acquisition (ChEMBL)\n",
        "---\n",
        "[Md. Jubayer Hossain](https://www.linkedin.com/in/hossainmj/)\n",
        "- Founder & Chief Executive Officer</b>, [DeepBio Limited](https://deepbioltd.com/)\n",
        "- Founder & Chief Executive Director</b>, [CHIRAL Bangladesh](https://chiralbd.org/)\n",
        "- Faculty</b>, [Center for Bioinformatics Learning Advancement and Systematics Training (cBLAST), University of Dhaka](https://cblast.du.ac.bd/)\n",
        "- Visiting Researcher, [Department of Public Health, Daffodil International University](https://daffodilvarsity.edu.bd/department/ph)\n",
        "- Instructor</b>, [Daffodil International University (Micro-credential Academy, AI for Public Health)](https://microcredentials.daffodilvarsity.edu.bd/) <br>\n",
        "- Program Lead</b>, [GSA Bioinformatics Internship](https://gsabioinfointernship.owlstown.net/)"
      ]
    },
    {
      "cell_type": "markdown",
      "metadata": {
        "id": "ByxU_Qv18zBZ"
      },
      "source": [
        "## Learning objectives\n",
        "\n",
        "In this notebook, we will learn more about the ChEMBL database and how to extract data from ChEMBL, i.e. (compound, activity data) pairs for a target of interest. These data sets can be used for many cheminformatics tasks, such as similarity search, clustering or machine learning.\n",
        "\n",
        "Our work here will include finding compounds that were tested against a certain target and filtering available bioactivity data."
      ]
    },
    {
      "cell_type": "markdown",
      "metadata": {
        "id": "2NFW6c918zBZ"
      },
      "source": [
        "### Contents in *Theory*\n",
        "\n",
        "* ChEMBL database\n",
        "    * ChEMBL web services\n",
        "    * ChEMBL web resource client\n",
        "* Compound activity measures\n",
        "    * IC50 measure\n",
        "    * pIC50 value"
      ]
    },
    {
      "cell_type": "markdown",
      "metadata": {
        "id": "0KfWlZpX8zBZ"
      },
      "source": [
        "### Contents in *Practical*\n",
        "    \n",
        "**Goal: Get a list of compounds with bioactivity data for a given target**\n",
        "\n",
        "* Connect to ChEMBL database\n",
        "* Get target data (example: EGFR kinase)\n",
        "    * Fetch and download target data\n",
        "    * Select target ChEMBL ID\n",
        "* Get bioactivity data\n",
        "    * Fetch and download bioactivity data for targets\n",
        "    * Preprocess and filter bioactivity data\n",
        "* Get compound data\n",
        "    * Fetch and download compound data\n",
        "    * Preprocess and filter compound data\n",
        "* Output bioactivity-compound data\n",
        "    * Merge bioactivity and compound data, and add pIC50 values\n",
        "    * Draw molecules with highest pIC50\n",
        "    * Freeze bioactivity data to ChEMBL 27\n",
        "    * Write output file"
      ]
    },
    {
      "cell_type": "markdown",
      "metadata": {
        "id": "Rpu9jsot8zBa"
      },
      "source": [
        "## Theory"
      ]
    },
    {
      "cell_type": "markdown",
      "metadata": {
        "id": "yJf_Hk6_8zBa"
      },
      "source": [
        "### ChEMBL database\n",
        ">\"ChEMBL is a manually curated database of bioactive molecules with drug-like properties. It brings together chemical, bioactivity and genomic data to aid the translation of genomic information into effective new drugs.\" ([ChEMBL website](https://www.ebi.ac.uk/chembl/))\n",
        "\n",
        "* Open large-scale bioactivity database\n",
        "* **Current data content (as of 09.2020, ChEMBL 27):**\n",
        "    * \\>1.9 million distinct compounds\n",
        "    * \\>16 million activity values\n",
        "    * Assays are mapped to ~13,000 targets\n",
        "* **Data sources** include scientific literature, PubChem bioassays, Drugs for Neglected Diseases Initiative (DNDi), BindingDB database, ...\n",
        "* ChEMBL data can be accessed via a [web-interface](https://www.ebi.ac.uk/chembl/), the [EBI-RDF platform](https://www.ncbi.nlm.nih.gov/pubmed/24413672) and the [ChEMBL web rescource client](https://github.com/chembl/chembl_webresource_client)"
      ]
    },
    {
      "cell_type": "markdown",
      "metadata": {
        "id": "uB210u708zBa"
      },
      "source": [
        "#### ChEMBL web services\n",
        "\n",
        "* RESTful web service\n",
        "* ChEMBL web service version 2.x resource schema:\n",
        "\n",
        "![ChEMBL web service schema](https://github.com/hossainlab/AI4CADD/blob/main/Day2/T001_query_chembl/images/chembl_webservices_schema_diagram.jpg?raw=1)\n",
        "\n",
        "*Figure 1:*\n",
        "\"[ChEMBL web service schema diagram](https://www.ncbi.nlm.nih.gov/pmc/articles/PMC4489243/figure/F2/). The oval shapes represent ChEMBL web service resources and the line between two resources indicates that they share a common attribute. The arrow direction shows where the primary information about a resource type can be found. A dashed line indicates the relationship between two resources behaves differently. For example, the `Image` resource provides a graphical-based representation of a `Molecule`.\"\n",
        "Figure and description are taken from: [<i>Nucleic Acids Res.</i> (2015), <b>43</b>, 612-620](https://academic.oup.com/nar/article/43/W1/W612/2467881)."
      ]
    },
    {
      "cell_type": "markdown",
      "metadata": {
        "id": "BHEWRVcQ8zBb"
      },
      "source": [
        "#### ChEMBL web resource client\n",
        "\n",
        "* Python client library for accessing ChEMBL data\n",
        "* Handles interaction with the HTTPS protocol\n",
        "* Lazy evaluation of results -> reduced number of network requests"
      ]
    },
    {
      "cell_type": "markdown",
      "metadata": {
        "id": "NqqDjAFM8zBb"
      },
      "source": [
        "### Compound activity measures"
      ]
    },
    {
      "cell_type": "markdown",
      "metadata": {
        "id": "GeKpYq7E8zBb"
      },
      "source": [
        "#### IC50 measure\n",
        "\n",
        "* [Half maximal inhibitory concentration](https://en.wikipedia.org/wiki/IC50)\n",
        "* Indicates how much of a particular drug or other substance is needed to inhibit a given biological process by half\n",
        "\n",
        "![Wiki_Example_IC50_curve_demonstrating_visually_how_IC50_is_derived](https://github.com/hossainlab/AI4CADD/blob/main/Day2/T001_query_chembl/images/Wiki_Example_IC50_curve_demonstrating_visually_how_IC50_is_derived.png?raw=1)\n",
        "\n",
        "*Figure 2:* Visual demonstration of how to derive an IC50 value:\n",
        "(i) Arrange inhibition data on y-axis and log(concentration) on x-axis. (ii) Identify maximum and minimum inhibition. (iii) The IC50 is the concentration at which the curve passes through the 50% inhibition level. Figure [\"Example IC50 curve demonstrating visually how IC50 is derived\"](https://en.wikipedia.org/wiki/IC50#/media/File:Example_IC50_curve_demonstrating_visually_how_IC50_is_derived.png) by JesseAlanGordon is licensed under [CC BY-SA 3.0](https://creativecommons.org/licenses/by-sa/3.0/)."
      ]
    },
    {
      "cell_type": "markdown",
      "metadata": {
        "id": "V2pHMkXq8zBb"
      },
      "source": [
        "#### pIC50 value\n",
        "\n",
        "* To facilitate the comparison of IC50 values, which have a large value range and are given in different units (M, nM, ...), often pIC50 values are used\n",
        "* The pIC50 is the negative log of the IC50 value when converted to molar units:\n",
        "    $ pIC_{50} = -log_{10}(IC_{50}) $, where $ IC_{50}$ is specified in units of M\n",
        "* Higher pIC50 values indicate exponentially greater potency of the drug\n",
        "* Note that the conversion can be adapted to the respective IC50 unit, e.g. for nM: $pIC_{50} = -log_{10}(IC_{50}*10^{-9})= 9-log_{10}(IC_{50}) $\n",
        "\n",
        "Other activity measures:\n",
        "\n",
        "Besides, IC50 and pIC50, other bioactivity measures are used, such as the equilibrium constant [KI](https://en.wikipedia.org/wiki/Equilibrium_constant) and the half-maximal effective concentration  [EC50](https://en.wikipedia.org/wiki/EC50)."
      ]
    },
    {
      "cell_type": "markdown",
      "metadata": {
        "id": "_Rwj5-Hh8zBb"
      },
      "source": [
        "## Practical\n",
        "\n",
        "In the following, we want to download all molecules that have been tested against our target of interest, the **epidermal growth factor receptor** ([**EGFR**](https://www.uniprot.org/uniprot/P00533)) kinase."
      ]
    },
    {
      "cell_type": "markdown",
      "metadata": {
        "id": "kcKDUPvK8zBb"
      },
      "source": [
        "### Connect to ChEMBL database"
      ]
    },
    {
      "cell_type": "markdown",
      "source": [
        "Install required packages.\n"
      ],
      "metadata": {
        "id": "_9RClYF2-8cg"
      }
    },
    {
      "cell_type": "code",
      "source": [
        "# Install Conda inside Colab\n",
        "!pip install -q condacolab"
      ],
      "metadata": {
        "id": "ztolc_bc_F3q"
      },
      "execution_count": 1,
      "outputs": []
    },
    {
      "cell_type": "code",
      "source": [
        "import condacolab\n",
        "condacolab.install()"
      ],
      "metadata": {
        "colab": {
          "base_uri": "https://localhost:8080/"
        },
        "id": "nGeRia4p_lxm",
        "outputId": "da588cff-de79-4056-81e8-66e0aa84386b"
      },
      "execution_count": 2,
      "outputs": [
        {
          "output_type": "stream",
          "name": "stdout",
          "text": [
            "✨🍰✨ Everything looks OK!\n"
          ]
        }
      ]
    },
    {
      "cell_type": "code",
      "source": [
        "# Install RDKit and other dependencies from conda-forge\n",
        "!conda install -c conda-forge rdkit"
      ],
      "metadata": {
        "colab": {
          "base_uri": "https://localhost:8080/"
        },
        "id": "2-UcOasj_ukp",
        "outputId": "bb8d67eb-93e9-44ed-9bf4-c8c643606944"
      },
      "execution_count": 10,
      "outputs": [
        {
          "output_type": "stream",
          "name": "stdout",
          "text": [
            "Channels:\n",
            " - conda-forge\n",
            "Platform: linux-64\n",
            "Collecting package metadata (repodata.json): - \b\b\\ \b\b| \b\b/ \b\b- \b\b\\ \b\b| \b\b/ \b\b- \b\b\\ \b\b| \b\b/ \b\b- \b\b\\ \b\b| \b\b/ \b\b- \b\b\\ \b\b| \b\b/ \b\b- \b\b\\ \b\b| \b\b/ \b\b- \b\b\\ \b\b| \b\b/ \b\b- \b\b\\ \b\b| \b\b/ \b\b- \b\b\\ \b\b| \b\b/ \b\b- \b\b\\ \b\b| \b\b/ \b\b- \b\b\\ \b\b| \b\b/ \b\b- \b\b\\ \b\b| \b\b/ \b\b- \b\b\\ \b\bdone\n",
            "Solving environment: / \b\b- \b\b\\ \b\b| \b\b/ \b\b- \b\bdone\n",
            "\n",
            "## Package Plan ##\n",
            "\n",
            "  environment location: /usr/local\n",
            "\n",
            "  added / updated specs:\n",
            "    - rdkit\n",
            "\n",
            "\n",
            "The following packages will be downloaded:\n",
            "\n",
            "    package                    |            build\n",
            "    ---------------------------|-----------------\n",
            "    brotli-1.1.0               |       hb9d3cd8_2          19 KB  conda-forge\n",
            "    brotli-bin-1.1.0           |       hb9d3cd8_2          18 KB  conda-forge\n",
            "    ca-certificates-2025.8.3   |       hbd8a1cb_0         151 KB  conda-forge\n",
            "    cairo-1.18.4               |       h3394656_0         955 KB  conda-forge\n",
            "    certifi-2025.8.3           |     pyhd8ed1ab_0         155 KB  conda-forge\n",
            "    conda-24.11.3              |  py311h38be061_0         1.1 MB  conda-forge\n",
            "    contourpy-1.3.3            |  py311hdf67eae_2         290 KB  conda-forge\n",
            "    cycler-0.12.1              |     pyhd8ed1ab_1          13 KB  conda-forge\n",
            "    cyrus-sasl-2.1.28          |       hd9c7081_0         205 KB  conda-forge\n",
            "    font-ttf-dejavu-sans-mono-2.37|       hab24e00_0         388 KB  conda-forge\n",
            "    font-ttf-inconsolata-3.000 |       h77eed37_0          94 KB  conda-forge\n",
            "    font-ttf-source-code-pro-2.038|       h77eed37_0         684 KB  conda-forge\n",
            "    font-ttf-ubuntu-0.83       |       h77eed37_3         1.5 MB  conda-forge\n",
            "    fontconfig-2.15.0          |       h7e30c49_1         259 KB  conda-forge\n",
            "    fonts-conda-ecosystem-1    |                0           4 KB  conda-forge\n",
            "    fonts-conda-forge-1        |                0           4 KB  conda-forge\n",
            "    fonttools-4.59.2           |  py311h3778330_0         2.8 MB  conda-forge\n",
            "    freetype-2.14.0            |       ha770c72_1         169 KB  conda-forge\n",
            "    freetype-py-2.3.0          |     pyhd8ed1ab_0          58 KB  conda-forge\n",
            "    greenlet-3.2.4             |  py311h1ddb823_1         237 KB  conda-forge\n",
            "    icu-75.1                   |       he02047a_0        11.6 MB  conda-forge\n",
            "    kiwisolver-1.4.9           |  py311h724c32c_1          76 KB  conda-forge\n",
            "    lcms2-2.17                 |       h717163a_0         242 KB  conda-forge\n",
            "    lerc-4.0.0                 |       h0aef613_1         258 KB  conda-forge\n",
            "    libblas-3.9.0              |31_h59b9bed_openblas          16 KB  conda-forge\n",
            "    libboost-1.86.0            |       h6c02f8c_3         2.8 MB  conda-forge\n",
            "    libboost-python-1.86.0     |  py311h1d5f577_4         118 KB  conda-forge\n",
            "    libbrotlicommon-1.1.0      |       hb9d3cd8_2          67 KB  conda-forge\n",
            "    libbrotlidec-1.1.0         |       hb9d3cd8_2          32 KB  conda-forge\n",
            "    libbrotlienc-1.1.0         |       hb9d3cd8_2         275 KB  conda-forge\n",
            "    libcblas-3.9.0             |31_he106b2a_openblas          16 KB  conda-forge\n",
            "    libdeflate-1.23            |       h86f0d12_0          71 KB  conda-forge\n",
            "    libfreetype-2.14.0         |       ha770c72_1           8 KB  conda-forge\n",
            "    libfreetype6-2.14.0        |       h73754d4_1         378 KB  conda-forge\n",
            "    libgfortran-14.2.0         |       h69a702a_2          52 KB  conda-forge\n",
            "    libgfortran5-14.2.0        |       hf1ad2bd_2         1.4 MB  conda-forge\n",
            "    libglib-2.82.2             |       h2ff4ddf_1         3.7 MB  conda-forge\n",
            "    libjpeg-turbo-3.1.0        |       hb9d3cd8_0         614 KB  conda-forge\n",
            "    liblapack-3.9.0            |31_h7ac8fdf_openblas          16 KB  conda-forge\n",
            "    libntlm-1.8                |       hb9d3cd8_0          33 KB  conda-forge\n",
            "    libopenblas-0.3.29         |pthreads_h94d23a6_0         5.6 MB  conda-forge\n",
            "    libpng-1.6.50              |       h421ea60_1         310 KB  conda-forge\n",
            "    libpq-17.6                 |       h3675c94_1         2.5 MB  conda-forge\n",
            "    librdkit-2025.03.6         |       h3c5c181_0         9.5 MB  conda-forge\n",
            "    libtiff-4.7.0              |       hd9ff511_3         418 KB  conda-forge\n",
            "    libwebp-base-1.6.0         |       hd42ef1d_0         419 KB  conda-forge\n",
            "    libxcb-1.17.0              |       h8a09558_0         387 KB  conda-forge\n",
            "    libxml2-2.13.5             |       h8d12d68_1         674 KB  conda-forge\n",
            "    matplotlib-base-3.10.6     |  py311h0f3be63_1         8.1 MB  conda-forge\n",
            "    munkres-1.1.4              |     pyhd8ed1ab_1          15 KB  conda-forge\n",
            "    numpy-2.3.3                |  py311h2e04523_0         9.0 MB  conda-forge\n",
            "    openjpeg-2.5.3             |       h55fea9a_1         349 KB  conda-forge\n",
            "    openldap-2.6.10            |       he970967_0         762 KB  conda-forge\n",
            "    openssl-3.5.2              |       h26f9b46_0         3.0 MB  conda-forge\n",
            "    pandas-2.3.2               |  py311hed34c8f_0        14.6 MB  conda-forge\n",
            "    pcre2-10.44                |       hc749103_2         934 KB  conda-forge\n",
            "    pillow-11.3.0              |  py311h3df08e7_1        40.5 MB  conda-forge\n",
            "    pixman-0.46.4              |       h54a6638_1         440 KB  conda-forge\n",
            "    pthread-stubs-0.4          |    hb9d3cd8_1002           8 KB  conda-forge\n",
            "    pycairo-1.27.0             |  py311h124c5f0_0         114 KB  conda-forge\n",
            "    pyparsing-3.2.3            |     pyhe01879c_2         100 KB  conda-forge\n",
            "    python-dateutil-2.9.0.post0|     pyhe01879c_2         228 KB  conda-forge\n",
            "    python-tzdata-2025.2       |     pyhd8ed1ab_0         141 KB  conda-forge\n",
            "    pytz-2025.2                |     pyhd8ed1ab_0         185 KB  conda-forge\n",
            "    qhull-2020.2               |       h434a139_5         540 KB  conda-forge\n",
            "    rdkit-2025.03.6            |  py311hf7fb0bc_0        19.3 MB  conda-forge\n",
            "    reportlab-4.4.3            |  py311h49ec1c0_1         2.7 MB  conda-forge\n",
            "    rlpycairo-0.4.0            |     pyh6c17108_0          15 KB  conda-forge\n",
            "    six-1.17.0                 |     pyhe01879c_1          18 KB  conda-forge\n",
            "    sqlalchemy-2.0.43          |  py311h49ec1c0_0         3.5 MB  conda-forge\n",
            "    typing-extensions-4.15.0   |       h396c80c_0          89 KB  conda-forge\n",
            "    typing_extensions-4.15.0   |     pyhcf101f3_0          50 KB  conda-forge\n",
            "    unicodedata2-16.0.0        |  py311h49ec1c0_1         396 KB  conda-forge\n",
            "    xorg-libice-1.1.2          |       hb9d3cd8_0          57 KB  conda-forge\n",
            "    xorg-libsm-1.2.6           |       he73a12e_0          27 KB  conda-forge\n",
            "    xorg-libx11-1.8.12         |       h4f16b4b_0         816 KB  conda-forge\n",
            "    xorg-libxau-1.0.12         |       hb9d3cd8_0          14 KB  conda-forge\n",
            "    xorg-libxdmcp-1.1.5        |       hb9d3cd8_0          19 KB  conda-forge\n",
            "    xorg-libxext-1.3.6         |       hb9d3cd8_0          49 KB  conda-forge\n",
            "    xorg-libxrender-0.9.12     |       hb9d3cd8_0          32 KB  conda-forge\n",
            "    ------------------------------------------------------------\n",
            "                                           Total:       156.5 MB\n",
            "\n",
            "The following NEW packages will be INSTALLED:\n",
            "\n",
            "  brotli             conda-forge/linux-64::brotli-1.1.0-hb9d3cd8_2 \n",
            "  brotli-bin         conda-forge/linux-64::brotli-bin-1.1.0-hb9d3cd8_2 \n",
            "  cairo              conda-forge/linux-64::cairo-1.18.4-h3394656_0 \n",
            "  contourpy          conda-forge/linux-64::contourpy-1.3.3-py311hdf67eae_2 \n",
            "  cycler             conda-forge/noarch::cycler-0.12.1-pyhd8ed1ab_1 \n",
            "  cyrus-sasl         conda-forge/linux-64::cyrus-sasl-2.1.28-hd9c7081_0 \n",
            "  font-ttf-dejavu-s~ conda-forge/noarch::font-ttf-dejavu-sans-mono-2.37-hab24e00_0 \n",
            "  font-ttf-inconsol~ conda-forge/noarch::font-ttf-inconsolata-3.000-h77eed37_0 \n",
            "  font-ttf-source-c~ conda-forge/noarch::font-ttf-source-code-pro-2.038-h77eed37_0 \n",
            "  font-ttf-ubuntu    conda-forge/noarch::font-ttf-ubuntu-0.83-h77eed37_3 \n",
            "  fontconfig         conda-forge/linux-64::fontconfig-2.15.0-h7e30c49_1 \n",
            "  fonts-conda-ecosy~ conda-forge/noarch::fonts-conda-ecosystem-1-0 \n",
            "  fonts-conda-forge  conda-forge/noarch::fonts-conda-forge-1-0 \n",
            "  fonttools          conda-forge/linux-64::fonttools-4.59.2-py311h3778330_0 \n",
            "  freetype           conda-forge/linux-64::freetype-2.14.0-ha770c72_1 \n",
            "  freetype-py        conda-forge/noarch::freetype-py-2.3.0-pyhd8ed1ab_0 \n",
            "  greenlet           conda-forge/linux-64::greenlet-3.2.4-py311h1ddb823_1 \n",
            "  icu                conda-forge/linux-64::icu-75.1-he02047a_0 \n",
            "  kiwisolver         conda-forge/linux-64::kiwisolver-1.4.9-py311h724c32c_1 \n",
            "  lcms2              conda-forge/linux-64::lcms2-2.17-h717163a_0 \n",
            "  lerc               conda-forge/linux-64::lerc-4.0.0-h0aef613_1 \n",
            "  libblas            conda-forge/linux-64::libblas-3.9.0-31_h59b9bed_openblas \n",
            "  libboost           conda-forge/linux-64::libboost-1.86.0-h6c02f8c_3 \n",
            "  libboost-python    conda-forge/linux-64::libboost-python-1.86.0-py311h1d5f577_4 \n",
            "  libbrotlicommon    conda-forge/linux-64::libbrotlicommon-1.1.0-hb9d3cd8_2 \n",
            "  libbrotlidec       conda-forge/linux-64::libbrotlidec-1.1.0-hb9d3cd8_2 \n",
            "  libbrotlienc       conda-forge/linux-64::libbrotlienc-1.1.0-hb9d3cd8_2 \n",
            "  libcblas           conda-forge/linux-64::libcblas-3.9.0-31_he106b2a_openblas \n",
            "  libdeflate         conda-forge/linux-64::libdeflate-1.23-h86f0d12_0 \n",
            "  libfreetype        conda-forge/linux-64::libfreetype-2.14.0-ha770c72_1 \n",
            "  libfreetype6       conda-forge/linux-64::libfreetype6-2.14.0-h73754d4_1 \n",
            "  libgfortran        conda-forge/linux-64::libgfortran-14.2.0-h69a702a_2 \n",
            "  libgfortran5       conda-forge/linux-64::libgfortran5-14.2.0-hf1ad2bd_2 \n",
            "  libglib            conda-forge/linux-64::libglib-2.82.2-h2ff4ddf_1 \n",
            "  libjpeg-turbo      conda-forge/linux-64::libjpeg-turbo-3.1.0-hb9d3cd8_0 \n",
            "  liblapack          conda-forge/linux-64::liblapack-3.9.0-31_h7ac8fdf_openblas \n",
            "  libntlm            conda-forge/linux-64::libntlm-1.8-hb9d3cd8_0 \n",
            "  libopenblas        conda-forge/linux-64::libopenblas-0.3.29-pthreads_h94d23a6_0 \n",
            "  libpng             conda-forge/linux-64::libpng-1.6.50-h421ea60_1 \n",
            "  libpq              conda-forge/linux-64::libpq-17.6-h3675c94_1 \n",
            "  librdkit           conda-forge/linux-64::librdkit-2025.03.6-h3c5c181_0 \n",
            "  libtiff            conda-forge/linux-64::libtiff-4.7.0-hd9ff511_3 \n",
            "  libwebp-base       conda-forge/linux-64::libwebp-base-1.6.0-hd42ef1d_0 \n",
            "  libxcb             conda-forge/linux-64::libxcb-1.17.0-h8a09558_0 \n",
            "  matplotlib-base    conda-forge/linux-64::matplotlib-base-3.10.6-py311h0f3be63_1 \n",
            "  munkres            conda-forge/noarch::munkres-1.1.4-pyhd8ed1ab_1 \n",
            "  numpy              conda-forge/linux-64::numpy-2.3.3-py311h2e04523_0 \n",
            "  openjpeg           conda-forge/linux-64::openjpeg-2.5.3-h55fea9a_1 \n",
            "  openldap           conda-forge/linux-64::openldap-2.6.10-he970967_0 \n",
            "  pandas             conda-forge/linux-64::pandas-2.3.2-py311hed34c8f_0 \n",
            "  pcre2              conda-forge/linux-64::pcre2-10.44-hc749103_2 \n",
            "  pillow             conda-forge/linux-64::pillow-11.3.0-py311h3df08e7_1 \n",
            "  pixman             conda-forge/linux-64::pixman-0.46.4-h54a6638_1 \n",
            "  pthread-stubs      conda-forge/linux-64::pthread-stubs-0.4-hb9d3cd8_1002 \n",
            "  pycairo            conda-forge/linux-64::pycairo-1.27.0-py311h124c5f0_0 \n",
            "  pyparsing          conda-forge/noarch::pyparsing-3.2.3-pyhe01879c_2 \n",
            "  python-dateutil    conda-forge/noarch::python-dateutil-2.9.0.post0-pyhe01879c_2 \n",
            "  python-tzdata      conda-forge/noarch::python-tzdata-2025.2-pyhd8ed1ab_0 \n",
            "  pytz               conda-forge/noarch::pytz-2025.2-pyhd8ed1ab_0 \n",
            "  qhull              conda-forge/linux-64::qhull-2020.2-h434a139_5 \n",
            "  rdkit              conda-forge/linux-64::rdkit-2025.03.6-py311hf7fb0bc_0 \n",
            "  reportlab          conda-forge/linux-64::reportlab-4.4.3-py311h49ec1c0_1 \n",
            "  rlpycairo          conda-forge/noarch::rlpycairo-0.4.0-pyh6c17108_0 \n",
            "  six                conda-forge/noarch::six-1.17.0-pyhe01879c_1 \n",
            "  sqlalchemy         conda-forge/linux-64::sqlalchemy-2.0.43-py311h49ec1c0_0 \n",
            "  typing-extensions  conda-forge/noarch::typing-extensions-4.15.0-h396c80c_0 \n",
            "  typing_extensions  conda-forge/noarch::typing_extensions-4.15.0-pyhcf101f3_0 \n",
            "  unicodedata2       conda-forge/linux-64::unicodedata2-16.0.0-py311h49ec1c0_1 \n",
            "  xorg-libice        conda-forge/linux-64::xorg-libice-1.1.2-hb9d3cd8_0 \n",
            "  xorg-libsm         conda-forge/linux-64::xorg-libsm-1.2.6-he73a12e_0 \n",
            "  xorg-libx11        conda-forge/linux-64::xorg-libx11-1.8.12-h4f16b4b_0 \n",
            "  xorg-libxau        conda-forge/linux-64::xorg-libxau-1.0.12-hb9d3cd8_0 \n",
            "  xorg-libxdmcp      conda-forge/linux-64::xorg-libxdmcp-1.1.5-hb9d3cd8_0 \n",
            "  xorg-libxext       conda-forge/linux-64::xorg-libxext-1.3.6-hb9d3cd8_0 \n",
            "  xorg-libxrender    conda-forge/linux-64::xorg-libxrender-0.9.12-hb9d3cd8_0 \n",
            "\n",
            "The following packages will be UPDATED:\n",
            "\n",
            "  ca-certificates    conda-forge/linux-64::ca-certificates~ --> conda-forge/noarch::ca-certificates-2025.8.3-hbd8a1cb_0 \n",
            "  certifi                           2024.12.14-pyhd8ed1ab_0 --> 2025.8.3-pyhd8ed1ab_0 \n",
            "  conda                             24.11.2-py311h38be061_1 --> 24.11.3-py311h38be061_0 \n",
            "  openssl                                  3.4.0-h7b32b05_1 --> 3.5.2-h26f9b46_0 \n",
            "\n",
            "The following packages will be DOWNGRADED:\n",
            "\n",
            "  libxml2                                 2.13.5-h0d44e9d_1 --> 2.13.5-h8d12d68_1 \n",
            "\n",
            "\n",
            "\n",
            "Downloading and Extracting Packages:\n",
            "pillow-11.3.0        | 40.5 MB   | :   0% 0/1 [00:00<?, ?it/s]\n",
            "rdkit-2025.03.6      | 19.3 MB   | :   0% 0/1 [00:00<?, ?it/s]\u001b[A\n",
            "\n",
            "pandas-2.3.2         | 14.6 MB   | :   0% 0/1 [00:00<?, ?it/s]\u001b[A\u001b[A\n",
            "\n",
            "\n",
            "icu-75.1             | 11.6 MB   | :   0% 0/1 [00:00<?, ?it/s]\u001b[A\u001b[A\u001b[A\n",
            "\n",
            "\n",
            "\n",
            "librdkit-2025.03.6   | 9.5 MB    | :   0% 0/1 [00:00<?, ?it/s]\u001b[A\u001b[A\u001b[A\u001b[A\n",
            "\n",
            "\n",
            "\n",
            "\n",
            "numpy-2.3.3          | 9.0 MB    | :   0% 0/1 [00:00<?, ?it/s]\u001b[A\u001b[A\u001b[A\u001b[A\u001b[A\n",
            "\n",
            "\n",
            "\n",
            "\n",
            "\n",
            "matplotlib-base-3.10 | 8.1 MB    | :   0% 0/1 [00:00<?, ?it/s]\u001b[A\u001b[A\u001b[A\u001b[A\u001b[A\u001b[A\n",
            "\n",
            "\n",
            "\n",
            "\n",
            "\n",
            "\n",
            "libopenblas-0.3.29   | 5.6 MB    | :   0% 0/1 [00:00<?, ?it/s]\u001b[A\u001b[A\u001b[A\u001b[A\u001b[A\u001b[A\u001b[A\n",
            "\n",
            "\n",
            "\n",
            "\n",
            "\n",
            "\n",
            "\n",
            "libglib-2.82.2       | 3.7 MB    | :   0% 0/1 [00:00<?, ?it/s]\u001b[A\u001b[A\u001b[A\u001b[A\u001b[A\u001b[A\u001b[A\u001b[A\n",
            "\n",
            "\n",
            "\n",
            "\n",
            "\n",
            "\n",
            "\n",
            "\n",
            "sqlalchemy-2.0.43    | 3.5 MB    | :   0% 0/1 [00:00<?, ?it/s]\u001b[A\u001b[A\u001b[A\u001b[A\u001b[A\u001b[A\u001b[A\u001b[A\u001b[A\n",
            "\n",
            "\n",
            "\n",
            "\n",
            "\n",
            "\n",
            "\n",
            "\n",
            "\n",
            "openssl-3.5.2        | 3.0 MB    | :   0% 0/1 [00:00<?, ?it/s]\u001b[A\u001b[A\u001b[A\u001b[A\u001b[A\u001b[A\u001b[A\u001b[A\u001b[A\u001b[A\n",
            "\n",
            "\n",
            "\n",
            "\n",
            "\n",
            "\n",
            "\n",
            "\n",
            "\n",
            "\n",
            "libboost-1.86.0      | 2.8 MB    | :   0% 0/1 [00:00<?, ?it/s]\u001b[A\u001b[A\u001b[A\u001b[A\u001b[A\u001b[A\u001b[A\u001b[A\u001b[A\u001b[A\u001b[A\n",
            "\n",
            "\n",
            "\n",
            "\n",
            "\n",
            "\n",
            "\n",
            "\n",
            "\n",
            "\n",
            "\n",
            "fonttools-4.59.2     | 2.8 MB    | :   0% 0/1 [00:00<?, ?it/s]\u001b[A\u001b[A\u001b[A\u001b[A\u001b[A\u001b[A\u001b[A\u001b[A\u001b[A\u001b[A\u001b[A\u001b[A\n",
            "\n",
            "\n",
            "\n",
            "\n",
            "\n",
            "\n",
            "\n",
            "\n",
            "\n",
            "\n",
            "\n",
            "\n",
            "reportlab-4.4.3      | 2.7 MB    | :   0% 0/1 [00:00<?, ?it/s]\u001b[A\u001b[A\u001b[A\u001b[A\u001b[A\u001b[A\u001b[A\u001b[A\u001b[A\u001b[A\u001b[A\u001b[A\u001b[A\n",
            "\n",
            "\n",
            "\n",
            "\n",
            "\n",
            "\n",
            "\n",
            "\n",
            "\n",
            "\n",
            "\n",
            "\n",
            "\n",
            "libpq-17.6           | 2.5 MB    | :   0% 0/1 [00:00<?, ?it/s]\u001b[A\u001b[A\u001b[A\u001b[A\u001b[A\u001b[A\u001b[A\u001b[A\u001b[A\u001b[A\u001b[A\u001b[A\u001b[A\u001b[A\n",
            "\n",
            "\n",
            "\n",
            "\n",
            "\n",
            "\n",
            "\n",
            "\n",
            "\n",
            "\n",
            "\n",
            "\n",
            "\n",
            "\n",
            "font-ttf-ubuntu-0.83 | 1.5 MB    | :   0% 0/1 [00:00<?, ?it/s]\u001b[A\u001b[A\u001b[A\u001b[A\u001b[A\u001b[A\u001b[A\u001b[A\u001b[A\u001b[A\u001b[A\u001b[A\u001b[A\u001b[A\u001b[A\n",
            "\n",
            "\n",
            "\n",
            "\n",
            "\n",
            "\n",
            "\n",
            "\n",
            "\n",
            "\n",
            "\n",
            "\n",
            "\n",
            "\n",
            "\n",
            "libgfortran5-14.2.0  | 1.4 MB    | :   0% 0/1 [00:00<?, ?it/s]\u001b[A\u001b[A\u001b[A\u001b[A\u001b[A\u001b[A\u001b[A\u001b[A\u001b[A\u001b[A\u001b[A\u001b[A\u001b[A\u001b[A\u001b[A\u001b[A\n",
            "\n",
            "\n",
            "\n",
            "\n",
            "\n",
            "\n",
            "\n",
            "\n",
            "\n",
            "\n",
            "\n",
            "\n",
            "\n",
            "\n",
            "\n",
            "\n",
            "conda-24.11.3        | 1.1 MB    | :   0% 0/1 [00:00<?, ?it/s]\u001b[A\u001b[A\u001b[A\u001b[A\u001b[A\u001b[A\u001b[A\u001b[A\u001b[A\u001b[A\u001b[A\u001b[A\u001b[A\u001b[A\u001b[A\u001b[A\u001b[A\n",
            "\n",
            "\n",
            "\n",
            "\n",
            "\n",
            "\n",
            "\n",
            "\n",
            "\n",
            "\n",
            "\n",
            "\n",
            "\n",
            "\n",
            "\n",
            "\n",
            "\n",
            "cairo-1.18.4         | 955 KB    | :   0% 0/1 [00:00<?, ?it/s]\u001b[A\u001b[A\u001b[A\u001b[A\u001b[A\u001b[A\u001b[A\u001b[A\u001b[A\u001b[A\u001b[A\u001b[A\u001b[A\u001b[A\u001b[A\u001b[A\u001b[A\u001b[A\n",
            "\n",
            "\n",
            "\n",
            "\n",
            "\n",
            "\n",
            "\n",
            "\n",
            "\n",
            "\n",
            "\n",
            "\n",
            "\n",
            "\n",
            "\n",
            "\n",
            "\n",
            "\n",
            "pillow-11.3.0        | 40.5 MB   | :   0% 0.0003861449841018048/1 [00:00<04:32, 272.32s/it]\n",
            "rdkit-2025.03.6      | 19.3 MB   | :   0% 0.0008111819932648724/1 [00:00<02:09, 129.28s/it]\u001b[A\n",
            "\n",
            "pandas-2.3.2         | 14.6 MB   | :   1% 0.013871669860092768/1 [00:00<00:07,  7.45s/it]\u001b[A\u001b[A\n",
            "\n",
            "\n",
            "icu-75.1             | 11.6 MB   | :   0% 0.00135078949540213/1 [00:00<01:21, 81.34s/it]\u001b[A\u001b[A\u001b[A\n",
            "\n",
            "\n",
            "\n",
            "librdkit-2025.03.6   | 9.5 MB    | :   0% 0.0016466710640878066/1 [00:00<01:33, 93.85s/it]\u001b[A\u001b[A\u001b[A\u001b[A\n",
            "pillow-11.3.0        | 40.5 MB   | :   8% 0.08031815669317541/1 [00:00<00:02,  2.18s/it]   \n",
            "\n",
            "pandas-2.3.2         | 14.6 MB   | :  20% 0.19953863567979596/1 [00:00<00:00,  1.13it/s] \u001b[A\u001b[A\n",
            "\n",
            "\n",
            "icu-75.1             | 11.6 MB   | :  28% 0.280964215043643/1 [00:00<00:00,  1.57it/s]  \u001b[A\u001b[A\u001b[A\n",
            "\n",
            "\n",
            "\n",
            "librdkit-2025.03.6   | 9.5 MB    | :  33% 0.33427422600982476/1 [00:00<00:00,  1.60it/s]  \u001b[A\u001b[A\u001b[A\u001b[A\n",
            "pillow-11.3.0        | 40.5 MB   | :  16% 0.16449776322736887/1 [00:00<00:01,  1.59s/it]\n",
            "\n",
            "pandas-2.3.2         | 14.6 MB   | :  42% 0.4246865080243786/1 [00:00<00:00,  1.63it/s] \u001b[A\u001b[A\n",
            "\n",
            "\n",
            "icu-75.1             | 11.6 MB   | :  56% 0.5565252721056775/1 [00:00<00:00,  2.09it/s]\u001b[A\u001b[A\u001b[A\n",
            "\n",
            "\n",
            "\n",
            "pillow-11.3.0        | 40.5 MB   | :  24% 0.2390237451590172/1 [00:00<00:01,  1.50s/it] \n",
            "\n",
            "pandas-2.3.2         | 14.6 MB   | :  59% 0.589012443290093/1 [00:00<00:00,  1.62it/s] \u001b[A\u001b[A\n",
            "rdkit-2025.03.6      | 19.3 MB   | :  56% 0.5572820293729673/1 [00:00<00:00,  1.52it/s] \u001b[A\n",
            "\n",
            "\n",
            "icu-75.1             | 11.6 MB   | :  80% 0.801018170773463/1 [00:00<00:00,  2.18it/s] \u001b[A\u001b[A\u001b[A\n",
            "\n",
            "\n",
            "\n",
            "pillow-11.3.0        | 40.5 MB   | :  33% 0.3282232364865341/1 [00:00<00:00,  1.34s/it]\n",
            "\n",
            "pandas-2.3.2         | 14.6 MB   | :  92% 0.9229995714600188/1 [00:00<00:00,  2.19it/s]\u001b[A\u001b[A\n",
            "pillow-11.3.0        | 40.5 MB   | :  46% 0.45874024111294415/1 [00:00<00:00,  1.07s/it]\n",
            "\n",
            "\n",
            "\n",
            "pillow-11.3.0        | 40.5 MB   | :  55% 0.5529596172337845/1 [00:00<00:00,  1.17s/it] \n",
            "\n",
            "\n",
            "icu-75.1             | 11.6 MB   | : 100% 1.0/1 [00:00<00:00,  2.18it/s]              \u001b[A\u001b[A\u001b[A\n",
            "\n",
            "\n",
            "\n",
            "\n",
            "numpy-2.3.3          | 9.0 MB    | :   0% 0.001740015329212196/1 [00:00<07:04, 425.36s/it]\u001b[A\u001b[A\u001b[A\u001b[A\u001b[A\n",
            "\n",
            "\n",
            "\n",
            "\n",
            "\n",
            "matplotlib-base-3.10 | 8.1 MB    | :   0% 0.0019310826037556162/1 [00:00<07:08, 429.43s/it]\u001b[A\u001b[A\u001b[A\u001b[A\u001b[A\u001b[A\n",
            "\n",
            "\n",
            "\n",
            "\n",
            "numpy-2.3.3          | 9.0 MB    | :  27% 0.2714423913571026/1 [00:00<00:01,  2.29s/it]   \u001b[A\u001b[A\u001b[A\u001b[A\u001b[A\n",
            "\n",
            "pillow-11.3.0        | 40.5 MB   | :  64% 0.6402283836407924/1 [00:00<00:00,  1.47s/it]\n",
            "\n",
            "\n",
            "\n",
            "\n",
            "\n",
            "matplotlib-base-3.10 | 8.1 MB    | :  26% 0.25876506890325257/1 [00:00<00:01,  2.64s/it]   \u001b[A\u001b[A\u001b[A\u001b[A\u001b[A\u001b[A\n",
            "\n",
            "\n",
            "\n",
            "\n",
            "numpy-2.3.3          | 9.0 MB    | :  43% 0.4297837863154124/1 [00:00<00:00,  1.54s/it]\u001b[A\u001b[A\u001b[A\u001b[A\u001b[A\n",
            "\n",
            "\n",
            "\n",
            "\n",
            "\n",
            "\n",
            "libopenblas-0.3.29   | 5.6 MB    | :   0% 0.0027679004637044184/1 [00:00<05:52, 353.23s/it]\u001b[A\u001b[A\u001b[A\u001b[A\u001b[A\u001b[A\u001b[A\n",
            "\n",
            "\n",
            "\n",
            "\n",
            "\n",
            "matplotlib-base-3.10 | 8.1 MB    | :  44% 0.4441489988637917/1 [00:01<00:00,  1.59s/it] \u001b[A\u001b[A\u001b[A\u001b[A\u001b[A\u001b[A\n",
            "\n",
            "\n",
            "\n",
            "\n",
            "numpy-2.3.3          | 9.0 MB    | :  62% 0.6177054418703296/1 [00:01<00:00,  1.10s/it]\u001b[A\u001b[A\u001b[A\u001b[A\u001b[A\n",
            "\n",
            "\n",
            "\n",
            "\n",
            "\n",
            "\n",
            "pillow-11.3.0        | 40.5 MB   | :  71% 0.7143682205883389/1 [00:01<00:00,  1.79s/it]\n",
            "\n",
            "\n",
            "\n",
            "\n",
            "\n",
            "matplotlib-base-3.10 | 8.1 MB    | :  66% 0.6565680852769095/1 [00:01<00:00,  1.08s/it]\u001b[A\u001b[A\u001b[A\u001b[A\u001b[A\u001b[A\n",
            "rdkit-2025.03.6      | 19.3 MB   | : 100% 1.0/1 [00:01<00:00,  1.47s/it]               \u001b[A\n",
            "rdkit-2025.03.6      | 19.3 MB   | : 100% 1.0/1 [00:01<00:00,  1.47s/it]\u001b[A\n",
            "\n",
            "\n",
            "\n",
            "\n",
            "numpy-2.3.3          | 9.0 MB    | :  83% 0.8282472967050053/1 [00:01<00:00,  1.18it/s]\u001b[A\u001b[A\u001b[A\u001b[A\u001b[A\n",
            "\n",
            "\n",
            "\n",
            "\n",
            "\n",
            "\n",
            "libopenblas-0.3.29   | 5.6 MB    | :  64% 0.6421529075794251/1 [00:01<00:00,  1.20s/it]\u001b[A\u001b[A\u001b[A\u001b[A\u001b[A\u001b[A\u001b[A\n",
            "\n",
            "\n",
            "\n",
            "\n",
            "\n",
            "matplotlib-base-3.10 | 8.1 MB    | :  87% 0.8728493368975385/1 [00:01<00:00,  1.18it/s]\u001b[A\u001b[A\u001b[A\u001b[A\u001b[A\u001b[A\n",
            "\n",
            "\n",
            "\n",
            "\n",
            "\n",
            "\n",
            "\n",
            "pillow-11.3.0        | 40.5 MB   | :  78% 0.7773098529969331/1 [00:01<00:00,  1.97s/it]\n",
            "\n",
            "\n",
            "\n",
            "\n",
            "\n",
            "\n",
            "libopenblas-0.3.29   | 5.6 MB    | :  97% 0.9715330627602509/1 [00:01<00:00,  1.27it/s]\u001b[A\u001b[A\u001b[A\u001b[A\u001b[A\u001b[A\u001b[A\n",
            "\n",
            "\n",
            "\n",
            "\n",
            "\n",
            "\n",
            "\n",
            "pillow-11.3.0        | 40.5 MB   | :  83% 0.832914730707593/1 [00:01<00:00,  2.07s/it] \n",
            "\n",
            "\n",
            "\n",
            "\n",
            "\n",
            "\n",
            "libopenblas-0.3.29   | 5.6 MB    | : 100% 1.0/1 [00:01<00:00,  1.27it/s]               \u001b[A\u001b[A\u001b[A\u001b[A\u001b[A\u001b[A\u001b[A\n",
            "\n",
            "\n",
            "\n",
            "\n",
            "\n",
            "matplotlib-base-3.10 | 8.1 MB    | : 100% 1.0/1 [00:01<00:00,  1.18it/s]               \u001b[A\u001b[A\u001b[A\u001b[A\u001b[A\u001b[A\n",
            "\n",
            "\n",
            "\n",
            "\n",
            "pillow-11.3.0        | 40.5 MB   | :  89% 0.8865888834977439/1 [00:01<00:00,  2.02s/it]\n",
            "\n",
            "\n",
            "\n",
            "\n",
            "\n",
            "\n",
            "\n",
            "libglib-2.82.2       | 3.7 MB    | : 100% 1.0/1 [00:01<00:00,  1.01s/it]               \u001b[A\u001b[A\u001b[A\u001b[A\u001b[A\u001b[A\u001b[A\u001b[A\n",
            "\n",
            "\n",
            "\n",
            "\n",
            "\n",
            "\n",
            "\n",
            "libglib-2.82.2       | 3.7 MB    | : 100% 1.0/1 [00:01<00:00,  1.01s/it]\u001b[A\u001b[A\u001b[A\u001b[A\u001b[A\u001b[A\u001b[A\u001b[A\n",
            "\n",
            "\n",
            "\n",
            "\n",
            "\n",
            "\n",
            "\n",
            "\n",
            "sqlalchemy-2.0.43    | 3.5 MB    | :   0% 0.004523094311099111/1 [00:01<05:35, 336.66s/it]\u001b[A\u001b[A\u001b[A\u001b[A\u001b[A\u001b[A\u001b[A\u001b[A\u001b[A\n",
            "\n",
            "\n",
            "\n",
            "\n",
            "\n",
            "\n",
            "\n",
            "\n",
            "\n",
            "\n",
            "\n",
            "fonttools-4.59.2     | 2.8 MB    | :   1% 0.005582701258697415/1 [00:01<04:38, 279.77s/it]\u001b[A\u001b[A\u001b[A\u001b[A\u001b[A\u001b[A\u001b[A\u001b[A\u001b[A\u001b[A\u001b[A\u001b[A\n",
            "\n",
            "\n",
            "\n",
            "\n",
            "\n",
            "\n",
            "\n",
            "\n",
            "\n",
            "\n",
            "libboost-1.86.0      | 2.8 MB    | :   1% 0.0055595709520561655/1 [00:01<04:40, 281.63s/it]\u001b[A\u001b[A\u001b[A\u001b[A\u001b[A\u001b[A\u001b[A\u001b[A\u001b[A\u001b[A\u001b[A\n",
            "\n",
            "\n",
            "\n",
            "\n",
            "\n",
            "\n",
            "\n",
            "\n",
            "\n",
            "pillow-11.3.0        | 40.5 MB   | :  94% 0.9387184563514875/1 [00:01<00:00,  2.01s/it]\n",
            "\n",
            "\n",
            "\n",
            "\n",
            "\n",
            "\n",
            "\n",
            "\n",
            "sqlalchemy-2.0.43    | 3.5 MB    | :  51% 0.5065865628431004/1 [00:01<00:01,  2.31s/it]   \u001b[A\u001b[A\u001b[A\u001b[A\u001b[A\u001b[A\u001b[A\u001b[A\u001b[A\n",
            "\n",
            "\n",
            "\n",
            "\n",
            "\n",
            "\n",
            "\n",
            "\n",
            "\n",
            "\n",
            "\n",
            "fonttools-4.59.2     | 2.8 MB    | :  83% 0.8318224875459148/1 [00:01<00:00,  1.44s/it]   \u001b[A\u001b[A\u001b[A\u001b[A\u001b[A\u001b[A\u001b[A\u001b[A\u001b[A\u001b[A\u001b[A\u001b[A\n",
            "\n",
            "\n",
            "\n",
            "\n",
            "\n",
            "\n",
            "\n",
            "\n",
            "\n",
            "\n",
            "libboost-1.86.0      | 2.8 MB    | :  78% 0.7838995042399194/1 [00:01<00:00,  1.53s/it]    \u001b[A\u001b[A\u001b[A\u001b[A\u001b[A\u001b[A\u001b[A\u001b[A\u001b[A\u001b[A\u001b[A\n",
            "\n",
            "\n",
            "\n",
            "\n",
            "\n",
            "\n",
            "\n",
            "\n",
            "\n",
            "pillow-11.3.0        | 40.5 MB   | :  99% 0.9904618842211294/1 [00:01<00:00,  2.03s/it]\n",
            "\n",
            "\n",
            "\n",
            "\n",
            "\n",
            "\n",
            "\n",
            "\n",
            "sqlalchemy-2.0.43    | 3.5 MB    | :  98% 0.9815114655085072/1 [00:01<00:00,  1.11s/it]\u001b[A\u001b[A\u001b[A\u001b[A\u001b[A\u001b[A\u001b[A\u001b[A\u001b[A\n",
            "\n",
            "\n",
            "\n",
            "\n",
            "\n",
            "\n",
            "\n",
            "\n",
            "\n",
            "\n",
            "\n",
            "fonttools-4.59.2     | 2.8 MB    | : 100% 1.0/1 [00:01<00:00,  1.44s/it]               \u001b[A\u001b[A\u001b[A\u001b[A\u001b[A\u001b[A\u001b[A\u001b[A\u001b[A\u001b[A\u001b[A\u001b[A\n",
            "\n",
            "\n",
            "\n",
            "\n",
            "\n",
            "\n",
            "\n",
            "\n",
            "\n",
            "\n",
            "libboost-1.86.0      | 2.8 MB    | : 100% 1.0/1 [00:01<00:00,  1.53s/it]               \u001b[A\u001b[A\u001b[A\u001b[A\u001b[A\u001b[A\u001b[A\u001b[A\u001b[A\u001b[A\u001b[A\n",
            "\n",
            "\n",
            "\n",
            "\n",
            "\n",
            "\n",
            "\n",
            "\n",
            "\n",
            "openssl-3.5.2        | 3.0 MB    | : 100% 1.0/1 [00:01<00:00,  1.18s/it]               \u001b[A\u001b[A\u001b[A\u001b[A\u001b[A\u001b[A\u001b[A\u001b[A\u001b[A\u001b[A\n",
            "\n",
            "\n",
            "\n",
            "\n",
            "\n",
            "\n",
            "\n",
            "\n",
            "\n",
            "openssl-3.5.2        | 3.0 MB    | : 100% 1.0/1 [00:01<00:00,  1.18s/it]\u001b[A\u001b[A\u001b[A\u001b[A\u001b[A\u001b[A\u001b[A\u001b[A\u001b[A\u001b[A\n",
            "\n",
            "\n",
            "\n",
            "\n",
            "\n",
            "\n",
            "\n",
            "\n",
            "sqlalchemy-2.0.43    | 3.5 MB    | : 100% 1.0/1 [00:01<00:00,  1.11s/it]               \u001b[A\u001b[A\u001b[A\u001b[A\u001b[A\u001b[A\u001b[A\u001b[A\u001b[A\n",
            "\n",
            "\n",
            "\n",
            "\n",
            "\n",
            "\n",
            "\n",
            "\n",
            "\n",
            "\n",
            "\n",
            "\n",
            "reportlab-4.4.3      | 2.7 MB    | :   1% 0.005835287748709374/1 [00:01<05:09, 311.70s/it]\u001b[A\u001b[A\u001b[A\u001b[A\u001b[A\u001b[A\u001b[A\u001b[A\u001b[A\u001b[A\u001b[A\u001b[A\u001b[A\n",
            "\n",
            "\n",
            "\n",
            "\n",
            "\n",
            "\n",
            "\n",
            "\n",
            "\n",
            "\n",
            "\n",
            "\n",
            "\n",
            "libpq-17.6           | 2.5 MB    | :   1% 0.00620069841118457/1 [00:01<04:56, 298.39s/it]\u001b[A\u001b[A\u001b[A\u001b[A\u001b[A\u001b[A\u001b[A\u001b[A\u001b[A\u001b[A\u001b[A\u001b[A\u001b[A\u001b[A\n",
            "\n",
            "\n",
            "\n",
            "\n",
            "\n",
            "\n",
            "\n",
            "\n",
            "\n",
            "\n",
            "\n",
            "\n",
            "\n",
            "\n",
            "font-ttf-ubuntu-0.83 | 1.5 MB    | :   1% 0.010110434778315882/1 [00:01<03:02, 184.08s/it]\u001b[A\u001b[A\u001b[A\u001b[A\u001b[A\u001b[A\u001b[A\u001b[A\u001b[A\u001b[A\u001b[A\u001b[A\u001b[A\u001b[A\u001b[A\n",
            "\n",
            "\n",
            "\n",
            "\n",
            "\n",
            "\n",
            "\n",
            "\n",
            "\n",
            "\n",
            "\n",
            "\n",
            "\n",
            "\n",
            "\n",
            "libgfortran5-14.2.0  | 1.4 MB    | :   1% 0.011206734985068174/1 [00:01<02:44, 166.71s/it]\u001b[A\u001b[A\u001b[A\u001b[A\u001b[A\u001b[A\u001b[A\u001b[A\u001b[A\u001b[A\u001b[A\u001b[A\u001b[A\u001b[A\u001b[A\u001b[A\n",
            "\n",
            "\n",
            "\n",
            "\n",
            "\n",
            "\n",
            "\n",
            "\n",
            "\n",
            "\n",
            "\n",
            "\n",
            "reportlab-4.4.3      | 2.7 MB    | :  86% 0.857787299060278/1 [00:01<00:00,  1.60s/it]    \u001b[A\u001b[A\u001b[A\u001b[A\u001b[A\u001b[A\u001b[A\u001b[A\u001b[A\u001b[A\u001b[A\u001b[A\u001b[A\n",
            "\n",
            "\n",
            "\n",
            "\n",
            "\n",
            "\n",
            "\n",
            "\n",
            "\n",
            "\n",
            "\n",
            "\n",
            "\n",
            "\n",
            "\n",
            "libgfortran5-14.2.0  | 1.4 MB    | : 100% 1.0/1 [00:01<00:00, 166.71s/it]                 \u001b[A\u001b[A\u001b[A\u001b[A\u001b[A\u001b[A\u001b[A\u001b[A\u001b[A\u001b[A\u001b[A\u001b[A\u001b[A\u001b[A\u001b[A\u001b[A\n",
            "\n",
            "\n",
            "\n",
            "\n",
            "\n",
            "\n",
            "\n",
            "\n",
            "\n",
            "\n",
            "\n",
            "\n",
            "\n",
            "\n",
            "font-ttf-ubuntu-0.83 | 1.5 MB    | : 100% 1.0/1 [00:01<00:00,  1.44s/it]                  \u001b[A\u001b[A\u001b[A\u001b[A\u001b[A\u001b[A\u001b[A\u001b[A\u001b[A\u001b[A\u001b[A\u001b[A\u001b[A\u001b[A\u001b[A\n",
            "\n",
            "\n",
            "\n",
            "\n",
            "\n",
            "\n",
            "\n",
            "\n",
            "\n",
            "\n",
            "\n",
            "\n",
            "\n",
            "\n",
            "font-ttf-ubuntu-0.83 | 1.5 MB    | : 100% 1.0/1 [00:01<00:00,  1.44s/it]\u001b[A\u001b[A\u001b[A\u001b[A\u001b[A\u001b[A\u001b[A\u001b[A\u001b[A\u001b[A\u001b[A\u001b[A\u001b[A\u001b[A\u001b[A\n",
            "\n",
            "\n",
            "\n",
            "\n",
            "\n",
            "\n",
            "\n",
            "\n",
            "\n",
            "\n",
            "\n",
            "\n",
            "\n",
            "libpq-17.6           | 2.5 MB    | : 100% 1.0/1 [00:02<00:00,  1.45s/it]                 \u001b[A\u001b[A\u001b[A\u001b[A\u001b[A\u001b[A\u001b[A\u001b[A\u001b[A\u001b[A\u001b[A\u001b[A\u001b[A\u001b[A\n",
            "\n",
            "\n",
            "\n",
            "\n",
            "\n",
            "\n",
            "\n",
            "\n",
            "\n",
            "\n",
            "\n",
            "\n",
            "\n",
            "libpq-17.6           | 2.5 MB    | : 100% 1.0/1 [00:02<00:00,  1.45s/it]\u001b[A\u001b[A\u001b[A\u001b[A\u001b[A\u001b[A\u001b[A\u001b[A\u001b[A\u001b[A\u001b[A\u001b[A\u001b[A\u001b[A\n",
            "\n",
            "\n",
            "\n",
            "\n",
            "\n",
            "\n",
            "\n",
            "\n",
            "\n",
            "\n",
            "\n",
            "\n",
            "reportlab-4.4.3      | 2.7 MB    | : 100% 1.0/1 [00:02<00:00,  1.60s/it]              \u001b[A\u001b[A\u001b[A\u001b[A\u001b[A\u001b[A\u001b[A\u001b[A\u001b[A\u001b[A\u001b[A\u001b[A\u001b[A\n",
            "\n",
            "\n",
            "\n",
            "\n",
            "\n",
            "\n",
            "\n",
            "\n",
            "\n",
            "\n",
            "\n",
            "\n",
            "\n",
            "\n",
            "\n",
            "\n",
            "conda-24.11.3        | 1.1 MB    | :   1% 0.01364371451460054/1 [00:02<02:28, 150.28s/it]\u001b[A\u001b[A\u001b[A\u001b[A\u001b[A\u001b[A\u001b[A\u001b[A\u001b[A\u001b[A\u001b[A\u001b[A\u001b[A\u001b[A\u001b[A\u001b[A\u001b[A\n",
            "\n",
            "\n",
            "\n",
            "\n",
            "\n",
            "\n",
            "\n",
            "\n",
            "\n",
            "\n",
            "\n",
            "\n",
            "\n",
            "\n",
            "\n",
            "\n",
            "\n",
            "cairo-1.18.4         | 955 KB    | :   2% 0.016750603712859646/1 [00:02<02:01, 123.64s/it]\u001b[A\u001b[A\u001b[A\u001b[A\u001b[A\u001b[A\u001b[A\u001b[A\u001b[A\u001b[A\u001b[A\u001b[A\u001b[A\u001b[A\u001b[A\u001b[A\u001b[A\u001b[A\n",
            "\n",
            "\n",
            "\n",
            "\n",
            "\n",
            "\n",
            "\n",
            "\n",
            "\n",
            "\n",
            "\n",
            "\n",
            "\n",
            "\n",
            "\n",
            "\n",
            "\n",
            "\n",
            " ... (more hidden) ...\u001b[A\u001b[A\u001b[A\u001b[A\u001b[A\u001b[A\u001b[A\u001b[A\u001b[A\u001b[A\u001b[A\u001b[A\u001b[A\u001b[A\u001b[A\u001b[A\u001b[A\u001b[A\u001b[A\n",
            "\n",
            "\n",
            "\n",
            "\n",
            "\n",
            "\n",
            "\n",
            "\n",
            "\n",
            "\n",
            "\n",
            "\n",
            "\n",
            "\n",
            "\n",
            "\n",
            "\n",
            "cairo-1.18.4         | 955 KB    | : 100% 1.0/1 [00:02<00:00, 123.64s/it]                 \u001b[A\u001b[A\u001b[A\u001b[A\u001b[A\u001b[A\u001b[A\u001b[A\u001b[A\u001b[A\u001b[A\u001b[A\u001b[A\u001b[A\u001b[A\u001b[A\u001b[A\u001b[A\n",
            "\n",
            "\n",
            "\n",
            "\n",
            "\n",
            "\n",
            "\n",
            "\n",
            "\n",
            "\n",
            "\n",
            "\n",
            "\n",
            "\n",
            "\n",
            "\n",
            "conda-24.11.3        | 1.1 MB    | : 100% 1.0/1 [00:02<00:00,  1.55s/it]                 \u001b[A\u001b[A\u001b[A\u001b[A\u001b[A\u001b[A\u001b[A\u001b[A\u001b[A\u001b[A\u001b[A\u001b[A\u001b[A\u001b[A\u001b[A\u001b[A\u001b[A\n",
            "\n",
            "\n",
            "\n",
            "\n",
            "\n",
            "\n",
            "\n",
            "\n",
            "\n",
            "\n",
            "\n",
            "\n",
            "\n",
            "\n",
            "\n",
            "\n",
            "\n",
            "\n",
            " ... (more hidden) ...\u001b[A\u001b[A\u001b[A\u001b[A\u001b[A\u001b[A\u001b[A\u001b[A\u001b[A\u001b[A\u001b[A\u001b[A\u001b[A\u001b[A\u001b[A\u001b[A\u001b[A\u001b[A\u001b[A\n",
            "\n",
            "\n",
            "\n",
            "\n",
            "\n",
            "\n",
            "\n",
            "\n",
            "\n",
            "\n",
            "\n",
            "\n",
            "\n",
            "\n",
            "\n",
            "\n",
            "pillow-11.3.0        | 40.5 MB   | : 100% 1.0/1 [00:02<00:00,  2.03s/it]               \n",
            "\n",
            "\n",
            "icu-75.1             | 11.6 MB   | : 100% 1.0/1 [00:02<00:00,  2.18it/s]\u001b[A\u001b[A\u001b[A\n",
            "\n",
            "\n",
            "\n",
            "librdkit-2025.03.6   | 9.5 MB    | : 100% 1.0/1 [00:02<00:00,  2.47it/s]\u001b[A\u001b[A\u001b[A\u001b[A\n",
            "rdkit-2025.03.6      | 19.3 MB   | : 100% 1.0/1 [00:05<00:00,  1.47s/it]\u001b[A\n",
            "\n",
            "\n",
            "\n",
            "\n",
            "\n",
            "\n",
            "libopenblas-0.3.29   | 5.6 MB    | : 100% 1.0/1 [00:05<00:00,  1.27it/s]\u001b[A\u001b[A\u001b[A\u001b[A\u001b[A\u001b[A\u001b[A\n",
            "\n",
            "pandas-2.3.2         | 14.6 MB   | : 100% 1.0/1 [00:06<00:00,  2.19it/s]\u001b[A\u001b[A\n",
            "\n",
            "\n",
            "\n",
            "\n",
            "\n",
            "matplotlib-base-3.10 | 8.1 MB    | : 100% 1.0/1 [00:06<00:00,  1.18it/s]\u001b[A\u001b[A\u001b[A\u001b[A\u001b[A\u001b[A\n",
            "\n",
            "\n",
            "\n",
            "\n",
            "\n",
            "\n",
            "\n",
            "libglib-2.82.2       | 3.7 MB    | : 100% 1.0/1 [00:07<00:00,  1.01s/it]\u001b[A\u001b[A\u001b[A\u001b[A\u001b[A\u001b[A\u001b[A\u001b[A\n",
            "\n",
            "\n",
            "\n",
            "\n",
            "numpy-2.3.3          | 9.0 MB    | : 100% 1.0/1 [00:07<00:00,  1.18it/s]\u001b[A\u001b[A\u001b[A\u001b[A\u001b[A\n",
            "\n",
            "\n",
            "\n",
            "\n",
            "\n",
            "\n",
            "\n",
            "\n",
            "\n",
            "\n",
            "\n",
            "fonttools-4.59.2     | 2.8 MB    | : 100% 1.0/1 [00:07<00:00,  1.44s/it]\u001b[A\u001b[A\u001b[A\u001b[A\u001b[A\u001b[A\u001b[A\u001b[A\u001b[A\u001b[A\u001b[A\u001b[A\n",
            "\n",
            "\n",
            "\n",
            "\n",
            "\n",
            "\n",
            "\n",
            "\n",
            "\n",
            "\n",
            "libboost-1.86.0      | 2.8 MB    | : 100% 1.0/1 [00:07<00:00,  1.53s/it]\u001b[A\u001b[A\u001b[A\u001b[A\u001b[A\u001b[A\u001b[A\u001b[A\u001b[A\u001b[A\u001b[A\n",
            "\n",
            "\n",
            "\n",
            "\n",
            "\n",
            "\n",
            "\n",
            "\n",
            "\n",
            "openssl-3.5.2        | 3.0 MB    | : 100% 1.0/1 [00:08<00:00,  1.18s/it]\u001b[A\u001b[A\u001b[A\u001b[A\u001b[A\u001b[A\u001b[A\u001b[A\u001b[A\u001b[A\n",
            "\n",
            "\n",
            "\n",
            "\n",
            "\n",
            "\n",
            "\n",
            "\n",
            "\n",
            "\n",
            "\n",
            "\n",
            "\n",
            "\n",
            "\n",
            "libgfortran5-14.2.0  | 1.4 MB    | : 100% 1.0/1 [00:08<00:00,  7.73s/it] \u001b[A\u001b[A\u001b[A\u001b[A\u001b[A\u001b[A\u001b[A\u001b[A\u001b[A\u001b[A\u001b[A\u001b[A\u001b[A\u001b[A\u001b[A\u001b[A\n",
            "\n",
            "\n",
            "\n",
            "\n",
            "\n",
            "\n",
            "\n",
            "\n",
            "\n",
            "\n",
            "\n",
            "\n",
            "\n",
            "\n",
            "\n",
            "libgfortran5-14.2.0  | 1.4 MB    | : 100% 1.0/1 [00:08<00:00,  7.73s/it]\u001b[A\u001b[A\u001b[A\u001b[A\u001b[A\u001b[A\u001b[A\u001b[A\u001b[A\u001b[A\u001b[A\u001b[A\u001b[A\u001b[A\u001b[A\u001b[A\n",
            "\n",
            "\n",
            "\n",
            "\n",
            "\n",
            "\n",
            "\n",
            "\n",
            "\n",
            "\n",
            "\n",
            "\n",
            "\n",
            "\n",
            "font-ttf-ubuntu-0.83 | 1.5 MB    | : 100% 1.0/1 [00:08<00:00,  1.44s/it]\u001b[A\u001b[A\u001b[A\u001b[A\u001b[A\u001b[A\u001b[A\u001b[A\u001b[A\u001b[A\u001b[A\u001b[A\u001b[A\u001b[A\u001b[A\n",
            "\n",
            "\n",
            "\n",
            "\n",
            "\n",
            "\n",
            "\n",
            "\n",
            "sqlalchemy-2.0.43    | 3.5 MB    | : 100% 1.0/1 [00:08<00:00,  1.11s/it]\u001b[A\u001b[A\u001b[A\u001b[A\u001b[A\u001b[A\u001b[A\u001b[A\u001b[A\n",
            "\n",
            "\n",
            "\n",
            "\n",
            "\n",
            "\n",
            "\n",
            "\n",
            "\n",
            "\n",
            "\n",
            "\n",
            "reportlab-4.4.3      | 2.7 MB    | : 100% 1.0/1 [00:08<00:00,  1.60s/it]\u001b[A\u001b[A\u001b[A\u001b[A\u001b[A\u001b[A\u001b[A\u001b[A\u001b[A\u001b[A\u001b[A\u001b[A\u001b[A\n",
            "\n",
            "\n",
            "\n",
            "\n",
            "\n",
            "\n",
            "\n",
            "\n",
            "\n",
            "\n",
            "\n",
            "\n",
            "\n",
            "\n",
            "\n",
            "\n",
            "\n",
            "cairo-1.18.4         | 955 KB    | : 100% 1.0/1 [00:09<00:00,  8.52s/it] \u001b[A\u001b[A\u001b[A\u001b[A\u001b[A\u001b[A\u001b[A\u001b[A\u001b[A\u001b[A\u001b[A\u001b[A\u001b[A\u001b[A\u001b[A\u001b[A\u001b[A\u001b[A\n",
            "\n",
            "\n",
            "\n",
            "\n",
            "\n",
            "\n",
            "\n",
            "\n",
            "\n",
            "\n",
            "\n",
            "\n",
            "\n",
            "\n",
            "\n",
            "\n",
            "\n",
            "cairo-1.18.4         | 955 KB    | : 100% 1.0/1 [00:09<00:00,  8.52s/it]\u001b[A\u001b[A\u001b[A\u001b[A\u001b[A\u001b[A\u001b[A\u001b[A\u001b[A\u001b[A\u001b[A\u001b[A\u001b[A\u001b[A\u001b[A\u001b[A\u001b[A\u001b[A\n",
            "\n",
            "\n",
            "\n",
            "\n",
            "\n",
            "\n",
            "\n",
            "\n",
            "\n",
            "\n",
            "\n",
            "\n",
            "\n",
            "libpq-17.6           | 2.5 MB    | : 100% 1.0/1 [00:09<00:00,  1.45s/it]\u001b[A\u001b[A\u001b[A\u001b[A\u001b[A\u001b[A\u001b[A\u001b[A\u001b[A\u001b[A\u001b[A\u001b[A\u001b[A\u001b[A\n",
            "\n",
            "\n",
            "\n",
            "\n",
            "\n",
            "\n",
            "\n",
            "\n",
            "\n",
            "\n",
            "\n",
            "\n",
            "\n",
            "\n",
            "\n",
            "\n",
            "\n",
            "\n",
            " ... (more hidden) ...\u001b[A\u001b[A\u001b[A\u001b[A\u001b[A\u001b[A\u001b[A\u001b[A\u001b[A\u001b[A\u001b[A\u001b[A\u001b[A\u001b[A\u001b[A\u001b[A\u001b[A\u001b[A\u001b[A\n",
            "\n",
            "\n",
            "\n",
            "\n",
            "\n",
            "\n",
            "\n",
            "\n",
            "\n",
            "\n",
            "\n",
            "\n",
            "\n",
            "\n",
            "\n",
            "\n",
            "\n",
            "\n",
            " ... (more hidden) ...\u001b[A\u001b[A\u001b[A\u001b[A\u001b[A\u001b[A\u001b[A\u001b[A\u001b[A\u001b[A\u001b[A\u001b[A\u001b[A\u001b[A\u001b[A\u001b[A\u001b[A\u001b[A\u001b[A\n",
            "\n",
            "\n",
            "\n",
            "\n",
            "\n",
            "\n",
            "\n",
            "\n",
            "\n",
            "\n",
            "\n",
            "\n",
            "\n",
            "\n",
            "\n",
            "\n",
            "pillow-11.3.0        | 40.5 MB   | : 100% 1.0/1 [00:12<00:00,  2.03s/it]\n",
            "\n",
            "\n",
            "\n",
            "\n",
            "\n",
            "\n",
            "\n",
            "\n",
            "\n",
            "\n",
            "\n",
            "\n",
            "\n",
            "\n",
            "\n",
            "\n",
            "\n",
            "\n",
            "                                                                        \n",
            "                                                                        \u001b[A\n",
            "\n",
            "                                                                        \u001b[A\u001b[A\n",
            "\n",
            "\n",
            "                                                                        \u001b[A\u001b[A\u001b[A\n",
            "\n",
            "\n",
            "\n",
            "                                                                        \u001b[A\u001b[A\u001b[A\u001b[A\n",
            "\n",
            "\n",
            "\n",
            "\n",
            "                                                                        \u001b[A\u001b[A\u001b[A\u001b[A\u001b[A\n",
            "\n",
            "\n",
            "\n",
            "\n",
            "\n",
            "                                                                        \u001b[A\u001b[A\u001b[A\u001b[A\u001b[A\u001b[A\n",
            "\n",
            "\n",
            "\n",
            "\n",
            "\n",
            "\n",
            "                                                                        \u001b[A\u001b[A\u001b[A\u001b[A\u001b[A\u001b[A\u001b[A\n",
            "\n",
            "\n",
            "\n",
            "\n",
            "\n",
            "\n",
            "\n",
            "                                                                        \u001b[A\u001b[A\u001b[A\u001b[A\u001b[A\u001b[A\u001b[A\u001b[A\n",
            "\n",
            "\n",
            "\n",
            "\n",
            "\n",
            "\n",
            "\n",
            "\n",
            "                                                                        \u001b[A\u001b[A\u001b[A\u001b[A\u001b[A\u001b[A\u001b[A\u001b[A\u001b[A\n",
            "\n",
            "\n",
            "\n",
            "\n",
            "\n",
            "\n",
            "\n",
            "\n",
            "\n",
            "                                                                        \u001b[A\u001b[A\u001b[A\u001b[A\u001b[A\u001b[A\u001b[A\u001b[A\u001b[A\u001b[A\n",
            "\n",
            "\n",
            "\n",
            "\n",
            "\n",
            "\n",
            "\n",
            "\n",
            "\n",
            "\n",
            "                                                                        \u001b[A\u001b[A\u001b[A\u001b[A\u001b[A\u001b[A\u001b[A\u001b[A\u001b[A\u001b[A\u001b[A\n",
            "\n",
            "\n",
            "\n",
            "\n",
            "\n",
            "\n",
            "\n",
            "\n",
            "\n",
            "\n",
            "\n",
            "                                                                        \u001b[A\u001b[A\u001b[A\u001b[A\u001b[A\u001b[A\u001b[A\u001b[A\u001b[A\u001b[A\u001b[A\u001b[A\n",
            "\n",
            "\n",
            "\n",
            "\n",
            "\n",
            "\n",
            "\n",
            "\n",
            "\n",
            "\n",
            "\n",
            "\n",
            "                                                                        \u001b[A\u001b[A\u001b[A\u001b[A\u001b[A\u001b[A\u001b[A\u001b[A\u001b[A\u001b[A\u001b[A\u001b[A\u001b[A\n",
            "\n",
            "\n",
            "\n",
            "\n",
            "\n",
            "\n",
            "\n",
            "\n",
            "\n",
            "\n",
            "\n",
            "\n",
            "\n",
            "                                                                        \u001b[A\u001b[A\u001b[A\u001b[A\u001b[A\u001b[A\u001b[A\u001b[A\u001b[A\u001b[A\u001b[A\u001b[A\u001b[A\u001b[A\n",
            "\n",
            "\n",
            "\n",
            "\n",
            "\n",
            "\n",
            "\n",
            "\n",
            "\n",
            "\n",
            "\n",
            "\n",
            "\n",
            "\n",
            "                                                                        \u001b[A\u001b[A\u001b[A\u001b[A\u001b[A\u001b[A\u001b[A\u001b[A\u001b[A\u001b[A\u001b[A\u001b[A\u001b[A\u001b[A\u001b[A\n",
            "\n",
            "\n",
            "\n",
            "\n",
            "\n",
            "\n",
            "\n",
            "\n",
            "\n",
            "\n",
            "\n",
            "\n",
            "\n",
            "\n",
            "\n",
            "                                                                        \u001b[A\u001b[A\u001b[A\u001b[A\u001b[A\u001b[A\u001b[A\u001b[A\u001b[A\u001b[A\u001b[A\u001b[A\u001b[A\u001b[A\u001b[A\u001b[A\n",
            "\n",
            "\n",
            "\n",
            "\n",
            "\n",
            "\n",
            "\n",
            "\n",
            "\n",
            "\n",
            "\n",
            "\n",
            "\n",
            "\n",
            "\n",
            "\n",
            "                                                                        \u001b[A\u001b[A\u001b[A\u001b[A\u001b[A\u001b[A\u001b[A\u001b[A\u001b[A\u001b[A\u001b[A\u001b[A\u001b[A\u001b[A\u001b[A\u001b[A\u001b[A\n",
            "\n",
            "\n",
            "\n",
            "\n",
            "\n",
            "\n",
            "\n",
            "\n",
            "\n",
            "\n",
            "\n",
            "\n",
            "\n",
            "\n",
            "\n",
            "\n",
            "\n",
            "                                                                        \u001b[A\u001b[A\u001b[A\u001b[A\u001b[A\u001b[A\u001b[A\u001b[A\u001b[A\u001b[A\u001b[A\u001b[A\u001b[A\u001b[A\u001b[A\u001b[A\u001b[A\u001b[A\n",
            "\u001b[A\n",
            "\n",
            "\u001b[A\u001b[A\n",
            "\n",
            "\n",
            "\u001b[A\u001b[A\u001b[A\n",
            "\n",
            "\n",
            "\n",
            "\u001b[A\u001b[A\u001b[A\u001b[A\n",
            "\n",
            "\n",
            "\n",
            "\n",
            "\u001b[A\u001b[A\u001b[A\u001b[A\u001b[A\n",
            "\n",
            "\n",
            "\n",
            "\n",
            "\n",
            "\u001b[A\u001b[A\u001b[A\u001b[A\u001b[A\u001b[A\n",
            "\n",
            "\n",
            "\n",
            "\n",
            "\n",
            "\n",
            "\u001b[A\u001b[A\u001b[A\u001b[A\u001b[A\u001b[A\u001b[A\n",
            "\n",
            "\n",
            "\n",
            "\n",
            "\n",
            "\n",
            "\n",
            "\u001b[A\u001b[A\u001b[A\u001b[A\u001b[A\u001b[A\u001b[A\u001b[A\n",
            "\n",
            "\n",
            "\n",
            "\n",
            "\n",
            "\n",
            "\n",
            "\n",
            "\u001b[A\u001b[A\u001b[A\u001b[A\u001b[A\u001b[A\u001b[A\u001b[A\u001b[A\n",
            "\n",
            "\n",
            "\n",
            "\n",
            "\n",
            "\n",
            "\n",
            "\n",
            "\n",
            "\u001b[A\u001b[A\u001b[A\u001b[A\u001b[A\u001b[A\u001b[A\u001b[A\u001b[A\u001b[A\n",
            "\n",
            "\n",
            "\n",
            "\n",
            "\n",
            "\n",
            "\n",
            "\n",
            "\n",
            "\n",
            "\u001b[A\u001b[A\u001b[A\u001b[A\u001b[A\u001b[A\u001b[A\u001b[A\u001b[A\u001b[A\u001b[A\n",
            "\n",
            "\n",
            "\n",
            "\n",
            "\n",
            "\n",
            "\n",
            "\n",
            "\n",
            "\n",
            "\n",
            "\u001b[A\u001b[A\u001b[A\u001b[A\u001b[A\u001b[A\u001b[A\u001b[A\u001b[A\u001b[A\u001b[A\u001b[A\n",
            "\n",
            "\n",
            "\n",
            "\n",
            "\n",
            "\n",
            "\n",
            "\n",
            "\n",
            "\n",
            "\n",
            "\n",
            "\u001b[A\u001b[A\u001b[A\u001b[A\u001b[A\u001b[A\u001b[A\u001b[A\u001b[A\u001b[A\u001b[A\u001b[A\u001b[A\n",
            "\n",
            "\n",
            "\n",
            "\n",
            "\n",
            "\n",
            "\n",
            "\n",
            "\n",
            "\n",
            "\n",
            "\n",
            "\n",
            "\u001b[A\u001b[A\u001b[A\u001b[A\u001b[A\u001b[A\u001b[A\u001b[A\u001b[A\u001b[A\u001b[A\u001b[A\u001b[A\u001b[A\n",
            "\n",
            "\n",
            "\n",
            "\n",
            "\n",
            "\n",
            "\n",
            "\n",
            "\n",
            "\n",
            "\n",
            "\n",
            "\n",
            "\n",
            "\u001b[A\u001b[A\u001b[A\u001b[A\u001b[A\u001b[A\u001b[A\u001b[A\u001b[A\u001b[A\u001b[A\u001b[A\u001b[A\u001b[A\u001b[A\n",
            "\n",
            "\n",
            "\n",
            "\n",
            "\n",
            "\n",
            "\n",
            "\n",
            "\n",
            "\n",
            "\n",
            "\n",
            "\n",
            "\n",
            "\n",
            "\u001b[A\u001b[A\u001b[A\u001b[A\u001b[A\u001b[A\u001b[A\u001b[A\u001b[A\u001b[A\u001b[A\u001b[A\u001b[A\u001b[A\u001b[A\u001b[A\n",
            "\n",
            "\n",
            "\n",
            "\n",
            "\n",
            "\n",
            "\n",
            "\n",
            "\n",
            "\n",
            "\n",
            "\n",
            "\n",
            "\n",
            "\n",
            "\n",
            "\u001b[A\u001b[A\u001b[A\u001b[A\u001b[A\u001b[A\u001b[A\u001b[A\u001b[A\u001b[A\u001b[A\u001b[A\u001b[A\u001b[A\u001b[A\u001b[A\u001b[A\n",
            "\n",
            "\n",
            "\n",
            "\n",
            "\n",
            "\n",
            "\n",
            "\n",
            "\n",
            "\n",
            "\n",
            "\n",
            "\n",
            "\n",
            "\n",
            "\n",
            "\n",
            "\u001b[A\u001b[A\u001b[A\u001b[A\u001b[A\u001b[A\u001b[A\u001b[A\u001b[A\u001b[A\u001b[A\u001b[A\u001b[A\u001b[A\u001b[A\u001b[A\u001b[A\u001b[A\n",
            "\u001b[A\n",
            "\n",
            "\u001b[A\u001b[A\n",
            "\n",
            "\n",
            "\u001b[A\u001b[A\u001b[A\n",
            "\n",
            "\n",
            "\n",
            "\u001b[A\u001b[A\u001b[A\u001b[A\n",
            "\n",
            "\n",
            "\n",
            "\n",
            "\u001b[A\u001b[A\u001b[A\u001b[A\u001b[A\n",
            "\n",
            "\n",
            "\n",
            "\n",
            "\n",
            "\u001b[A\u001b[A\u001b[A\u001b[A\u001b[A\u001b[A\n",
            "\n",
            "\n",
            "\n",
            "\n",
            "\n",
            "\n",
            "\u001b[A\u001b[A\u001b[A\u001b[A\u001b[A\u001b[A\u001b[A\n",
            "\n",
            "\n",
            "\n",
            "\n",
            "\n",
            "\n",
            "\n",
            "\u001b[A\u001b[A\u001b[A\u001b[A\u001b[A\u001b[A\u001b[A\u001b[A\n",
            "\n",
            "\n",
            "\n",
            "\n",
            "\n",
            "\n",
            "\n",
            "\n",
            "\u001b[A\u001b[A\u001b[A\u001b[A\u001b[A\u001b[A\u001b[A\u001b[A\u001b[A\n",
            "\n",
            "\n",
            "\n",
            "\n",
            "\n",
            "\n",
            "\n",
            "\n",
            "\n",
            "\u001b[A\u001b[A\u001b[A\u001b[A\u001b[A\u001b[A\u001b[A\u001b[A\u001b[A\u001b[A\n",
            "\n",
            "\n",
            "\n",
            "\n",
            "\n",
            "\n",
            "\n",
            "\n",
            "\n",
            "\n",
            "\u001b[A\u001b[A\u001b[A\u001b[A\u001b[A\u001b[A\u001b[A\u001b[A\u001b[A\u001b[A\u001b[A\n",
            "\n",
            "\n",
            "\n",
            "\n",
            "\n",
            "\n",
            "\n",
            "\n",
            "\n",
            "\n",
            "\n",
            "\u001b[A\u001b[A\u001b[A\u001b[A\u001b[A\u001b[A\u001b[A\u001b[A\u001b[A\u001b[A\u001b[A\u001b[A\n",
            "\n",
            "\n",
            "\n",
            "\n",
            "\n",
            "\n",
            "\n",
            "\n",
            "\n",
            "\n",
            "\n",
            "\n",
            "\u001b[A\u001b[A\u001b[A\u001b[A\u001b[A\u001b[A\u001b[A\u001b[A\u001b[A\u001b[A\u001b[A\u001b[A\u001b[A\n",
            "\n",
            "\n",
            "\n",
            "\n",
            "\n",
            "\n",
            "\n",
            "\n",
            "\n",
            "\n",
            "\n",
            "\n",
            "\n",
            "\u001b[A\u001b[A\u001b[A\u001b[A\u001b[A\u001b[A\u001b[A\u001b[A\u001b[A\u001b[A\u001b[A\u001b[A\u001b[A\u001b[A\n",
            "\n",
            "\n",
            "\n",
            "\n",
            "\n",
            "\n",
            "\n",
            "\n",
            "\n",
            "\n",
            "\n",
            "\n",
            "\n",
            "\n",
            "\u001b[A\u001b[A\u001b[A\u001b[A\u001b[A\u001b[A\u001b[A\u001b[A\u001b[A\u001b[A\u001b[A\u001b[A\u001b[A\u001b[A\u001b[A\n",
            "\n",
            "\n",
            "\n",
            "\n",
            "\n",
            "\n",
            "\n",
            "\n",
            "\n",
            "\n",
            "\n",
            "\n",
            "\n",
            "\n",
            "\n",
            "\u001b[A\u001b[A\u001b[A\u001b[A\u001b[A\u001b[A\u001b[A\u001b[A\u001b[A\u001b[A\u001b[A\u001b[A\u001b[A\u001b[A\u001b[A\u001b[A\n",
            "\n",
            "\n",
            "\n",
            "\n",
            "\n",
            "\n",
            "\n",
            "\n",
            "\n",
            "\n",
            "\n",
            "\n",
            "\n",
            "\n",
            "\n",
            "\n",
            "\u001b[A\u001b[A\u001b[A\u001b[A\u001b[A\u001b[A\u001b[A\u001b[A\u001b[A\u001b[A\u001b[A\u001b[A\u001b[A\u001b[A\u001b[A\u001b[A\u001b[A\n",
            "\n",
            "\n",
            "\n",
            "\n",
            "\n",
            "\n",
            "\n",
            "\n",
            "\n",
            "\n",
            "\n",
            "\n",
            "\n",
            "\n",
            "\n",
            "\n",
            "\n",
            "\u001b[A\u001b[A\u001b[A\u001b[A\u001b[A\u001b[A\u001b[A\u001b[A\u001b[A\u001b[A\u001b[A\u001b[A\u001b[A\u001b[A\u001b[A\u001b[A\u001b[A\u001b[A\n",
            "\u001b[A\n",
            "\n",
            "\u001b[A\u001b[A\n",
            "\n",
            "\n",
            "\u001b[A\u001b[A\u001b[A\n",
            "\n",
            "\n",
            "\n",
            "\u001b[A\u001b[A\u001b[A\u001b[A\n",
            "\n",
            "\n",
            "\n",
            "\n",
            "\u001b[A\u001b[A\u001b[A\u001b[A\u001b[A\n",
            "\n",
            "\n",
            "\n",
            "\n",
            "\n",
            "\u001b[A\u001b[A\u001b[A\u001b[A\u001b[A\u001b[A\n",
            "\n",
            "\n",
            "\n",
            "\n",
            "\n",
            "\n",
            "\u001b[A\u001b[A\u001b[A\u001b[A\u001b[A\u001b[A\u001b[A\n",
            "\n",
            "\n",
            "\n",
            "\n",
            "\n",
            "\n",
            "\n",
            "\u001b[A\u001b[A\u001b[A\u001b[A\u001b[A\u001b[A\u001b[A\u001b[A\n",
            "\n",
            "\n",
            "\n",
            "\n",
            "\n",
            "\n",
            "\n",
            "\n",
            "\u001b[A\u001b[A\u001b[A\u001b[A\u001b[A\u001b[A\u001b[A\u001b[A\u001b[A\n",
            "\n",
            "\n",
            "\n",
            "\n",
            "\n",
            "\n",
            "\n",
            "\n",
            "\n",
            "\u001b[A\u001b[A\u001b[A\u001b[A\u001b[A\u001b[A\u001b[A\u001b[A\u001b[A\u001b[A\n",
            "\n",
            "\n",
            "\n",
            "\n",
            "\n",
            "\n",
            "\n",
            "\n",
            "\n",
            "\n",
            "\u001b[A\u001b[A\u001b[A\u001b[A\u001b[A\u001b[A\u001b[A\u001b[A\u001b[A\u001b[A\u001b[A\n",
            "\n",
            "\n",
            "\n",
            "\n",
            "\n",
            "\n",
            "\n",
            "\n",
            "\n",
            "\n",
            "\n",
            "\u001b[A\u001b[A\u001b[A\u001b[A\u001b[A\u001b[A\u001b[A\u001b[A\u001b[A\u001b[A\u001b[A\u001b[A\n",
            "\n",
            "\n",
            "\n",
            "\n",
            "\n",
            "\n",
            "\n",
            "\n",
            "\n",
            "\n",
            "\n",
            "\n",
            "\u001b[A\u001b[A\u001b[A\u001b[A\u001b[A\u001b[A\u001b[A\u001b[A\u001b[A\u001b[A\u001b[A\u001b[A\u001b[A\n",
            "\n",
            "\n",
            "\n",
            "\n",
            "\n",
            "\n",
            "\n",
            "\n",
            "\n",
            "\n",
            "\n",
            "\n",
            "\n",
            "\u001b[A\u001b[A\u001b[A\u001b[A\u001b[A\u001b[A\u001b[A\u001b[A\u001b[A\u001b[A\u001b[A\u001b[A\u001b[A\u001b[A\n",
            "\n",
            "\n",
            "\n",
            "\n",
            "\n",
            "\n",
            "\n",
            "\n",
            "\n",
            "\n",
            "\n",
            "\n",
            "\n",
            "\n",
            "\u001b[A\u001b[A\u001b[A\u001b[A\u001b[A\u001b[A\u001b[A\u001b[A\u001b[A\u001b[A\u001b[A\u001b[A\u001b[A\u001b[A\u001b[A\n",
            "\n",
            "\n",
            "\n",
            "\n",
            "\n",
            "\n",
            "\n",
            "\n",
            "\n",
            "\n",
            "\n",
            "\n",
            "\n",
            "\n",
            "\n",
            "\u001b[A\u001b[A\u001b[A\u001b[A\u001b[A\u001b[A\u001b[A\u001b[A\u001b[A\u001b[A\u001b[A\u001b[A\u001b[A\u001b[A\u001b[A\u001b[A\n",
            "\n",
            "\n",
            "\n",
            "\n",
            "\n",
            "\n",
            "\n",
            "\n",
            "\n",
            "\n",
            "\n",
            "\n",
            "\n",
            "\n",
            "\n",
            "\n",
            "\u001b[A\u001b[A\u001b[A\u001b[A\u001b[A\u001b[A\u001b[A\u001b[A\u001b[A\u001b[A\u001b[A\u001b[A\u001b[A\u001b[A\u001b[A\u001b[A\u001b[A\n",
            "\n",
            "\n",
            "\n",
            "\n",
            "\n",
            "\n",
            "\n",
            "\n",
            "\n",
            "\n",
            "\n",
            "\n",
            "\n",
            "\n",
            "\n",
            "\n",
            "\n",
            "\u001b[A\u001b[A\u001b[A\u001b[A\u001b[A\u001b[A\u001b[A\u001b[A\u001b[A\u001b[A\u001b[A\u001b[A\u001b[A\u001b[A\u001b[A\u001b[A\u001b[A\u001b[A\n",
            "\u001b[A\n",
            "\n",
            "\u001b[A\u001b[A\n",
            "\n",
            "\n",
            "\u001b[A\u001b[A\u001b[A\n",
            "Preparing transaction: - \b\b\\ \b\b| \b\b/ \b\b- \b\bdone\n",
            "Verifying transaction: | \b\b/ \b\b- \b\b\\ \b\b| \b\b/ \b\b- \b\b\\ \b\b| \b\b/ \b\b- \b\b\\ \b\b| \b\b/ \b\b- \b\b\\ \b\b| \b\b/ \b\b- \b\bdone\n",
            "Executing transaction: | \b\b/ \b\b- \b\b\\ \b\b| \b\b/ \b\b- \b\b\\ \b\b| \b\b/ \b\b- \b\b\\ \b\b| \b\b/ \b\b- \b\b\\ \b\b| \b\b/ \b\b- \b\b\\ \b\b| \b\b/ \b\b- \b\b\\ \b\b| \b\b/ \b\b- \b\b\\ \b\bdone\n"
          ]
        }
      ]
    },
    {
      "cell_type": "code",
      "source": [
        "!pip install chembl_webresource_client tqdm"
      ],
      "metadata": {
        "id": "5E-8UBraB34P",
        "outputId": "ab907225-23e8-453e-854c-a54117112195",
        "colab": {
          "base_uri": "https://localhost:8080/"
        }
      },
      "execution_count": 11,
      "outputs": [
        {
          "output_type": "stream",
          "name": "stdout",
          "text": [
            "Requirement already satisfied: chembl_webresource_client in /usr/local/lib/python3.11/site-packages (0.10.9)\n",
            "Requirement already satisfied: tqdm in /usr/local/lib/python3.11/site-packages (4.67.1)\n",
            "Requirement already satisfied: urllib3 in /usr/local/lib/python3.11/site-packages (from chembl_webresource_client) (2.3.0)\n",
            "Requirement already satisfied: requests>=2.18.4 in /usr/local/lib/python3.11/site-packages (from chembl_webresource_client) (2.32.3)\n",
            "Requirement already satisfied: requests-cache~=1.2 in /usr/local/lib/python3.11/site-packages (from chembl_webresource_client) (1.2.1)\n",
            "Requirement already satisfied: easydict in /usr/local/lib/python3.11/site-packages (from chembl_webresource_client) (1.13)\n",
            "Requirement already satisfied: charset_normalizer<4,>=2 in /usr/local/lib/python3.11/site-packages (from requests>=2.18.4->chembl_webresource_client) (3.4.1)\n",
            "Requirement already satisfied: idna<4,>=2.5 in /usr/local/lib/python3.11/site-packages (from requests>=2.18.4->chembl_webresource_client) (3.10)\n",
            "Requirement already satisfied: certifi>=2017.4.17 in /usr/local/lib/python3.11/site-packages (from requests>=2.18.4->chembl_webresource_client) (2025.8.3)\n",
            "Requirement already satisfied: attrs>=21.2 in /usr/local/lib/python3.11/site-packages (from requests-cache~=1.2->chembl_webresource_client) (25.3.0)\n",
            "Requirement already satisfied: cattrs>=22.2 in /usr/local/lib/python3.11/site-packages (from requests-cache~=1.2->chembl_webresource_client) (25.2.0)\n",
            "Requirement already satisfied: platformdirs>=2.5 in /usr/local/lib/python3.11/site-packages (from requests-cache~=1.2->chembl_webresource_client) (4.3.6)\n",
            "Requirement already satisfied: url-normalize>=1.4 in /usr/local/lib/python3.11/site-packages (from requests-cache~=1.2->chembl_webresource_client) (2.2.1)\n",
            "Requirement already satisfied: typing-extensions>=4.12.2 in /usr/local/lib/python3.11/site-packages (from cattrs>=22.2->requests-cache~=1.2->chembl_webresource_client) (4.15.0)\n"
          ]
        }
      ]
    },
    {
      "cell_type": "markdown",
      "metadata": {
        "id": "eKrETxiL8zBb"
      },
      "source": [
        "Then, the ChEMBL web resource client as well as other Python libraries are imported."
      ]
    },
    {
      "cell_type": "code",
      "execution_count": 12,
      "metadata": {
        "colab": {
          "base_uri": "https://localhost:8080/",
          "height": 383
        },
        "id": "1GFmWd4p8zBb",
        "outputId": "bff41b47-ecad-45b2-d32b-6e9e8837b894"
      },
      "outputs": [
        {
          "output_type": "error",
          "ename": "ModuleNotFoundError",
          "evalue": "No module named 'rdkit'",
          "traceback": [
            "\u001b[0;31m---------------------------------------------------------------------------\u001b[0m",
            "\u001b[0;31mModuleNotFoundError\u001b[0m                       Traceback (most recent call last)",
            "\u001b[0;32m/tmp/ipython-input-3087553441.py\u001b[0m in \u001b[0;36m<cell line: 0>\u001b[0;34m()\u001b[0m\n\u001b[1;32m      6\u001b[0m \u001b[0;32mimport\u001b[0m \u001b[0mnumpy\u001b[0m \u001b[0;32mas\u001b[0m \u001b[0mnp\u001b[0m\u001b[0;34m\u001b[0m\u001b[0;34m\u001b[0m\u001b[0m\n\u001b[1;32m      7\u001b[0m \u001b[0;32mimport\u001b[0m \u001b[0mpandas\u001b[0m \u001b[0;32mas\u001b[0m \u001b[0mpd\u001b[0m\u001b[0;34m\u001b[0m\u001b[0;34m\u001b[0m\u001b[0m\n\u001b[0;32m----> 8\u001b[0;31m \u001b[0;32mfrom\u001b[0m \u001b[0mrdkit\u001b[0m\u001b[0;34m.\u001b[0m\u001b[0mChem\u001b[0m \u001b[0;32mimport\u001b[0m \u001b[0mPandasTools\u001b[0m\u001b[0;34m\u001b[0m\u001b[0;34m\u001b[0m\u001b[0m\n\u001b[0m\u001b[1;32m      9\u001b[0m \u001b[0;32mfrom\u001b[0m \u001b[0mchembl_webresource_client\u001b[0m\u001b[0;34m.\u001b[0m\u001b[0mnew_client\u001b[0m \u001b[0;32mimport\u001b[0m \u001b[0mnew_client\u001b[0m\u001b[0;34m\u001b[0m\u001b[0;34m\u001b[0m\u001b[0m\n\u001b[1;32m     10\u001b[0m \u001b[0;32mfrom\u001b[0m \u001b[0mtqdm\u001b[0m\u001b[0;34m.\u001b[0m\u001b[0mauto\u001b[0m \u001b[0;32mimport\u001b[0m \u001b[0mtqdm\u001b[0m\u001b[0;34m\u001b[0m\u001b[0;34m\u001b[0m\u001b[0m\n",
            "\u001b[0;31mModuleNotFoundError\u001b[0m: No module named 'rdkit'",
            "",
            "\u001b[0;31m---------------------------------------------------------------------------\u001b[0;32m\nNOTE: If your import is failing due to a missing package, you can\nmanually install dependencies using either !pip or !apt.\n\nTo view examples of installing some common dependencies, click the\n\"Open Examples\" button below.\n\u001b[0;31m---------------------------------------------------------------------------\u001b[0m\n"
          ],
          "errorDetails": {
            "actions": [
              {
                "action": "open_url",
                "actionText": "Open Examples",
                "url": "/notebooks/snippets/importing_libraries.ipynb"
              }
            ]
          }
        }
      ],
      "source": [
        "import math\n",
        "from pathlib import Path\n",
        "from zipfile import ZipFile\n",
        "from tempfile import TemporaryDirectory\n",
        "\n",
        "import numpy as np\n",
        "import pandas as pd\n",
        "from rdkit.Chem import PandasTools\n",
        "from chembl_webresource_client.new_client import new_client\n",
        "from tqdm.auto import tqdm"
      ]
    },
    {
      "cell_type": "code",
      "execution_count": null,
      "metadata": {
        "id": "xO1MwehL8zBc"
      },
      "outputs": [],
      "source": [
        "HERE = Path(_dh[-1])\n",
        "DATA = HERE / \"data\""
      ]
    },
    {
      "cell_type": "markdown",
      "metadata": {
        "id": "NgwlgZFX8zBc"
      },
      "source": [
        "Next, we create resource objects for API access."
      ]
    },
    {
      "cell_type": "code",
      "execution_count": null,
      "metadata": {
        "id": "SmYAvyD48zBc"
      },
      "outputs": [],
      "source": [
        "targets_api = new_client.target\n",
        "compounds_api = new_client.molecule\n",
        "bioactivities_api = new_client.activity"
      ]
    },
    {
      "cell_type": "code",
      "execution_count": null,
      "metadata": {
        "id": "Wn79JM9S8zBc",
        "outputId": "49f88ebc-9c42-402b-d2d7-09bfc8a595bb"
      },
      "outputs": [
        {
          "data": {
            "text/plain": [
              "chembl_webresource_client.query_set.QuerySet"
            ]
          },
          "execution_count": 4,
          "metadata": {},
          "output_type": "execute_result"
        }
      ],
      "source": [
        "type(targets_api)"
      ]
    },
    {
      "cell_type": "markdown",
      "metadata": {
        "id": "XB3C9HAG8zBd"
      },
      "source": [
        "### Get target data (EGFR kinase)\n",
        "\n",
        "* Get UniProt ID of the target of interest (EGFR kinase:  [P00533](http://www.uniprot.org/uniprot/P00533)) from [UniProt website](https://www.uniprot.org/)\n",
        "* Use UniProt ID to get target information\n",
        "\n",
        "Select a different UniProt ID, if you are interested in another target."
      ]
    },
    {
      "cell_type": "code",
      "execution_count": null,
      "metadata": {
        "id": "gr81y1uo8zBd"
      },
      "outputs": [],
      "source": [
        "uniprot_id = \"P00533\""
      ]
    },
    {
      "cell_type": "markdown",
      "metadata": {
        "id": "atafrEvA8zBd"
      },
      "source": [
        "#### Fetch target data from ChEMBL"
      ]
    },
    {
      "cell_type": "code",
      "execution_count": null,
      "metadata": {
        "id": "PLupt1j08zBd",
        "outputId": "1324a0b8-c737-40c2-a691-12741540a254"
      },
      "outputs": [
        {
          "name": "stdout",
          "output_type": "stream",
          "text": [
            "The type of the targets is \"<class 'chembl_webresource_client.query_set.QuerySet'>\"\n"
          ]
        }
      ],
      "source": [
        "# Get target information from ChEMBL but restrict it to specified values only\n",
        "targets = targets_api.get(target_components__accession=uniprot_id).only(\n",
        "    \"target_chembl_id\", \"organism\", \"pref_name\", \"target_type\"\n",
        ")\n",
        "print(f'The type of the targets is \"{type(targets)}\"')"
      ]
    },
    {
      "cell_type": "markdown",
      "metadata": {
        "id": "LJCvWxDi8zBd"
      },
      "source": [
        "#### Download target data from ChEMBL\n",
        "\n",
        "The results of the query are stored in `targets`, a `QuerySet`, i.e. the results are not fetched from ChEMBL until we ask for it (here using `pandas.DataFrame.from_records`).\n",
        "\n",
        "More information about the `QuerySet` datatype:\n",
        "\n",
        "> QuerySets are lazy – the act of creating a QuerySet does not involve any database activity. You can stack filters together all day long, and Django will actually not run the query until the QuerySet is evaluated.\n",
        "([querysets-are-lazy](https://docs.djangoproject.com/en/3.0/topics/db/queries/#querysets-are-lazy))"
      ]
    },
    {
      "cell_type": "code",
      "execution_count": null,
      "metadata": {
        "id": "q-d-QnkR8zBd",
        "outputId": "0aa24a17-a1cb-46ac-b28b-8b7b71b4276f"
      },
      "outputs": [
        {
          "data": {
            "text/html": [
              "<div>\n",
              "<style scoped>\n",
              "    .dataframe tbody tr th:only-of-type {\n",
              "        vertical-align: middle;\n",
              "    }\n",
              "\n",
              "    .dataframe tbody tr th {\n",
              "        vertical-align: top;\n",
              "    }\n",
              "\n",
              "    .dataframe thead th {\n",
              "        text-align: right;\n",
              "    }\n",
              "</style>\n",
              "<table border=\"1\" class=\"dataframe\">\n",
              "  <thead>\n",
              "    <tr style=\"text-align: right;\">\n",
              "      <th></th>\n",
              "      <th>organism</th>\n",
              "      <th>pref_name</th>\n",
              "      <th>target_chembl_id</th>\n",
              "      <th>target_type</th>\n",
              "    </tr>\n",
              "  </thead>\n",
              "  <tbody>\n",
              "    <tr>\n",
              "      <th>0</th>\n",
              "      <td>Homo sapiens</td>\n",
              "      <td>Epidermal growth factor receptor erbB1</td>\n",
              "      <td>CHEMBL203</td>\n",
              "      <td>SINGLE PROTEIN</td>\n",
              "    </tr>\n",
              "    <tr>\n",
              "      <th>1</th>\n",
              "      <td>Homo sapiens</td>\n",
              "      <td>Epidermal growth factor receptor erbB1</td>\n",
              "      <td>CHEMBL203</td>\n",
              "      <td>SINGLE PROTEIN</td>\n",
              "    </tr>\n",
              "    <tr>\n",
              "      <th>2</th>\n",
              "      <td>Homo sapiens</td>\n",
              "      <td>Epidermal growth factor receptor and ErbB2 (HE...</td>\n",
              "      <td>CHEMBL2111431</td>\n",
              "      <td>PROTEIN FAMILY</td>\n",
              "    </tr>\n",
              "    <tr>\n",
              "      <th>3</th>\n",
              "      <td>Homo sapiens</td>\n",
              "      <td>Epidermal growth factor receptor</td>\n",
              "      <td>CHEMBL2363049</td>\n",
              "      <td>PROTEIN FAMILY</td>\n",
              "    </tr>\n",
              "    <tr>\n",
              "      <th>4</th>\n",
              "      <td>Homo sapiens</td>\n",
              "      <td>MER intracellular domain/EGFR extracellular do...</td>\n",
              "      <td>CHEMBL3137284</td>\n",
              "      <td>CHIMERIC PROTEIN</td>\n",
              "    </tr>\n",
              "    <tr>\n",
              "      <th>5</th>\n",
              "      <td>Homo sapiens</td>\n",
              "      <td>Protein cereblon/Epidermal growth factor receptor</td>\n",
              "      <td>CHEMBL4523680</td>\n",
              "      <td>PROTEIN-PROTEIN INTERACTION</td>\n",
              "    </tr>\n",
              "    <tr>\n",
              "      <th>6</th>\n",
              "      <td>Homo sapiens</td>\n",
              "      <td>EGFR/PPP1CA</td>\n",
              "      <td>CHEMBL4523747</td>\n",
              "      <td>PROTEIN-PROTEIN INTERACTION</td>\n",
              "    </tr>\n",
              "    <tr>\n",
              "      <th>7</th>\n",
              "      <td>Homo sapiens</td>\n",
              "      <td>VHL/EGFR</td>\n",
              "      <td>CHEMBL4523998</td>\n",
              "      <td>PROTEIN-PROTEIN INTERACTION</td>\n",
              "    </tr>\n",
              "    <tr>\n",
              "      <th>8</th>\n",
              "      <td>Homo sapiens</td>\n",
              "      <td>Baculoviral IAP repeat-containing protein 2/Ep...</td>\n",
              "      <td>CHEMBL4802031</td>\n",
              "      <td>PROTEIN-PROTEIN INTERACTION</td>\n",
              "    </tr>\n",
              "  </tbody>\n",
              "</table>\n",
              "</div>"
            ],
            "text/plain": [
              "       organism                                          pref_name   \n",
              "0  Homo sapiens             Epidermal growth factor receptor erbB1  \\\n",
              "1  Homo sapiens             Epidermal growth factor receptor erbB1   \n",
              "2  Homo sapiens  Epidermal growth factor receptor and ErbB2 (HE...   \n",
              "3  Homo sapiens                   Epidermal growth factor receptor   \n",
              "4  Homo sapiens  MER intracellular domain/EGFR extracellular do...   \n",
              "5  Homo sapiens  Protein cereblon/Epidermal growth factor receptor   \n",
              "6  Homo sapiens                                        EGFR/PPP1CA   \n",
              "7  Homo sapiens                                           VHL/EGFR   \n",
              "8  Homo sapiens  Baculoviral IAP repeat-containing protein 2/Ep...   \n",
              "\n",
              "  target_chembl_id                  target_type  \n",
              "0        CHEMBL203               SINGLE PROTEIN  \n",
              "1        CHEMBL203               SINGLE PROTEIN  \n",
              "2    CHEMBL2111431               PROTEIN FAMILY  \n",
              "3    CHEMBL2363049               PROTEIN FAMILY  \n",
              "4    CHEMBL3137284             CHIMERIC PROTEIN  \n",
              "5    CHEMBL4523680  PROTEIN-PROTEIN INTERACTION  \n",
              "6    CHEMBL4523747  PROTEIN-PROTEIN INTERACTION  \n",
              "7    CHEMBL4523998  PROTEIN-PROTEIN INTERACTION  \n",
              "8    CHEMBL4802031  PROTEIN-PROTEIN INTERACTION  "
            ]
          },
          "execution_count": 7,
          "metadata": {},
          "output_type": "execute_result"
        }
      ],
      "source": [
        "targets = pd.DataFrame.from_records(targets)\n",
        "targets"
      ]
    },
    {
      "cell_type": "markdown",
      "metadata": {
        "id": "4eAB4oS58zBd"
      },
      "source": [
        "#### Select target (target ChEMBL ID)\n",
        "\n",
        "After checking the entries, we select the first entry as our target of interest:\n",
        "\n",
        "`CHEMBL203`: It is a single protein and represents the human Epidermal growth factor receptor (EGFR, also named erbB1)"
      ]
    },
    {
      "cell_type": "code",
      "execution_count": null,
      "metadata": {
        "id": "-AtbuTlB8zBe",
        "outputId": "2f2324d4-1fe2-45a0-84b5-a88b37a8c3b5"
      },
      "outputs": [
        {
          "data": {
            "text/plain": [
              "organism                                      Homo sapiens\n",
              "pref_name           Epidermal growth factor receptor erbB1\n",
              "target_chembl_id                                 CHEMBL203\n",
              "target_type                                 SINGLE PROTEIN\n",
              "Name: 0, dtype: object"
            ]
          },
          "execution_count": 8,
          "metadata": {},
          "output_type": "execute_result"
        }
      ],
      "source": [
        "target = targets.iloc[0]\n",
        "target"
      ]
    },
    {
      "cell_type": "markdown",
      "metadata": {
        "id": "cPJJJP0R8zBe"
      },
      "source": [
        "Save selected ChEMBL ID."
      ]
    },
    {
      "cell_type": "code",
      "execution_count": null,
      "metadata": {
        "id": "R4WY5E9c8zBe",
        "outputId": "880cedb3-6623-4747-b7e7-627df3362224"
      },
      "outputs": [
        {
          "name": "stdout",
          "output_type": "stream",
          "text": [
            "The target ChEMBL ID is CHEMBL203\n"
          ]
        }
      ],
      "source": [
        "chembl_id = target.target_chembl_id\n",
        "print(f\"The target ChEMBL ID is {chembl_id}\")\n",
        "# NBVAL_CHECK_OUTPUT"
      ]
    },
    {
      "cell_type": "markdown",
      "metadata": {
        "id": "kbag1H_M8zBe"
      },
      "source": [
        "### Get bioactivity data\n",
        "\n",
        "Now, we want to query bioactivity data for the target of interest."
      ]
    },
    {
      "cell_type": "markdown",
      "metadata": {
        "id": "7nZfrxE88zBe"
      },
      "source": [
        "#### Fetch bioactivity data for the target from ChEMBL"
      ]
    },
    {
      "cell_type": "markdown",
      "metadata": {
        "id": "ga1p876e8zBe"
      },
      "source": [
        "In this step, we fetch the bioactivity data and filter it to only consider\n",
        "\n",
        "* human proteins,\n",
        "* bioactivity type IC50,\n",
        "* exact measurements (relation `'='`), and\n",
        "* binding data (assay type `'B'`)."
      ]
    },
    {
      "cell_type": "code",
      "execution_count": null,
      "metadata": {
        "id": "7ahQYK-n8zBe",
        "outputId": "9715e0f1-8a23-44ad-a376-d99e4622e99e"
      },
      "outputs": [
        {
          "name": "stdout",
          "output_type": "stream",
          "text": [
            "Length and type of bioactivities object: 9576, <class 'chembl_webresource_client.query_set.QuerySet'>\n"
          ]
        }
      ],
      "source": [
        "bioactivities = bioactivities_api.filter(\n",
        "    target_chembl_id=chembl_id, type=\"IC50\", relation=\"=\", assay_type=\"B\"\n",
        ").only(\n",
        "    \"activity_id\",\n",
        "    \"assay_chembl_id\",\n",
        "    \"assay_description\",\n",
        "    \"assay_type\",\n",
        "    \"molecule_chembl_id\",\n",
        "    \"type\",\n",
        "    \"standard_units\",\n",
        "    \"relation\",\n",
        "    \"standard_value\",\n",
        "    \"target_chembl_id\",\n",
        "    \"target_organism\",\n",
        ")\n",
        "\n",
        "print(f\"Length and type of bioactivities object: {len(bioactivities)}, {type(bioactivities)}\")"
      ]
    },
    {
      "cell_type": "markdown",
      "metadata": {
        "id": "GQB_m2M-8zBe"
      },
      "source": [
        "Each entry in our bioactivity set holds the following information:"
      ]
    },
    {
      "cell_type": "code",
      "execution_count": null,
      "metadata": {
        "id": "K0yKfaT78zBe",
        "outputId": "1f3e372f-e60d-44c1-93c2-481b12350ece"
      },
      "outputs": [
        {
          "name": "stdout",
          "output_type": "stream",
          "text": [
            "Length and type of first element: 13, <class 'dict'>\n"
          ]
        },
        {
          "data": {
            "text/plain": [
              "{'activity_id': 32260,\n",
              " 'assay_chembl_id': 'CHEMBL674637',\n",
              " 'assay_description': 'Inhibitory activity towards tyrosine phosphorylation for the epidermal growth factor-receptor kinase',\n",
              " 'assay_type': 'B',\n",
              " 'molecule_chembl_id': 'CHEMBL68920',\n",
              " 'relation': '=',\n",
              " 'standard_units': 'nM',\n",
              " 'standard_value': '41.0',\n",
              " 'target_chembl_id': 'CHEMBL203',\n",
              " 'target_organism': 'Homo sapiens',\n",
              " 'type': 'IC50',\n",
              " 'units': 'uM',\n",
              " 'value': '0.041'}"
            ]
          },
          "execution_count": 11,
          "metadata": {},
          "output_type": "execute_result"
        }
      ],
      "source": [
        "print(f\"Length and type of first element: {len(bioactivities[0])}, {type(bioactivities[0])}\")\n",
        "bioactivities[0]"
      ]
    },
    {
      "cell_type": "markdown",
      "metadata": {
        "id": "5st3H3bF8zBf"
      },
      "source": [
        "#### Download bioactivity data from ChEMBL"
      ]
    },
    {
      "cell_type": "markdown",
      "metadata": {
        "id": "48D1nn6n8zBf"
      },
      "source": [
        "Finally, we download the `QuerySet` in the form of a `pandas` `DataFrame`.\n",
        "\n",
        "> **Note**: This step should not take more than 2 minutes, if so try to rerun all cells starting from _\"Fetch bioactivity data for the target from ChEMBL\"_ or read this message below:\n",
        "\n",
        "<details>\n",
        "    \n",
        "<summary>Load a local version of the data (in case you encounter any problems while fetching the data)</summary>\n",
        "    \n",
        "If you experience difficulties to query the ChEMBL database, we also provide the resulting dataframe you will construct in the cell below. If you want to use the saved version, use the following code instead to obtain `bioactivities_df`:\n",
        "  \n",
        "```python\n",
        "# replace first line in cell below with this other line\n",
        "bioactivities_df = pd.read_csv(DATA / \"EGFR_bioactivities_CHEMBL27.csv.zip\", index_col=0)\n",
        "```\n",
        "\n",
        "</details>"
      ]
    },
    {
      "cell_type": "code",
      "execution_count": null,
      "metadata": {
        "id": "u3yDrTHJ8zBf",
        "outputId": "53860a8b-ffd8-4673-e53b-995c4fb753b6"
      },
      "outputs": [
        {
          "name": "stdout",
          "output_type": "stream",
          "text": [
            "DataFrame shape: (9576, 13)\n"
          ]
        },
        {
          "data": {
            "text/html": [
              "<div>\n",
              "<style scoped>\n",
              "    .dataframe tbody tr th:only-of-type {\n",
              "        vertical-align: middle;\n",
              "    }\n",
              "\n",
              "    .dataframe tbody tr th {\n",
              "        vertical-align: top;\n",
              "    }\n",
              "\n",
              "    .dataframe thead th {\n",
              "        text-align: right;\n",
              "    }\n",
              "</style>\n",
              "<table border=\"1\" class=\"dataframe\">\n",
              "  <thead>\n",
              "    <tr style=\"text-align: right;\">\n",
              "      <th></th>\n",
              "      <th>activity_id</th>\n",
              "      <th>assay_chembl_id</th>\n",
              "      <th>assay_description</th>\n",
              "      <th>assay_type</th>\n",
              "      <th>molecule_chembl_id</th>\n",
              "      <th>relation</th>\n",
              "      <th>standard_units</th>\n",
              "      <th>standard_value</th>\n",
              "      <th>target_chembl_id</th>\n",
              "      <th>target_organism</th>\n",
              "      <th>type</th>\n",
              "      <th>units</th>\n",
              "      <th>value</th>\n",
              "    </tr>\n",
              "  </thead>\n",
              "  <tbody>\n",
              "    <tr>\n",
              "      <th>0</th>\n",
              "      <td>32260</td>\n",
              "      <td>CHEMBL674637</td>\n",
              "      <td>Inhibitory activity towards tyrosine phosphory...</td>\n",
              "      <td>B</td>\n",
              "      <td>CHEMBL68920</td>\n",
              "      <td>=</td>\n",
              "      <td>nM</td>\n",
              "      <td>41.0</td>\n",
              "      <td>CHEMBL203</td>\n",
              "      <td>Homo sapiens</td>\n",
              "      <td>IC50</td>\n",
              "      <td>uM</td>\n",
              "      <td>0.041</td>\n",
              "    </tr>\n",
              "    <tr>\n",
              "      <th>1</th>\n",
              "      <td>32267</td>\n",
              "      <td>CHEMBL674637</td>\n",
              "      <td>Inhibitory activity towards tyrosine phosphory...</td>\n",
              "      <td>B</td>\n",
              "      <td>CHEMBL69960</td>\n",
              "      <td>=</td>\n",
              "      <td>nM</td>\n",
              "      <td>170.0</td>\n",
              "      <td>CHEMBL203</td>\n",
              "      <td>Homo sapiens</td>\n",
              "      <td>IC50</td>\n",
              "      <td>uM</td>\n",
              "      <td>0.17</td>\n",
              "    </tr>\n",
              "    <tr>\n",
              "      <th>2</th>\n",
              "      <td>32680</td>\n",
              "      <td>CHEMBL677833</td>\n",
              "      <td>In vitro inhibition of Epidermal growth factor...</td>\n",
              "      <td>B</td>\n",
              "      <td>CHEMBL137635</td>\n",
              "      <td>=</td>\n",
              "      <td>nM</td>\n",
              "      <td>9300.0</td>\n",
              "      <td>CHEMBL203</td>\n",
              "      <td>Homo sapiens</td>\n",
              "      <td>IC50</td>\n",
              "      <td>uM</td>\n",
              "      <td>9.3</td>\n",
              "    </tr>\n",
              "    <tr>\n",
              "      <th>3</th>\n",
              "      <td>32770</td>\n",
              "      <td>CHEMBL674643</td>\n",
              "      <td>Inhibitory concentration of EGF dependent auto...</td>\n",
              "      <td>B</td>\n",
              "      <td>CHEMBL306988</td>\n",
              "      <td>=</td>\n",
              "      <td>nM</td>\n",
              "      <td>500000.0</td>\n",
              "      <td>CHEMBL203</td>\n",
              "      <td>Homo sapiens</td>\n",
              "      <td>IC50</td>\n",
              "      <td>uM</td>\n",
              "      <td>500.0</td>\n",
              "    </tr>\n",
              "    <tr>\n",
              "      <th>4</th>\n",
              "      <td>32772</td>\n",
              "      <td>CHEMBL674643</td>\n",
              "      <td>Inhibitory concentration of EGF dependent auto...</td>\n",
              "      <td>B</td>\n",
              "      <td>CHEMBL66879</td>\n",
              "      <td>=</td>\n",
              "      <td>nM</td>\n",
              "      <td>3000000.0</td>\n",
              "      <td>CHEMBL203</td>\n",
              "      <td>Homo sapiens</td>\n",
              "      <td>IC50</td>\n",
              "      <td>uM</td>\n",
              "      <td>3000.0</td>\n",
              "    </tr>\n",
              "  </tbody>\n",
              "</table>\n",
              "</div>"
            ],
            "text/plain": [
              "   activity_id assay_chembl_id   \n",
              "0        32260    CHEMBL674637  \\\n",
              "1        32267    CHEMBL674637   \n",
              "2        32680    CHEMBL677833   \n",
              "3        32770    CHEMBL674643   \n",
              "4        32772    CHEMBL674643   \n",
              "\n",
              "                                   assay_description assay_type   \n",
              "0  Inhibitory activity towards tyrosine phosphory...          B  \\\n",
              "1  Inhibitory activity towards tyrosine phosphory...          B   \n",
              "2  In vitro inhibition of Epidermal growth factor...          B   \n",
              "3  Inhibitory concentration of EGF dependent auto...          B   \n",
              "4  Inhibitory concentration of EGF dependent auto...          B   \n",
              "\n",
              "  molecule_chembl_id relation standard_units standard_value target_chembl_id   \n",
              "0        CHEMBL68920        =             nM           41.0        CHEMBL203  \\\n",
              "1        CHEMBL69960        =             nM          170.0        CHEMBL203   \n",
              "2       CHEMBL137635        =             nM         9300.0        CHEMBL203   \n",
              "3       CHEMBL306988        =             nM       500000.0        CHEMBL203   \n",
              "4        CHEMBL66879        =             nM      3000000.0        CHEMBL203   \n",
              "\n",
              "  target_organism  type units   value  \n",
              "0    Homo sapiens  IC50    uM   0.041  \n",
              "1    Homo sapiens  IC50    uM    0.17  \n",
              "2    Homo sapiens  IC50    uM     9.3  \n",
              "3    Homo sapiens  IC50    uM   500.0  \n",
              "4    Homo sapiens  IC50    uM  3000.0  "
            ]
          },
          "execution_count": 12,
          "metadata": {},
          "output_type": "execute_result"
        }
      ],
      "source": [
        "bioactivities_df = pd.DataFrame.from_dict(bioactivities)\n",
        "print(f\"DataFrame shape: {bioactivities_df.shape}\")\n",
        "bioactivities_df.head()"
      ]
    },
    {
      "cell_type": "markdown",
      "metadata": {
        "id": "xNs7a3xR8zBn"
      },
      "source": [
        "Note that the first two rows describe the same bioactivity entry; we will remove such artifacts later during the deduplication step. Note also that we have columns for `standard_units`/`units` and `standard_values`/`values`; in the following, we will use the standardized columns (standardization by ChEMBL), and thus, we drop the other two columns.\n",
        "\n",
        "If we used the `units` and `values` columns, we would need to convert all values with many different units to nM:"
      ]
    },
    {
      "cell_type": "code",
      "execution_count": null,
      "metadata": {
        "id": "FI1qFnFy8zBn",
        "outputId": "caf55651-4aa9-403b-f95d-0422864ed43c"
      },
      "outputs": [
        {
          "data": {
            "text/plain": [
              "array(['uM', 'nM', 'pM', 'M', \"10'3 uM\", \"10'1 ug/ml\", 'ug ml-1',\n",
              "       \"10'-1microM\", \"10'1 uM\", \"10'-1 ug/ml\", \"10'-2 ug/ml\", \"10'2 uM\",\n",
              "       \"10'-3 ug/ml\", \"10'-2microM\", '/uM', \"10'-6g/ml\", 'mM', 'umol/L',\n",
              "       'nmol/L', \"10'-10M\", \"10'-7M\", 'nmol', '10^-8M'], dtype=object)"
            ]
          },
          "execution_count": 13,
          "metadata": {},
          "output_type": "execute_result"
        }
      ],
      "source": [
        "bioactivities_df[\"units\"].unique()"
      ]
    },
    {
      "cell_type": "code",
      "execution_count": null,
      "metadata": {
        "id": "NRr2dhOe8zBn",
        "outputId": "62823c61-4591-4d41-f3bc-9af33f3869e4"
      },
      "outputs": [
        {
          "data": {
            "text/html": [
              "<div>\n",
              "<style scoped>\n",
              "    .dataframe tbody tr th:only-of-type {\n",
              "        vertical-align: middle;\n",
              "    }\n",
              "\n",
              "    .dataframe tbody tr th {\n",
              "        vertical-align: top;\n",
              "    }\n",
              "\n",
              "    .dataframe thead th {\n",
              "        text-align: right;\n",
              "    }\n",
              "</style>\n",
              "<table border=\"1\" class=\"dataframe\">\n",
              "  <thead>\n",
              "    <tr style=\"text-align: right;\">\n",
              "      <th></th>\n",
              "      <th>activity_id</th>\n",
              "      <th>assay_chembl_id</th>\n",
              "      <th>assay_description</th>\n",
              "      <th>assay_type</th>\n",
              "      <th>molecule_chembl_id</th>\n",
              "      <th>relation</th>\n",
              "      <th>standard_units</th>\n",
              "      <th>standard_value</th>\n",
              "      <th>target_chembl_id</th>\n",
              "      <th>target_organism</th>\n",
              "      <th>type</th>\n",
              "    </tr>\n",
              "  </thead>\n",
              "  <tbody>\n",
              "    <tr>\n",
              "      <th>0</th>\n",
              "      <td>32260</td>\n",
              "      <td>CHEMBL674637</td>\n",
              "      <td>Inhibitory activity towards tyrosine phosphory...</td>\n",
              "      <td>B</td>\n",
              "      <td>CHEMBL68920</td>\n",
              "      <td>=</td>\n",
              "      <td>nM</td>\n",
              "      <td>41.0</td>\n",
              "      <td>CHEMBL203</td>\n",
              "      <td>Homo sapiens</td>\n",
              "      <td>IC50</td>\n",
              "    </tr>\n",
              "    <tr>\n",
              "      <th>1</th>\n",
              "      <td>32267</td>\n",
              "      <td>CHEMBL674637</td>\n",
              "      <td>Inhibitory activity towards tyrosine phosphory...</td>\n",
              "      <td>B</td>\n",
              "      <td>CHEMBL69960</td>\n",
              "      <td>=</td>\n",
              "      <td>nM</td>\n",
              "      <td>170.0</td>\n",
              "      <td>CHEMBL203</td>\n",
              "      <td>Homo sapiens</td>\n",
              "      <td>IC50</td>\n",
              "    </tr>\n",
              "    <tr>\n",
              "      <th>2</th>\n",
              "      <td>32680</td>\n",
              "      <td>CHEMBL677833</td>\n",
              "      <td>In vitro inhibition of Epidermal growth factor...</td>\n",
              "      <td>B</td>\n",
              "      <td>CHEMBL137635</td>\n",
              "      <td>=</td>\n",
              "      <td>nM</td>\n",
              "      <td>9300.0</td>\n",
              "      <td>CHEMBL203</td>\n",
              "      <td>Homo sapiens</td>\n",
              "      <td>IC50</td>\n",
              "    </tr>\n",
              "    <tr>\n",
              "      <th>3</th>\n",
              "      <td>32770</td>\n",
              "      <td>CHEMBL674643</td>\n",
              "      <td>Inhibitory concentration of EGF dependent auto...</td>\n",
              "      <td>B</td>\n",
              "      <td>CHEMBL306988</td>\n",
              "      <td>=</td>\n",
              "      <td>nM</td>\n",
              "      <td>500000.0</td>\n",
              "      <td>CHEMBL203</td>\n",
              "      <td>Homo sapiens</td>\n",
              "      <td>IC50</td>\n",
              "    </tr>\n",
              "    <tr>\n",
              "      <th>4</th>\n",
              "      <td>32772</td>\n",
              "      <td>CHEMBL674643</td>\n",
              "      <td>Inhibitory concentration of EGF dependent auto...</td>\n",
              "      <td>B</td>\n",
              "      <td>CHEMBL66879</td>\n",
              "      <td>=</td>\n",
              "      <td>nM</td>\n",
              "      <td>3000000.0</td>\n",
              "      <td>CHEMBL203</td>\n",
              "      <td>Homo sapiens</td>\n",
              "      <td>IC50</td>\n",
              "    </tr>\n",
              "  </tbody>\n",
              "</table>\n",
              "</div>"
            ],
            "text/plain": [
              "   activity_id assay_chembl_id   \n",
              "0        32260    CHEMBL674637  \\\n",
              "1        32267    CHEMBL674637   \n",
              "2        32680    CHEMBL677833   \n",
              "3        32770    CHEMBL674643   \n",
              "4        32772    CHEMBL674643   \n",
              "\n",
              "                                   assay_description assay_type   \n",
              "0  Inhibitory activity towards tyrosine phosphory...          B  \\\n",
              "1  Inhibitory activity towards tyrosine phosphory...          B   \n",
              "2  In vitro inhibition of Epidermal growth factor...          B   \n",
              "3  Inhibitory concentration of EGF dependent auto...          B   \n",
              "4  Inhibitory concentration of EGF dependent auto...          B   \n",
              "\n",
              "  molecule_chembl_id relation standard_units standard_value target_chembl_id   \n",
              "0        CHEMBL68920        =             nM           41.0        CHEMBL203  \\\n",
              "1        CHEMBL69960        =             nM          170.0        CHEMBL203   \n",
              "2       CHEMBL137635        =             nM         9300.0        CHEMBL203   \n",
              "3       CHEMBL306988        =             nM       500000.0        CHEMBL203   \n",
              "4        CHEMBL66879        =             nM      3000000.0        CHEMBL203   \n",
              "\n",
              "  target_organism  type  \n",
              "0    Homo sapiens  IC50  \n",
              "1    Homo sapiens  IC50  \n",
              "2    Homo sapiens  IC50  \n",
              "3    Homo sapiens  IC50  \n",
              "4    Homo sapiens  IC50  "
            ]
          },
          "execution_count": 14,
          "metadata": {},
          "output_type": "execute_result"
        }
      ],
      "source": [
        "bioactivities_df.drop([\"units\", \"value\"], axis=1, inplace=True)\n",
        "bioactivities_df.head()"
      ]
    },
    {
      "cell_type": "markdown",
      "metadata": {
        "id": "Za2Fo9kz8zBo"
      },
      "source": [
        "#### Preprocess and filter bioactivity data\n",
        "\n",
        "1. Convert `standard_value`'s datatype from `object` to `float`\n",
        "2. Delete entries with missing values\n",
        "3. Keep only entries with `standard_unit == nM`\n",
        "4. Delete duplicate molecules\n",
        "5. Reset `DataFrame` index\n",
        "6. Rename columns"
      ]
    },
    {
      "cell_type": "markdown",
      "metadata": {
        "id": "I_n9rT5U8zBo"
      },
      "source": [
        "**1. Convert datatype of \"standard_value\" from \"object\" to \"float\"**\n",
        "\n",
        "The field `standard_value` holds standardized (here IC50) values. In order to make these values usable in calculations later on, convert values to floats."
      ]
    },
    {
      "cell_type": "code",
      "execution_count": null,
      "metadata": {
        "id": "8r5MkJrC8zBo",
        "outputId": "04a9b1a3-8c36-448d-a676-7cc3ee3670c4"
      },
      "outputs": [
        {
          "data": {
            "text/plain": [
              "activity_id            int64\n",
              "assay_chembl_id       object\n",
              "assay_description     object\n",
              "assay_type            object\n",
              "molecule_chembl_id    object\n",
              "relation              object\n",
              "standard_units        object\n",
              "standard_value        object\n",
              "target_chembl_id      object\n",
              "target_organism       object\n",
              "type                  object\n",
              "dtype: object"
            ]
          },
          "execution_count": 15,
          "metadata": {},
          "output_type": "execute_result"
        }
      ],
      "source": [
        "bioactivities_df.dtypes"
      ]
    },
    {
      "cell_type": "code",
      "execution_count": null,
      "metadata": {
        "id": "qci3Hkx88zBo",
        "outputId": "f078cc1c-8324-4d33-86a1-6f27167e8572"
      },
      "outputs": [
        {
          "data": {
            "text/plain": [
              "activity_id             int64\n",
              "assay_chembl_id        object\n",
              "assay_description      object\n",
              "assay_type             object\n",
              "molecule_chembl_id     object\n",
              "relation               object\n",
              "standard_units         object\n",
              "standard_value        float64\n",
              "target_chembl_id       object\n",
              "target_organism        object\n",
              "type                   object\n",
              "dtype: object"
            ]
          },
          "execution_count": 16,
          "metadata": {},
          "output_type": "execute_result"
        }
      ],
      "source": [
        "bioactivities_df = bioactivities_df.astype({\"standard_value\": \"float64\"})\n",
        "bioactivities_df.dtypes"
      ]
    },
    {
      "cell_type": "markdown",
      "metadata": {
        "id": "WBQ13hjE8zBo"
      },
      "source": [
        "**2. Delete entries with missing values**\n",
        "\n",
        "Use the parameter `inplace=True` to drop values in the current `DataFrame` directly."
      ]
    },
    {
      "cell_type": "code",
      "execution_count": null,
      "metadata": {
        "id": "Ja5jvH098zBo",
        "outputId": "097ff8b9-fc64-47ad-ff49-06c3544d3824"
      },
      "outputs": [
        {
          "name": "stdout",
          "output_type": "stream",
          "text": [
            "DataFrame shape: (9575, 11)\n"
          ]
        }
      ],
      "source": [
        "bioactivities_df.dropna(axis=0, how=\"any\", inplace=True)\n",
        "print(f\"DataFrame shape: {bioactivities_df.shape}\")"
      ]
    },
    {
      "cell_type": "markdown",
      "metadata": {
        "id": "k7WwN5yQ8zBo"
      },
      "source": [
        "**3. Keep only entries with \"standard_unit == nM\"**\n",
        "\n",
        "We only want to keep bioactivity entries in `nM`, thus we remove all entries with other units."
      ]
    },
    {
      "cell_type": "code",
      "execution_count": null,
      "metadata": {
        "id": "EUzKLFCL8zBo",
        "outputId": "8d9f422a-6fef-4c8d-fb87-2bc47531b150"
      },
      "outputs": [
        {
          "name": "stdout",
          "output_type": "stream",
          "text": [
            "Units in downloaded data: ['nM' 'ug.mL-1' '/uM']\n",
            "Number of non-nM entries:    69\n"
          ]
        }
      ],
      "source": [
        "print(f\"Units in downloaded data: {bioactivities_df['standard_units'].unique()}\")\n",
        "print(\n",
        "    f\"Number of non-nM entries:\\\n",
        "    {bioactivities_df[bioactivities_df['standard_units'] != 'nM'].shape[0]}\"\n",
        ")"
      ]
    },
    {
      "cell_type": "code",
      "execution_count": null,
      "metadata": {
        "id": "lIUmvnjp8zBp",
        "outputId": "007238af-aa24-4b9c-d8aa-ab244bd073fb"
      },
      "outputs": [
        {
          "name": "stdout",
          "output_type": "stream",
          "text": [
            "Units after filtering: ['nM']\n"
          ]
        }
      ],
      "source": [
        "bioactivities_df = bioactivities_df[bioactivities_df[\"standard_units\"] == \"nM\"]\n",
        "print(f\"Units after filtering: {bioactivities_df['standard_units'].unique()}\")"
      ]
    },
    {
      "cell_type": "code",
      "execution_count": null,
      "metadata": {
        "id": "Vs5ZgoQi8zBp",
        "outputId": "81d0d7ce-4c1d-415f-9f5d-85dd6abce992"
      },
      "outputs": [
        {
          "name": "stdout",
          "output_type": "stream",
          "text": [
            "DataFrame shape: (9506, 11)\n"
          ]
        }
      ],
      "source": [
        "print(f\"DataFrame shape: {bioactivities_df.shape}\")"
      ]
    },
    {
      "cell_type": "markdown",
      "metadata": {
        "id": "hBugQd-M8zBp"
      },
      "source": [
        "**4. Delete duplicate molecules**\n",
        "\n",
        "Sometimes the same molecule (`molecule_chembl_id`) has been tested more than once, in this case, we only keep the first one.\n",
        "\n",
        "Note other choices could be to keep the one with the best value or a mean value of all assay results for the respective compound."
      ]
    },
    {
      "cell_type": "code",
      "execution_count": null,
      "metadata": {
        "id": "HO6ObODH8zBp",
        "outputId": "90eeef93-420a-4b87-9149-ff9352589874"
      },
      "outputs": [
        {
          "name": "stdout",
          "output_type": "stream",
          "text": [
            "DataFrame shape: (6461, 11)\n"
          ]
        }
      ],
      "source": [
        "bioactivities_df.drop_duplicates(\"molecule_chembl_id\", keep=\"first\", inplace=True)\n",
        "print(f\"DataFrame shape: {bioactivities_df.shape}\")"
      ]
    },
    {
      "cell_type": "markdown",
      "metadata": {
        "id": "BC0iCO3x8zBp"
      },
      "source": [
        "**5. Reset \"DataFrame\" index**\n",
        "\n",
        "Since we deleted some rows, but we want to iterate over the index later, we reset the index to be continuous."
      ]
    },
    {
      "cell_type": "code",
      "execution_count": null,
      "metadata": {
        "id": "dx2V7Ubd8zBp",
        "outputId": "940bedc7-d379-4149-9512-0a701fddbb9f"
      },
      "outputs": [
        {
          "data": {
            "text/html": [
              "<div>\n",
              "<style scoped>\n",
              "    .dataframe tbody tr th:only-of-type {\n",
              "        vertical-align: middle;\n",
              "    }\n",
              "\n",
              "    .dataframe tbody tr th {\n",
              "        vertical-align: top;\n",
              "    }\n",
              "\n",
              "    .dataframe thead th {\n",
              "        text-align: right;\n",
              "    }\n",
              "</style>\n",
              "<table border=\"1\" class=\"dataframe\">\n",
              "  <thead>\n",
              "    <tr style=\"text-align: right;\">\n",
              "      <th></th>\n",
              "      <th>activity_id</th>\n",
              "      <th>assay_chembl_id</th>\n",
              "      <th>assay_description</th>\n",
              "      <th>assay_type</th>\n",
              "      <th>molecule_chembl_id</th>\n",
              "      <th>relation</th>\n",
              "      <th>standard_units</th>\n",
              "      <th>standard_value</th>\n",
              "      <th>target_chembl_id</th>\n",
              "      <th>target_organism</th>\n",
              "      <th>type</th>\n",
              "    </tr>\n",
              "  </thead>\n",
              "  <tbody>\n",
              "    <tr>\n",
              "      <th>0</th>\n",
              "      <td>32260</td>\n",
              "      <td>CHEMBL674637</td>\n",
              "      <td>Inhibitory activity towards tyrosine phosphory...</td>\n",
              "      <td>B</td>\n",
              "      <td>CHEMBL68920</td>\n",
              "      <td>=</td>\n",
              "      <td>nM</td>\n",
              "      <td>41.0</td>\n",
              "      <td>CHEMBL203</td>\n",
              "      <td>Homo sapiens</td>\n",
              "      <td>IC50</td>\n",
              "    </tr>\n",
              "    <tr>\n",
              "      <th>1</th>\n",
              "      <td>32267</td>\n",
              "      <td>CHEMBL674637</td>\n",
              "      <td>Inhibitory activity towards tyrosine phosphory...</td>\n",
              "      <td>B</td>\n",
              "      <td>CHEMBL69960</td>\n",
              "      <td>=</td>\n",
              "      <td>nM</td>\n",
              "      <td>170.0</td>\n",
              "      <td>CHEMBL203</td>\n",
              "      <td>Homo sapiens</td>\n",
              "      <td>IC50</td>\n",
              "    </tr>\n",
              "    <tr>\n",
              "      <th>2</th>\n",
              "      <td>32680</td>\n",
              "      <td>CHEMBL677833</td>\n",
              "      <td>In vitro inhibition of Epidermal growth factor...</td>\n",
              "      <td>B</td>\n",
              "      <td>CHEMBL137635</td>\n",
              "      <td>=</td>\n",
              "      <td>nM</td>\n",
              "      <td>9300.0</td>\n",
              "      <td>CHEMBL203</td>\n",
              "      <td>Homo sapiens</td>\n",
              "      <td>IC50</td>\n",
              "    </tr>\n",
              "    <tr>\n",
              "      <th>3</th>\n",
              "      <td>32770</td>\n",
              "      <td>CHEMBL674643</td>\n",
              "      <td>Inhibitory concentration of EGF dependent auto...</td>\n",
              "      <td>B</td>\n",
              "      <td>CHEMBL306988</td>\n",
              "      <td>=</td>\n",
              "      <td>nM</td>\n",
              "      <td>500000.0</td>\n",
              "      <td>CHEMBL203</td>\n",
              "      <td>Homo sapiens</td>\n",
              "      <td>IC50</td>\n",
              "    </tr>\n",
              "    <tr>\n",
              "      <th>4</th>\n",
              "      <td>32772</td>\n",
              "      <td>CHEMBL674643</td>\n",
              "      <td>Inhibitory concentration of EGF dependent auto...</td>\n",
              "      <td>B</td>\n",
              "      <td>CHEMBL66879</td>\n",
              "      <td>=</td>\n",
              "      <td>nM</td>\n",
              "      <td>3000000.0</td>\n",
              "      <td>CHEMBL203</td>\n",
              "      <td>Homo sapiens</td>\n",
              "      <td>IC50</td>\n",
              "    </tr>\n",
              "  </tbody>\n",
              "</table>\n",
              "</div>"
            ],
            "text/plain": [
              "   activity_id assay_chembl_id   \n",
              "0        32260    CHEMBL674637  \\\n",
              "1        32267    CHEMBL674637   \n",
              "2        32680    CHEMBL677833   \n",
              "3        32770    CHEMBL674643   \n",
              "4        32772    CHEMBL674643   \n",
              "\n",
              "                                   assay_description assay_type   \n",
              "0  Inhibitory activity towards tyrosine phosphory...          B  \\\n",
              "1  Inhibitory activity towards tyrosine phosphory...          B   \n",
              "2  In vitro inhibition of Epidermal growth factor...          B   \n",
              "3  Inhibitory concentration of EGF dependent auto...          B   \n",
              "4  Inhibitory concentration of EGF dependent auto...          B   \n",
              "\n",
              "  molecule_chembl_id relation standard_units  standard_value target_chembl_id   \n",
              "0        CHEMBL68920        =             nM            41.0        CHEMBL203  \\\n",
              "1        CHEMBL69960        =             nM           170.0        CHEMBL203   \n",
              "2       CHEMBL137635        =             nM          9300.0        CHEMBL203   \n",
              "3       CHEMBL306988        =             nM        500000.0        CHEMBL203   \n",
              "4        CHEMBL66879        =             nM       3000000.0        CHEMBL203   \n",
              "\n",
              "  target_organism  type  \n",
              "0    Homo sapiens  IC50  \n",
              "1    Homo sapiens  IC50  \n",
              "2    Homo sapiens  IC50  \n",
              "3    Homo sapiens  IC50  \n",
              "4    Homo sapiens  IC50  "
            ]
          },
          "execution_count": 22,
          "metadata": {},
          "output_type": "execute_result"
        }
      ],
      "source": [
        "bioactivities_df.reset_index(drop=True, inplace=True)\n",
        "bioactivities_df.head()"
      ]
    },
    {
      "cell_type": "markdown",
      "metadata": {
        "id": "-O86fsmN8zBp"
      },
      "source": [
        "**6. Rename columns**"
      ]
    },
    {
      "cell_type": "code",
      "execution_count": null,
      "metadata": {
        "id": "a6Eq5HaM8zBp",
        "outputId": "3e5ca681-1425-492d-b64d-5257a3bfce48"
      },
      "outputs": [
        {
          "data": {
            "text/html": [
              "<div>\n",
              "<style scoped>\n",
              "    .dataframe tbody tr th:only-of-type {\n",
              "        vertical-align: middle;\n",
              "    }\n",
              "\n",
              "    .dataframe tbody tr th {\n",
              "        vertical-align: top;\n",
              "    }\n",
              "\n",
              "    .dataframe thead th {\n",
              "        text-align: right;\n",
              "    }\n",
              "</style>\n",
              "<table border=\"1\" class=\"dataframe\">\n",
              "  <thead>\n",
              "    <tr style=\"text-align: right;\">\n",
              "      <th></th>\n",
              "      <th>activity_id</th>\n",
              "      <th>assay_chembl_id</th>\n",
              "      <th>assay_description</th>\n",
              "      <th>assay_type</th>\n",
              "      <th>molecule_chembl_id</th>\n",
              "      <th>relation</th>\n",
              "      <th>units</th>\n",
              "      <th>IC50</th>\n",
              "      <th>target_chembl_id</th>\n",
              "      <th>target_organism</th>\n",
              "      <th>type</th>\n",
              "    </tr>\n",
              "  </thead>\n",
              "  <tbody>\n",
              "    <tr>\n",
              "      <th>0</th>\n",
              "      <td>32260</td>\n",
              "      <td>CHEMBL674637</td>\n",
              "      <td>Inhibitory activity towards tyrosine phosphory...</td>\n",
              "      <td>B</td>\n",
              "      <td>CHEMBL68920</td>\n",
              "      <td>=</td>\n",
              "      <td>nM</td>\n",
              "      <td>41.0</td>\n",
              "      <td>CHEMBL203</td>\n",
              "      <td>Homo sapiens</td>\n",
              "      <td>IC50</td>\n",
              "    </tr>\n",
              "    <tr>\n",
              "      <th>1</th>\n",
              "      <td>32267</td>\n",
              "      <td>CHEMBL674637</td>\n",
              "      <td>Inhibitory activity towards tyrosine phosphory...</td>\n",
              "      <td>B</td>\n",
              "      <td>CHEMBL69960</td>\n",
              "      <td>=</td>\n",
              "      <td>nM</td>\n",
              "      <td>170.0</td>\n",
              "      <td>CHEMBL203</td>\n",
              "      <td>Homo sapiens</td>\n",
              "      <td>IC50</td>\n",
              "    </tr>\n",
              "    <tr>\n",
              "      <th>2</th>\n",
              "      <td>32680</td>\n",
              "      <td>CHEMBL677833</td>\n",
              "      <td>In vitro inhibition of Epidermal growth factor...</td>\n",
              "      <td>B</td>\n",
              "      <td>CHEMBL137635</td>\n",
              "      <td>=</td>\n",
              "      <td>nM</td>\n",
              "      <td>9300.0</td>\n",
              "      <td>CHEMBL203</td>\n",
              "      <td>Homo sapiens</td>\n",
              "      <td>IC50</td>\n",
              "    </tr>\n",
              "    <tr>\n",
              "      <th>3</th>\n",
              "      <td>32770</td>\n",
              "      <td>CHEMBL674643</td>\n",
              "      <td>Inhibitory concentration of EGF dependent auto...</td>\n",
              "      <td>B</td>\n",
              "      <td>CHEMBL306988</td>\n",
              "      <td>=</td>\n",
              "      <td>nM</td>\n",
              "      <td>500000.0</td>\n",
              "      <td>CHEMBL203</td>\n",
              "      <td>Homo sapiens</td>\n",
              "      <td>IC50</td>\n",
              "    </tr>\n",
              "    <tr>\n",
              "      <th>4</th>\n",
              "      <td>32772</td>\n",
              "      <td>CHEMBL674643</td>\n",
              "      <td>Inhibitory concentration of EGF dependent auto...</td>\n",
              "      <td>B</td>\n",
              "      <td>CHEMBL66879</td>\n",
              "      <td>=</td>\n",
              "      <td>nM</td>\n",
              "      <td>3000000.0</td>\n",
              "      <td>CHEMBL203</td>\n",
              "      <td>Homo sapiens</td>\n",
              "      <td>IC50</td>\n",
              "    </tr>\n",
              "  </tbody>\n",
              "</table>\n",
              "</div>"
            ],
            "text/plain": [
              "   activity_id assay_chembl_id   \n",
              "0        32260    CHEMBL674637  \\\n",
              "1        32267    CHEMBL674637   \n",
              "2        32680    CHEMBL677833   \n",
              "3        32770    CHEMBL674643   \n",
              "4        32772    CHEMBL674643   \n",
              "\n",
              "                                   assay_description assay_type   \n",
              "0  Inhibitory activity towards tyrosine phosphory...          B  \\\n",
              "1  Inhibitory activity towards tyrosine phosphory...          B   \n",
              "2  In vitro inhibition of Epidermal growth factor...          B   \n",
              "3  Inhibitory concentration of EGF dependent auto...          B   \n",
              "4  Inhibitory concentration of EGF dependent auto...          B   \n",
              "\n",
              "  molecule_chembl_id relation units       IC50 target_chembl_id   \n",
              "0        CHEMBL68920        =    nM       41.0        CHEMBL203  \\\n",
              "1        CHEMBL69960        =    nM      170.0        CHEMBL203   \n",
              "2       CHEMBL137635        =    nM     9300.0        CHEMBL203   \n",
              "3       CHEMBL306988        =    nM   500000.0        CHEMBL203   \n",
              "4        CHEMBL66879        =    nM  3000000.0        CHEMBL203   \n",
              "\n",
              "  target_organism  type  \n",
              "0    Homo sapiens  IC50  \n",
              "1    Homo sapiens  IC50  \n",
              "2    Homo sapiens  IC50  \n",
              "3    Homo sapiens  IC50  \n",
              "4    Homo sapiens  IC50  "
            ]
          },
          "execution_count": 23,
          "metadata": {},
          "output_type": "execute_result"
        }
      ],
      "source": [
        "bioactivities_df.rename(\n",
        "    columns={\"standard_value\": \"IC50\", \"standard_units\": \"units\"}, inplace=True\n",
        ")\n",
        "bioactivities_df.head()"
      ]
    },
    {
      "cell_type": "code",
      "execution_count": null,
      "metadata": {
        "id": "kzWhuHXi8zBq",
        "outputId": "b39531bb-c0b0-4bfa-9320-2b8e7fb48204"
      },
      "outputs": [
        {
          "name": "stdout",
          "output_type": "stream",
          "text": [
            "DataFrame shape: (6461, 11)\n"
          ]
        }
      ],
      "source": [
        "print(f\"DataFrame shape: {bioactivities_df.shape}\")"
      ]
    },
    {
      "cell_type": "markdown",
      "metadata": {
        "id": "iCvgcigF8zBq"
      },
      "source": [
        "We now have a set of **5575** molecule ids with respective IC50 values for our target kinase."
      ]
    },
    {
      "cell_type": "markdown",
      "metadata": {
        "id": "g_A8ggwF8zBq"
      },
      "source": [
        "### Get compound data\n",
        "\n",
        "We have a `DataFrame` containing all molecules tested against EGFR (with the respective measured bioactivity).\n",
        "\n",
        "Now, we want to get the molecular structures of the molecules that are linked to respective bioactivity ChEMBL IDs."
      ]
    },
    {
      "cell_type": "markdown",
      "metadata": {
        "id": "wYm4K8LD8zBq"
      },
      "source": [
        "#### Fetch compound data from ChEMBL\n",
        "\n",
        "Let's have a look at the compounds from ChEMBL which we have defined bioactivity data for: We fetch compound ChEMBL IDs and structures for the compounds linked to our filtered bioactivity data."
      ]
    },
    {
      "cell_type": "code",
      "execution_count": null,
      "metadata": {
        "id": "bdmLpRS38zBq"
      },
      "outputs": [],
      "source": [
        "compounds_provider = compounds_api.filter(\n",
        "    molecule_chembl_id__in=list(bioactivities_df[\"molecule_chembl_id\"])\n",
        ").only(\"molecule_chembl_id\", \"molecule_structures\")"
      ]
    },
    {
      "cell_type": "markdown",
      "metadata": {
        "id": "ahk5_BYN8zBq"
      },
      "source": [
        "#### Download compound data from ChEMBL\n",
        "\n",
        "Again, we want to export the `QuerySet` object into a `pandas.DataFrame`. Given the data volume, **this can take some time.** For that reason, we will first obtain the list of records through `tqdm`, so we get a nice progress bar and some ETAs. We can then pass the list of compounds to the DataFrame."
      ]
    },
    {
      "cell_type": "code",
      "execution_count": null,
      "metadata": {
        "colab": {
          "referenced_widgets": [
            "00f2933de0e84fed92bd432cc4015eab"
          ]
        },
        "id": "2-QHZtlx8zBq",
        "outputId": "410fb96a-b5cb-45fa-c4fb-ca61a8b61dc4"
      },
      "outputs": [
        {
          "data": {
            "application/vnd.jupyter.widget-view+json": {
              "model_id": "00f2933de0e84fed92bd432cc4015eab",
              "version_major": 2,
              "version_minor": 0
            },
            "text/plain": [
              "  0%|          | 0/6461 [00:00<?, ?it/s]"
            ]
          },
          "metadata": {},
          "output_type": "display_data"
        }
      ],
      "source": [
        "compounds = list(tqdm(compounds_provider))"
      ]
    },
    {
      "cell_type": "code",
      "execution_count": null,
      "metadata": {
        "id": "_BtUZ7LP8zBq",
        "outputId": "fff8c133-b50e-488c-d1f4-00d11e12ed12"
      },
      "outputs": [
        {
          "name": "stdout",
          "output_type": "stream",
          "text": [
            "DataFrame shape: (6461, 2)\n"
          ]
        }
      ],
      "source": [
        "compounds_df = pd.DataFrame.from_records(\n",
        "    compounds,\n",
        ")\n",
        "print(f\"DataFrame shape: {compounds_df.shape}\")"
      ]
    },
    {
      "cell_type": "code",
      "execution_count": null,
      "metadata": {
        "id": "3BPGZQkp8zBq",
        "outputId": "ee52c5b4-8fbb-4f1b-8815-228055c54ffb"
      },
      "outputs": [
        {
          "data": {
            "text/html": [
              "<div>\n",
              "<style scoped>\n",
              "    .dataframe tbody tr th:only-of-type {\n",
              "        vertical-align: middle;\n",
              "    }\n",
              "\n",
              "    .dataframe tbody tr th {\n",
              "        vertical-align: top;\n",
              "    }\n",
              "\n",
              "    .dataframe thead th {\n",
              "        text-align: right;\n",
              "    }\n",
              "</style>\n",
              "<table border=\"1\" class=\"dataframe\">\n",
              "  <thead>\n",
              "    <tr style=\"text-align: right;\">\n",
              "      <th></th>\n",
              "      <th>molecule_chembl_id</th>\n",
              "      <th>molecule_structures</th>\n",
              "    </tr>\n",
              "  </thead>\n",
              "  <tbody>\n",
              "    <tr>\n",
              "      <th>0</th>\n",
              "      <td>CHEMBL6246</td>\n",
              "      <td>{'canonical_smiles': 'O=c1oc2c(O)c(O)cc3c(=O)o...</td>\n",
              "    </tr>\n",
              "    <tr>\n",
              "      <th>1</th>\n",
              "      <td>CHEMBL10</td>\n",
              "      <td>{'canonical_smiles': 'C[S+]([O-])c1ccc(-c2nc(-...</td>\n",
              "    </tr>\n",
              "    <tr>\n",
              "      <th>2</th>\n",
              "      <td>CHEMBL6976</td>\n",
              "      <td>{'canonical_smiles': 'COc1cc2c(cc1OC)Nc1ncn(C)...</td>\n",
              "    </tr>\n",
              "    <tr>\n",
              "      <th>3</th>\n",
              "      <td>CHEMBL7002</td>\n",
              "      <td>{'canonical_smiles': 'CC1(COc2ccc(CC3SC(=O)NC3...</td>\n",
              "    </tr>\n",
              "    <tr>\n",
              "      <th>4</th>\n",
              "      <td>CHEMBL414013</td>\n",
              "      <td>{'canonical_smiles': 'COc1cc2c(cc1OC)Nc1ncnc(O...</td>\n",
              "    </tr>\n",
              "  </tbody>\n",
              "</table>\n",
              "</div>"
            ],
            "text/plain": [
              "  molecule_chembl_id                                molecule_structures\n",
              "0         CHEMBL6246  {'canonical_smiles': 'O=c1oc2c(O)c(O)cc3c(=O)o...\n",
              "1           CHEMBL10  {'canonical_smiles': 'C[S+]([O-])c1ccc(-c2nc(-...\n",
              "2         CHEMBL6976  {'canonical_smiles': 'COc1cc2c(cc1OC)Nc1ncn(C)...\n",
              "3         CHEMBL7002  {'canonical_smiles': 'CC1(COc2ccc(CC3SC(=O)NC3...\n",
              "4       CHEMBL414013  {'canonical_smiles': 'COc1cc2c(cc1OC)Nc1ncnc(O..."
            ]
          },
          "execution_count": 28,
          "metadata": {},
          "output_type": "execute_result"
        }
      ],
      "source": [
        "compounds_df.head()"
      ]
    },
    {
      "cell_type": "markdown",
      "metadata": {
        "id": "x1MfVZ5q8zBr"
      },
      "source": [
        "#### Preprocess and filter compound data\n",
        "\n",
        "1. Remove entries with missing entries\n",
        "2. Delete duplicate molecules (by molecule_chembl_id)\n",
        "3. Get molecules with canonical SMILES"
      ]
    },
    {
      "cell_type": "markdown",
      "metadata": {
        "id": "9dNPwWZC8zBr"
      },
      "source": [
        "**1. Remove entries with missing molecule structure entry**"
      ]
    },
    {
      "cell_type": "code",
      "execution_count": null,
      "metadata": {
        "id": "z40f8exa8zBr",
        "outputId": "25e35eb2-0e2a-41f7-bd68-11145d6ca67b"
      },
      "outputs": [
        {
          "name": "stdout",
          "output_type": "stream",
          "text": [
            "DataFrame shape: (6454, 2)\n"
          ]
        }
      ],
      "source": [
        "compounds_df.dropna(axis=0, how=\"any\", inplace=True)\n",
        "print(f\"DataFrame shape: {compounds_df.shape}\")"
      ]
    },
    {
      "cell_type": "markdown",
      "metadata": {
        "id": "oFOYhdaX8zBr"
      },
      "source": [
        "**2. Delete duplicate molecules**"
      ]
    },
    {
      "cell_type": "code",
      "execution_count": null,
      "metadata": {
        "id": "zvoq53Ox8zBr",
        "outputId": "ca4fe053-f539-4395-cd26-0374a13a78e7"
      },
      "outputs": [
        {
          "name": "stdout",
          "output_type": "stream",
          "text": [
            "DataFrame shape: (6454, 2)\n"
          ]
        }
      ],
      "source": [
        "compounds_df.drop_duplicates(\"molecule_chembl_id\", keep=\"first\", inplace=True)\n",
        "print(f\"DataFrame shape: {compounds_df.shape}\")"
      ]
    },
    {
      "cell_type": "markdown",
      "metadata": {
        "id": "oNOrwUTV8zBr"
      },
      "source": [
        "**3. Get molecules with canonical SMILES**\n",
        "\n",
        "So far, we have multiple different molecular structure representations. We only want to keep the canonical SMILES."
      ]
    },
    {
      "cell_type": "code",
      "execution_count": null,
      "metadata": {
        "id": "02M1DXoi8zBr",
        "outputId": "0a9fb0de-c5ac-47ae-9a5a-8112306a6624"
      },
      "outputs": [
        {
          "data": {
            "text/plain": [
              "dict_keys(['canonical_smiles', 'molfile', 'standard_inchi', 'standard_inchi_key'])"
            ]
          },
          "execution_count": 31,
          "metadata": {},
          "output_type": "execute_result"
        }
      ],
      "source": [
        "compounds_df.iloc[0].molecule_structures.keys()"
      ]
    },
    {
      "cell_type": "code",
      "execution_count": null,
      "metadata": {
        "id": "b4DlxCj28zBr",
        "outputId": "2f38df88-b1e2-45f5-aa81-f1bcec8fe31e"
      },
      "outputs": [
        {
          "name": "stdout",
          "output_type": "stream",
          "text": [
            "DataFrame shape: (6454, 2)\n"
          ]
        }
      ],
      "source": [
        "canonical_smiles = []\n",
        "\n",
        "for i, compounds in compounds_df.iterrows():\n",
        "    try:\n",
        "        canonical_smiles.append(compounds[\"molecule_structures\"][\"canonical_smiles\"])\n",
        "    except KeyError:\n",
        "        canonical_smiles.append(None)\n",
        "\n",
        "compounds_df[\"smiles\"] = canonical_smiles\n",
        "compounds_df.drop(\"molecule_structures\", axis=1, inplace=True)\n",
        "print(f\"DataFrame shape: {compounds_df.shape}\")"
      ]
    },
    {
      "cell_type": "markdown",
      "metadata": {
        "id": "yHigP2v78zBr"
      },
      "source": [
        "Sanity check: Remove all molecules without a canonical SMILES string."
      ]
    },
    {
      "cell_type": "code",
      "execution_count": null,
      "metadata": {
        "id": "2VgD7xNl8zBr",
        "outputId": "979585d4-9677-4eef-f6d7-98a22f6e86a6"
      },
      "outputs": [
        {
          "name": "stdout",
          "output_type": "stream",
          "text": [
            "DataFrame shape: (6454, 2)\n"
          ]
        }
      ],
      "source": [
        "compounds_df.dropna(axis=0, how=\"any\", inplace=True)\n",
        "print(f\"DataFrame shape: {compounds_df.shape}\")"
      ]
    },
    {
      "cell_type": "markdown",
      "metadata": {
        "id": "dDO5xJoy8zBs"
      },
      "source": [
        "### Output (bioactivity-compound) data\n",
        "**Summary of compound and bioactivity data**"
      ]
    },
    {
      "cell_type": "code",
      "execution_count": null,
      "metadata": {
        "id": "w28OCmkQ8zBs",
        "outputId": "1dcd2480-30e4-45b5-a4e9-dc312e797689"
      },
      "outputs": [
        {
          "name": "stdout",
          "output_type": "stream",
          "text": [
            "Bioactivities filtered: 6461\n"
          ]
        },
        {
          "data": {
            "text/plain": [
              "Index(['activity_id', 'assay_chembl_id', 'assay_description', 'assay_type',\n",
              "       'molecule_chembl_id', 'relation', 'units', 'IC50', 'target_chembl_id',\n",
              "       'target_organism', 'type'],\n",
              "      dtype='object')"
            ]
          },
          "execution_count": 34,
          "metadata": {},
          "output_type": "execute_result"
        }
      ],
      "source": [
        "print(f\"Bioactivities filtered: {bioactivities_df.shape[0]}\")\n",
        "bioactivities_df.columns"
      ]
    },
    {
      "cell_type": "code",
      "execution_count": null,
      "metadata": {
        "id": "Ub2F2rFz8zBs",
        "outputId": "c8bc4806-4a74-4849-e4bb-9a4d16d365d4"
      },
      "outputs": [
        {
          "name": "stdout",
          "output_type": "stream",
          "text": [
            "Compounds filtered: 6454\n"
          ]
        },
        {
          "data": {
            "text/plain": [
              "Index(['molecule_chembl_id', 'smiles'], dtype='object')"
            ]
          },
          "execution_count": 35,
          "metadata": {},
          "output_type": "execute_result"
        }
      ],
      "source": [
        "print(f\"Compounds filtered: {compounds_df.shape[0]}\")\n",
        "compounds_df.columns"
      ]
    },
    {
      "cell_type": "markdown",
      "metadata": {
        "id": "AdLFUWba8zBs"
      },
      "source": [
        "#### Merge both datasets\n",
        "\n",
        "Merge values of interest from `bioactivities_df` and `compounds_df` in an `output_df` based on the compounds' ChEMBL IDs (`molecule_chembl_id`), keeping the following columns:\n",
        "\n",
        "* ChEMBL IDs: `molecule_chembl_id`\n",
        "* SMILES: `smiles`\n",
        "* units: `units`\n",
        "* IC50: `IC50`"
      ]
    },
    {
      "cell_type": "code",
      "execution_count": null,
      "metadata": {
        "id": "EpAvi0yt8zBs",
        "outputId": "c5394226-aa56-4a0b-f0b7-beeb6ba40d7c"
      },
      "outputs": [
        {
          "name": "stdout",
          "output_type": "stream",
          "text": [
            "Dataset with 6454 entries.\n"
          ]
        }
      ],
      "source": [
        "# Merge DataFrames\n",
        "output_df = pd.merge(\n",
        "    bioactivities_df[[\"molecule_chembl_id\", \"IC50\", \"units\"]],\n",
        "    compounds_df,\n",
        "    on=\"molecule_chembl_id\",\n",
        ")\n",
        "\n",
        "# Reset row indices\n",
        "output_df.reset_index(drop=True, inplace=True)\n",
        "\n",
        "print(f\"Dataset with {output_df.shape[0]} entries.\")"
      ]
    },
    {
      "cell_type": "code",
      "execution_count": null,
      "metadata": {
        "id": "vw9rAhIr8zBs",
        "outputId": "cc0dcd61-c487-4314-d99a-4ad6014f8aa9"
      },
      "outputs": [
        {
          "data": {
            "text/plain": [
              "molecule_chembl_id     object\n",
              "IC50                  float64\n",
              "units                  object\n",
              "smiles                 object\n",
              "dtype: object"
            ]
          },
          "execution_count": 37,
          "metadata": {},
          "output_type": "execute_result"
        }
      ],
      "source": [
        "output_df.dtypes"
      ]
    },
    {
      "cell_type": "code",
      "execution_count": null,
      "metadata": {
        "id": "lIG8G3We8zBs",
        "outputId": "beb1e33c-e15e-4168-bb9a-ae6dc35394ad"
      },
      "outputs": [
        {
          "data": {
            "text/html": [
              "<div>\n",
              "<style scoped>\n",
              "    .dataframe tbody tr th:only-of-type {\n",
              "        vertical-align: middle;\n",
              "    }\n",
              "\n",
              "    .dataframe tbody tr th {\n",
              "        vertical-align: top;\n",
              "    }\n",
              "\n",
              "    .dataframe thead th {\n",
              "        text-align: right;\n",
              "    }\n",
              "</style>\n",
              "<table border=\"1\" class=\"dataframe\">\n",
              "  <thead>\n",
              "    <tr style=\"text-align: right;\">\n",
              "      <th></th>\n",
              "      <th>molecule_chembl_id</th>\n",
              "      <th>IC50</th>\n",
              "      <th>units</th>\n",
              "      <th>smiles</th>\n",
              "    </tr>\n",
              "  </thead>\n",
              "  <tbody>\n",
              "    <tr>\n",
              "      <th>0</th>\n",
              "      <td>CHEMBL68920</td>\n",
              "      <td>41.0</td>\n",
              "      <td>nM</td>\n",
              "      <td>Cc1cc(C)c(/C=C2\\C(=O)Nc3ncnc(Nc4ccc(F)c(Cl)c4)...</td>\n",
              "    </tr>\n",
              "    <tr>\n",
              "      <th>1</th>\n",
              "      <td>CHEMBL69960</td>\n",
              "      <td>170.0</td>\n",
              "      <td>nM</td>\n",
              "      <td>Cc1cc(C(=O)N2CCOCC2)[nH]c1/C=C1\\C(=O)Nc2ncnc(N...</td>\n",
              "    </tr>\n",
              "    <tr>\n",
              "      <th>2</th>\n",
              "      <td>CHEMBL137635</td>\n",
              "      <td>9300.0</td>\n",
              "      <td>nM</td>\n",
              "      <td>CN(c1ccccc1)c1ncnc2ccc(N/N=N/Cc3ccccn3)cc12</td>\n",
              "    </tr>\n",
              "    <tr>\n",
              "      <th>3</th>\n",
              "      <td>CHEMBL306988</td>\n",
              "      <td>500000.0</td>\n",
              "      <td>nM</td>\n",
              "      <td>CC(=C(C#N)C#N)c1ccc(NC(=O)CCC(=O)O)cc1</td>\n",
              "    </tr>\n",
              "    <tr>\n",
              "      <th>4</th>\n",
              "      <td>CHEMBL66879</td>\n",
              "      <td>3000000.0</td>\n",
              "      <td>nM</td>\n",
              "      <td>O=C(O)/C=C/c1ccc(O)cc1</td>\n",
              "    </tr>\n",
              "    <tr>\n",
              "      <th>5</th>\n",
              "      <td>CHEMBL77085</td>\n",
              "      <td>96000.0</td>\n",
              "      <td>nM</td>\n",
              "      <td>N#CC(C#N)=Cc1cc(O)ccc1[N+](=O)[O-]</td>\n",
              "    </tr>\n",
              "    <tr>\n",
              "      <th>6</th>\n",
              "      <td>CHEMBL443268</td>\n",
              "      <td>5310.0</td>\n",
              "      <td>nM</td>\n",
              "      <td>Cc1cc(C(=O)NCCN2CCOCC2)[nH]c1/C=C1\\C(=O)N(C)c2...</td>\n",
              "    </tr>\n",
              "    <tr>\n",
              "      <th>7</th>\n",
              "      <td>CHEMBL76979</td>\n",
              "      <td>264000.0</td>\n",
              "      <td>nM</td>\n",
              "      <td>COc1cc(/C=C(\\C#N)C(=O)O)cc(OC)c1O</td>\n",
              "    </tr>\n",
              "    <tr>\n",
              "      <th>8</th>\n",
              "      <td>CHEMBL76589</td>\n",
              "      <td>125.0</td>\n",
              "      <td>nM</td>\n",
              "      <td>N#CC(C#N)=C(N)/C(C#N)=C/c1ccc(O)cc1</td>\n",
              "    </tr>\n",
              "    <tr>\n",
              "      <th>9</th>\n",
              "      <td>CHEMBL76904</td>\n",
              "      <td>35000.0</td>\n",
              "      <td>nM</td>\n",
              "      <td>N#CC(C#N)=Cc1ccc(O)c(O)c1</td>\n",
              "    </tr>\n",
              "  </tbody>\n",
              "</table>\n",
              "</div>"
            ],
            "text/plain": [
              "  molecule_chembl_id       IC50 units   \n",
              "0        CHEMBL68920       41.0    nM  \\\n",
              "1        CHEMBL69960      170.0    nM   \n",
              "2       CHEMBL137635     9300.0    nM   \n",
              "3       CHEMBL306988   500000.0    nM   \n",
              "4        CHEMBL66879  3000000.0    nM   \n",
              "5        CHEMBL77085    96000.0    nM   \n",
              "6       CHEMBL443268     5310.0    nM   \n",
              "7        CHEMBL76979   264000.0    nM   \n",
              "8        CHEMBL76589      125.0    nM   \n",
              "9        CHEMBL76904    35000.0    nM   \n",
              "\n",
              "                                              smiles  \n",
              "0  Cc1cc(C)c(/C=C2\\C(=O)Nc3ncnc(Nc4ccc(F)c(Cl)c4)...  \n",
              "1  Cc1cc(C(=O)N2CCOCC2)[nH]c1/C=C1\\C(=O)Nc2ncnc(N...  \n",
              "2        CN(c1ccccc1)c1ncnc2ccc(N/N=N/Cc3ccccn3)cc12  \n",
              "3             CC(=C(C#N)C#N)c1ccc(NC(=O)CCC(=O)O)cc1  \n",
              "4                             O=C(O)/C=C/c1ccc(O)cc1  \n",
              "5                 N#CC(C#N)=Cc1cc(O)ccc1[N+](=O)[O-]  \n",
              "6  Cc1cc(C(=O)NCCN2CCOCC2)[nH]c1/C=C1\\C(=O)N(C)c2...  \n",
              "7                  COc1cc(/C=C(\\C#N)C(=O)O)cc(OC)c1O  \n",
              "8                N#CC(C#N)=C(N)/C(C#N)=C/c1ccc(O)cc1  \n",
              "9                          N#CC(C#N)=Cc1ccc(O)c(O)c1  "
            ]
          },
          "execution_count": 38,
          "metadata": {},
          "output_type": "execute_result"
        }
      ],
      "source": [
        "output_df.head(10)"
      ]
    },
    {
      "cell_type": "markdown",
      "metadata": {
        "id": "k09CrS2q8zBs"
      },
      "source": [
        "#### Add pIC50 values"
      ]
    },
    {
      "cell_type": "markdown",
      "metadata": {
        "id": "XkXa0K-M8zBt"
      },
      "source": [
        "As you can see the low IC50 values are difficult to read (values are distributed over multiple scales), which is why we convert the IC50 values to pIC50."
      ]
    },
    {
      "cell_type": "code",
      "execution_count": null,
      "metadata": {
        "id": "9X8yjvUV8zBt"
      },
      "outputs": [],
      "source": [
        "def convert_ic50_to_pic50(IC50_value):\n",
        "    pIC50_value = 9 - math.log10(IC50_value)\n",
        "    return pIC50_value"
      ]
    },
    {
      "cell_type": "code",
      "execution_count": null,
      "metadata": {
        "id": "nFAc1ngp8zBt"
      },
      "outputs": [],
      "source": [
        "# Apply conversion to each row of the compounds DataFrame\n",
        "output_df[\"pIC50\"] = output_df.apply(lambda x: convert_ic50_to_pic50(x.IC50), axis=1)"
      ]
    },
    {
      "cell_type": "code",
      "execution_count": null,
      "metadata": {
        "id": "pcXjnlFk8zBt",
        "outputId": "c099a77f-4448-460c-e472-4faeed5a8902"
      },
      "outputs": [
        {
          "data": {
            "text/html": [
              "<div>\n",
              "<style scoped>\n",
              "    .dataframe tbody tr th:only-of-type {\n",
              "        vertical-align: middle;\n",
              "    }\n",
              "\n",
              "    .dataframe tbody tr th {\n",
              "        vertical-align: top;\n",
              "    }\n",
              "\n",
              "    .dataframe thead th {\n",
              "        text-align: right;\n",
              "    }\n",
              "</style>\n",
              "<table border=\"1\" class=\"dataframe\">\n",
              "  <thead>\n",
              "    <tr style=\"text-align: right;\">\n",
              "      <th></th>\n",
              "      <th>molecule_chembl_id</th>\n",
              "      <th>IC50</th>\n",
              "      <th>units</th>\n",
              "      <th>smiles</th>\n",
              "      <th>pIC50</th>\n",
              "    </tr>\n",
              "  </thead>\n",
              "  <tbody>\n",
              "    <tr>\n",
              "      <th>0</th>\n",
              "      <td>CHEMBL68920</td>\n",
              "      <td>41.0</td>\n",
              "      <td>nM</td>\n",
              "      <td>Cc1cc(C)c(/C=C2\\C(=O)Nc3ncnc(Nc4ccc(F)c(Cl)c4)...</td>\n",
              "      <td>7.387216</td>\n",
              "    </tr>\n",
              "    <tr>\n",
              "      <th>1</th>\n",
              "      <td>CHEMBL69960</td>\n",
              "      <td>170.0</td>\n",
              "      <td>nM</td>\n",
              "      <td>Cc1cc(C(=O)N2CCOCC2)[nH]c1/C=C1\\C(=O)Nc2ncnc(N...</td>\n",
              "      <td>6.769551</td>\n",
              "    </tr>\n",
              "    <tr>\n",
              "      <th>2</th>\n",
              "      <td>CHEMBL137635</td>\n",
              "      <td>9300.0</td>\n",
              "      <td>nM</td>\n",
              "      <td>CN(c1ccccc1)c1ncnc2ccc(N/N=N/Cc3ccccn3)cc12</td>\n",
              "      <td>5.031517</td>\n",
              "    </tr>\n",
              "    <tr>\n",
              "      <th>3</th>\n",
              "      <td>CHEMBL306988</td>\n",
              "      <td>500000.0</td>\n",
              "      <td>nM</td>\n",
              "      <td>CC(=C(C#N)C#N)c1ccc(NC(=O)CCC(=O)O)cc1</td>\n",
              "      <td>3.301030</td>\n",
              "    </tr>\n",
              "    <tr>\n",
              "      <th>4</th>\n",
              "      <td>CHEMBL66879</td>\n",
              "      <td>3000000.0</td>\n",
              "      <td>nM</td>\n",
              "      <td>O=C(O)/C=C/c1ccc(O)cc1</td>\n",
              "      <td>2.522879</td>\n",
              "    </tr>\n",
              "  </tbody>\n",
              "</table>\n",
              "</div>"
            ],
            "text/plain": [
              "  molecule_chembl_id       IC50 units   \n",
              "0        CHEMBL68920       41.0    nM  \\\n",
              "1        CHEMBL69960      170.0    nM   \n",
              "2       CHEMBL137635     9300.0    nM   \n",
              "3       CHEMBL306988   500000.0    nM   \n",
              "4        CHEMBL66879  3000000.0    nM   \n",
              "\n",
              "                                              smiles     pIC50  \n",
              "0  Cc1cc(C)c(/C=C2\\C(=O)Nc3ncnc(Nc4ccc(F)c(Cl)c4)...  7.387216  \n",
              "1  Cc1cc(C(=O)N2CCOCC2)[nH]c1/C=C1\\C(=O)Nc2ncnc(N...  6.769551  \n",
              "2        CN(c1ccccc1)c1ncnc2ccc(N/N=N/Cc3ccccn3)cc12  5.031517  \n",
              "3             CC(=C(C#N)C#N)c1ccc(NC(=O)CCC(=O)O)cc1  3.301030  \n",
              "4                             O=C(O)/C=C/c1ccc(O)cc1  2.522879  "
            ]
          },
          "execution_count": 41,
          "metadata": {},
          "output_type": "execute_result"
        }
      ],
      "source": [
        "output_df.head()"
      ]
    },
    {
      "cell_type": "markdown",
      "metadata": {
        "id": "VWYRFArg8zBt"
      },
      "source": [
        "#### Draw compound data\n",
        "\n",
        "Let's have a look at our collected data set.\n",
        "\n",
        "First, we plot the pIC50 value distribution"
      ]
    },
    {
      "cell_type": "code",
      "execution_count": null,
      "metadata": {
        "tags": [
          "nbsphinx-thumbnail"
        ],
        "id": "BLEzAUNI8zBt",
        "outputId": "d8874d73-16ff-43b2-bcf5-38844e38508a"
      },
      "outputs": [
        {
          "data": {
            "text/plain": [
              "array([[<Axes: title={'center': 'pIC50'}>]], dtype=object)"
            ]
          },
          "execution_count": 42,
          "metadata": {},
          "output_type": "execute_result"
        },
        {
          "data": {
            "image/png": "[encoded data removed]",
            "text/plain": [
              "<Figure size 640x480 with 1 Axes>"
            ]
          },
          "metadata": {},
          "output_type": "display_data"
        }
      ],
      "source": [
        "output_df.hist(column=\"pIC50\")"
      ]
    },
    {
      "cell_type": "markdown",
      "metadata": {
        "id": "O_s-_yn78zBt"
      },
      "source": [
        "In the next steps, we add a column for RDKit molecule objects to our `DataFrame` and look at the structures of the molecules with the highest pIC50 values."
      ]
    },
    {
      "cell_type": "code",
      "execution_count": null,
      "metadata": {
        "id": "0ivPIRMf8zBt"
      },
      "outputs": [],
      "source": [
        "# Add molecule column\n",
        "PandasTools.AddMoleculeColumnToFrame(output_df, smilesCol=\"smiles\")"
      ]
    },
    {
      "cell_type": "code",
      "execution_count": null,
      "metadata": {
        "id": "VID8A1im8zBt"
      },
      "outputs": [],
      "source": [
        "# Sort molecules by pIC50\n",
        "output_df.sort_values(by=\"pIC50\", ascending=False, inplace=True)\n",
        "\n",
        "# Reset index\n",
        "output_df.reset_index(drop=True, inplace=True)"
      ]
    },
    {
      "cell_type": "markdown",
      "metadata": {
        "id": "_Rs-R6oS8zBt"
      },
      "source": [
        "Show the three most active molecules, i.e. molecules with the highest pIC50 values."
      ]
    },
    {
      "cell_type": "code",
      "execution_count": null,
      "metadata": {
        "id": "Ulwj9Thu8zBu",
        "outputId": "5789af12-f7ee-4720-f39a-bb18a540ab91"
      },
      "outputs": [
        {
          "data": {
            "text/html": [
              "<div>\n",
              "<style scoped>\n",
              "    .dataframe tbody tr th:only-of-type {\n",
              "        vertical-align: middle;\n",
              "    }\n",
              "\n",
              "    .dataframe tbody tr th {\n",
              "        vertical-align: top;\n",
              "    }\n",
              "\n",
              "    .dataframe thead th {\n",
              "        text-align: right;\n",
              "    }\n",
              "</style>\n",
              "<table border=\"1\" class=\"dataframe\">\n",
              "  <thead>\n",
              "    <tr style=\"text-align: right;\">\n",
              "      <th></th>\n",
              "      <th>molecule_chembl_id</th>\n",
              "      <th>IC50</th>\n",
              "      <th>units</th>\n",
              "      <th>pIC50</th>\n",
              "      <th>ROMol</th>\n",
              "    </tr>\n",
              "  </thead>\n",
              "  <tbody>\n",
              "    <tr>\n",
              "      <th>0</th>\n",
              "      <td>CHEMBL63786</td>\n",
              "      <td>0.003</td>\n",
              "      <td>nM</td>\n",
              "      <td>11.522879</td>\n",
              "      <td>&lt;rdkit.Chem.rdchem.Mol object at 0x7f041e269430&gt;</td>\n",
              "    </tr>\n",
              "    <tr>\n",
              "      <th>1</th>\n",
              "      <td>CHEMBL53711</td>\n",
              "      <td>0.006</td>\n",
              "      <td>nM</td>\n",
              "      <td>11.221849</td>\n",
              "      <td>&lt;rdkit.Chem.rdchem.Mol object at 0x7f041e260ac0&gt;</td>\n",
              "    </tr>\n",
              "    <tr>\n",
              "      <th>2</th>\n",
              "      <td>CHEMBL35820</td>\n",
              "      <td>0.006</td>\n",
              "      <td>nM</td>\n",
              "      <td>11.221849</td>\n",
              "      <td>&lt;rdkit.Chem.rdchem.Mol object at 0x7f041e253ac0&gt;</td>\n",
              "    </tr>\n",
              "  </tbody>\n",
              "</table>\n",
              "</div>"
            ],
            "text/plain": [
              "  molecule_chembl_id   IC50 units      pIC50   \n",
              "0        CHEMBL63786  0.003    nM  11.522879  \\\n",
              "1        CHEMBL53711  0.006    nM  11.221849   \n",
              "2        CHEMBL35820  0.006    nM  11.221849   \n",
              "\n",
              "                                              ROMol  \n",
              "0  <rdkit.Chem.rdchem.Mol object at 0x7f041e269430>  \n",
              "1  <rdkit.Chem.rdchem.Mol object at 0x7f041e260ac0>  \n",
              "2  <rdkit.Chem.rdchem.Mol object at 0x7f041e253ac0>  "
            ]
          },
          "execution_count": 45,
          "metadata": {},
          "output_type": "execute_result"
        }
      ],
      "source": [
        "output_df.drop(\"smiles\", axis=1).head(3)"
      ]
    },
    {
      "cell_type": "code",
      "execution_count": null,
      "metadata": {
        "id": "XLZD4ofV8zBu",
        "outputId": "1d3de96c-666f-412c-a8e8-69012aa655b5"
      },
      "outputs": [
        {
          "name": "stdout",
          "output_type": "stream",
          "text": [
            "DataFrame shape: (6454, 5)\n"
          ]
        }
      ],
      "source": [
        "# Prepare saving the dataset: Drop the ROMol column\n",
        "output_df = output_df.drop(\"ROMol\", axis=1)\n",
        "print(f\"DataFrame shape: {output_df.shape}\")"
      ]
    },
    {
      "cell_type": "markdown",
      "metadata": {
        "id": "eWGUWNrT8zBu"
      },
      "source": [
        "#### Freeze output data to ChEMBL 27\n",
        "\n",
        "This is a technical step: Usually, we would continue to work with the dataset that we just created (latest dataset).\n",
        "\n",
        "However, here on the TeachOpenCADD platform, we prefer to freeze the dataset to a certain ChEMBL releases (i.e. [ChEMBL 27](http://doi.org/10.6019/CHEMBL.database.27)),\n",
        "so that this talktorial and other talktorials downstream in our CADD pipeline do not change in the future (helping us to maintain the talktorials)."
      ]
    },
    {
      "cell_type": "markdown",
      "metadata": {
        "id": "LVDHZM9O8zBu"
      },
      "source": [
        "<div class=\"alert alert-block alert-info\">\n",
        "\n",
        "<b>Note:</b> If you prefer to run this notebook on the latest dataset or if you want to use it for another target, please comment the cell below.\n",
        "\n",
        "</div>"
      ]
    },
    {
      "cell_type": "code",
      "execution_count": null,
      "metadata": {
        "id": "ltafqPXq8zBu",
        "outputId": "49165a6d-fa3c-4094-e440-e36b7fcf58d4"
      },
      "outputs": [
        {
          "data": {
            "text/html": [
              "<div>\n",
              "<style scoped>\n",
              "    .dataframe tbody tr th:only-of-type {\n",
              "        vertical-align: middle;\n",
              "    }\n",
              "\n",
              "    .dataframe tbody tr th {\n",
              "        vertical-align: top;\n",
              "    }\n",
              "\n",
              "    .dataframe thead th {\n",
              "        text-align: right;\n",
              "    }\n",
              "</style>\n",
              "<table border=\"1\" class=\"dataframe\">\n",
              "  <thead>\n",
              "    <tr style=\"text-align: right;\">\n",
              "      <th></th>\n",
              "      <th>molecule_chembl_id</th>\n",
              "      <th>IC50</th>\n",
              "      <th>units</th>\n",
              "      <th>smiles</th>\n",
              "      <th>pIC50</th>\n",
              "    </tr>\n",
              "  </thead>\n",
              "  <tbody>\n",
              "    <tr>\n",
              "      <th>0</th>\n",
              "      <td>CHEMBL63786</td>\n",
              "      <td>0.003</td>\n",
              "      <td>nM</td>\n",
              "      <td>Brc1cccc(Nc2ncnc3cc4ccccc4cc23)c1</td>\n",
              "      <td>11.522879</td>\n",
              "    </tr>\n",
              "    <tr>\n",
              "      <th>1</th>\n",
              "      <td>CHEMBL35820</td>\n",
              "      <td>0.006</td>\n",
              "      <td>nM</td>\n",
              "      <td>CCOc1cc2ncnc(Nc3cccc(Br)c3)c2cc1OCC</td>\n",
              "      <td>11.221849</td>\n",
              "    </tr>\n",
              "    <tr>\n",
              "      <th>2</th>\n",
              "      <td>CHEMBL53711</td>\n",
              "      <td>0.006</td>\n",
              "      <td>nM</td>\n",
              "      <td>CN(C)c1cc2c(Nc3cccc(Br)c3)ncnc2cn1</td>\n",
              "      <td>11.221849</td>\n",
              "    </tr>\n",
              "    <tr>\n",
              "      <th>3</th>\n",
              "      <td>CHEMBL66031</td>\n",
              "      <td>0.008</td>\n",
              "      <td>nM</td>\n",
              "      <td>Brc1cccc(Nc2ncnc3cc4[nH]cnc4cc23)c1</td>\n",
              "      <td>11.096910</td>\n",
              "    </tr>\n",
              "    <tr>\n",
              "      <th>4</th>\n",
              "      <td>CHEMBL53753</td>\n",
              "      <td>0.008</td>\n",
              "      <td>nM</td>\n",
              "      <td>CNc1cc2c(Nc3cccc(Br)c3)ncnc2cn1</td>\n",
              "      <td>11.096910</td>\n",
              "    </tr>\n",
              "  </tbody>\n",
              "</table>\n",
              "</div>"
            ],
            "text/plain": [
              "  molecule_chembl_id   IC50 units                               smiles   \n",
              "0        CHEMBL63786  0.003    nM    Brc1cccc(Nc2ncnc3cc4ccccc4cc23)c1  \\\n",
              "1        CHEMBL35820  0.006    nM  CCOc1cc2ncnc(Nc3cccc(Br)c3)c2cc1OCC   \n",
              "2        CHEMBL53711  0.006    nM   CN(C)c1cc2c(Nc3cccc(Br)c3)ncnc2cn1   \n",
              "3        CHEMBL66031  0.008    nM  Brc1cccc(Nc2ncnc3cc4[nH]cnc4cc23)c1   \n",
              "4        CHEMBL53753  0.008    nM      CNc1cc2c(Nc3cccc(Br)c3)ncnc2cn1   \n",
              "\n",
              "       pIC50  \n",
              "0  11.522879  \n",
              "1  11.221849  \n",
              "2  11.221849  \n",
              "3  11.096910  \n",
              "4  11.096910  "
            ]
          },
          "execution_count": 47,
          "metadata": {},
          "output_type": "execute_result"
        }
      ],
      "source": [
        "# Disable this cell to unfreeze the dataset\n",
        "output_df = pd.read_csv(\n",
        "    DATA / \"EGFR_compounds_ea055ef.csv\", index_col=0, float_precision=\"round_trip\"\n",
        ")\n",
        "output_df.head()"
      ]
    },
    {
      "cell_type": "code",
      "execution_count": null,
      "metadata": {
        "id": "Y4f5Uqs78zBv",
        "outputId": "e17c50f2-2bc8-400b-bda0-b5ac7cf1fda5"
      },
      "outputs": [
        {
          "name": "stdout",
          "output_type": "stream",
          "text": [
            "DataFrame shape: (5568, 5)\n"
          ]
        }
      ],
      "source": [
        "print(f\"DataFrame shape: {output_df.shape}\")\n",
        "# NBVAL_CHECK_OUTPUT"
      ]
    },
    {
      "cell_type": "markdown",
      "metadata": {
        "tags": [],
        "id": "D3CMJg4D8zBv"
      },
      "source": [
        "#### Write output data to file\n",
        "\n",
        "We want to use this bioactivity-compound dataset in the following talktorials, thus we save the data as `csv` file.\n",
        "Note that it is advisable to drop the molecule column (which only contains an image of the molecules) when saving the data."
      ]
    },
    {
      "cell_type": "code",
      "execution_count": null,
      "metadata": {
        "scrolled": true,
        "id": "YE16o2o-8zBv",
        "outputId": "0da6baab-9a05-42a2-a446-fd09c8f152b4"
      },
      "outputs": [
        {
          "data": {
            "text/html": [
              "<div>\n",
              "<style scoped>\n",
              "    .dataframe tbody tr th:only-of-type {\n",
              "        vertical-align: middle;\n",
              "    }\n",
              "\n",
              "    .dataframe tbody tr th {\n",
              "        vertical-align: top;\n",
              "    }\n",
              "\n",
              "    .dataframe thead th {\n",
              "        text-align: right;\n",
              "    }\n",
              "</style>\n",
              "<table border=\"1\" class=\"dataframe\">\n",
              "  <thead>\n",
              "    <tr style=\"text-align: right;\">\n",
              "      <th></th>\n",
              "      <th>molecule_chembl_id</th>\n",
              "      <th>IC50</th>\n",
              "      <th>units</th>\n",
              "      <th>smiles</th>\n",
              "      <th>pIC50</th>\n",
              "    </tr>\n",
              "  </thead>\n",
              "  <tbody>\n",
              "    <tr>\n",
              "      <th>0</th>\n",
              "      <td>CHEMBL63786</td>\n",
              "      <td>0.003</td>\n",
              "      <td>nM</td>\n",
              "      <td>Brc1cccc(Nc2ncnc3cc4ccccc4cc23)c1</td>\n",
              "      <td>11.522879</td>\n",
              "    </tr>\n",
              "    <tr>\n",
              "      <th>1</th>\n",
              "      <td>CHEMBL35820</td>\n",
              "      <td>0.006</td>\n",
              "      <td>nM</td>\n",
              "      <td>CCOc1cc2ncnc(Nc3cccc(Br)c3)c2cc1OCC</td>\n",
              "      <td>11.221849</td>\n",
              "    </tr>\n",
              "    <tr>\n",
              "      <th>2</th>\n",
              "      <td>CHEMBL53711</td>\n",
              "      <td>0.006</td>\n",
              "      <td>nM</td>\n",
              "      <td>CN(C)c1cc2c(Nc3cccc(Br)c3)ncnc2cn1</td>\n",
              "      <td>11.221849</td>\n",
              "    </tr>\n",
              "    <tr>\n",
              "      <th>3</th>\n",
              "      <td>CHEMBL66031</td>\n",
              "      <td>0.008</td>\n",
              "      <td>nM</td>\n",
              "      <td>Brc1cccc(Nc2ncnc3cc4[nH]cnc4cc23)c1</td>\n",
              "      <td>11.096910</td>\n",
              "    </tr>\n",
              "    <tr>\n",
              "      <th>4</th>\n",
              "      <td>CHEMBL53753</td>\n",
              "      <td>0.008</td>\n",
              "      <td>nM</td>\n",
              "      <td>CNc1cc2c(Nc3cccc(Br)c3)ncnc2cn1</td>\n",
              "      <td>11.096910</td>\n",
              "    </tr>\n",
              "  </tbody>\n",
              "</table>\n",
              "</div>"
            ],
            "text/plain": [
              "  molecule_chembl_id   IC50 units                               smiles   \n",
              "0        CHEMBL63786  0.003    nM    Brc1cccc(Nc2ncnc3cc4ccccc4cc23)c1  \\\n",
              "1        CHEMBL35820  0.006    nM  CCOc1cc2ncnc(Nc3cccc(Br)c3)c2cc1OCC   \n",
              "2        CHEMBL53711  0.006    nM   CN(C)c1cc2c(Nc3cccc(Br)c3)ncnc2cn1   \n",
              "3        CHEMBL66031  0.008    nM  Brc1cccc(Nc2ncnc3cc4[nH]cnc4cc23)c1   \n",
              "4        CHEMBL53753  0.008    nM      CNc1cc2c(Nc3cccc(Br)c3)ncnc2cn1   \n",
              "\n",
              "       pIC50  \n",
              "0  11.522879  \n",
              "1  11.221849  \n",
              "2  11.221849  \n",
              "3  11.096910  \n",
              "4  11.096910  "
            ]
          },
          "execution_count": 49,
          "metadata": {},
          "output_type": "execute_result"
        }
      ],
      "source": [
        "output_df.to_csv(DATA / \"EGFR_compounds.csv\")\n",
        "output_df.head()"
      ]
    },
    {
      "cell_type": "code",
      "execution_count": null,
      "metadata": {
        "id": "e5msSF-o8zBv",
        "outputId": "7e25a528-4ebf-426f-c247-e4a6190a59ff"
      },
      "outputs": [
        {
          "name": "stdout",
          "output_type": "stream",
          "text": [
            "DataFrame shape: (5568, 5)\n"
          ]
        }
      ],
      "source": [
        "print(f\"DataFrame shape: {output_df.shape}\")\n",
        "# NBVAL_CHECK_OUTPUT"
      ]
    },
    {
      "cell_type": "markdown",
      "metadata": {
        "id": "Yk2oKDz_8zBv"
      },
      "source": [
        "## Discussion"
      ]
    },
    {
      "cell_type": "markdown",
      "metadata": {
        "id": "r5m8ew0y8zBw"
      },
      "source": [
        "In this tutorial, we collected bioactivity data for our target of interest from the ChEMBL database.\n",
        "We filtered the data set in order to only contain molecules with measured IC50 bioactivity values.\n",
        "\n",
        "Be aware that ChEMBL data originates from various sources. Compound data has been generated in different labs by different people all over the world. Therefore, we have to be cautious with the predictions we make using this data set. It is always important to consider the source of the data and consistency of data production assays when interpreting the results and determining how much confidence we have in our predictions.\n",
        "\n",
        "In the next tutorials, we will filter our acquired data by Lipinski's rule of five and by unwanted substructures. Another important step would be to *clean* the molecular data. As this is not shown in any of our talktorials (yet), we would like to refer to the [Standardiser library](https://github.com/flatkinson/standardiser) or [MolVS](https://molvs.readthedocs.io/en/latest/) as useful tools for this task."
      ]
    },
    {
      "cell_type": "markdown",
      "metadata": {
        "id": "-UzEtrn58zBw"
      },
      "source": [
        "## Quiz"
      ]
    },
    {
      "cell_type": "markdown",
      "metadata": {
        "id": "N4ZptZOX8zBw"
      },
      "source": [
        "* We have downloaded in this talktorial molecules and bioactivity data from ChEMBL. What else is the ChEMBL database useful for?\n",
        "* What is the difference between IC50 and EC50?\n",
        "* What can we use the data extracted from ChEMBL for?"
      ]
    },
    {
      "cell_type": "markdown",
      "metadata": {
        "id": "19L1Mexq8zBw"
      },
      "source": [
        "## References\n",
        "\n",
        "* Review on \"Molecular similarity in medicinal chemistry\" ([<i>J. Med. Chem.</i> (2014), <b>57</b>, 3186-3204](https://pubmed.ncbi.nlm.nih.gov/24151987))\n",
        "* [Morgan fingerprints](http://www.rdkit.org/docs/GettingStartedInPython.html#morgan-fingerprints-circular-fingerprints) with `rdkit`\n",
        "* Description of the extended-connectivity fingerprint ECFP ([<i>J. Chem. Inf. Model.</i> (2010), <b>50</b>,742-754](https://pubs.acs.org/doi/abs/10.1021/ci100050t))\n",
        "* What is the chemical space?\n",
        "([<i>ACS Chem. Neurosci.</i> (2012), <b>19</b>, 649-57](https://www.ncbi.nlm.nih.gov/pubmed/23019491))\n",
        "* List of [molecular descriptors](https://www.rdkit.org/docs/GettingStartedInPython.html#list-of-available-descriptors) in `rdkit`\n",
        "* List of [fingerprints](https://www.rdkit.org/docs/GettingStartedInPython.html#list-of-available-fingerprints) in `rdkit`\n",
        "* Introduction to enrichment plots ([Applied Chemoinformatics, Wiley-VCH Verlag GmbH & Co. KGaA, Weinheim, (2018), **1**, 313-31](https://onlinelibrary.wiley.com/doi/10.1002/9783527806539.ch6h))\n",
        "* Sydow, D., Morger, A., Driller, M. et al. TeachOpenCADD: a teaching platform for computer-aided drug design using open source packages and data. J Cheminform 11, 29 (2019). https://doi.org/10.1186/s13321-019-0351-x\n",
        "* Sydow, D., Rodríguez-Guerra, J., Kimber, T. B., Schaller, D., Taylor, C. J., Chen, Y., Leja, M., Misra, S., Wichmann, M., Ariamajd, A., & Volkamer, A. (2022). TeachOpenCADD 2022: Open source and FAIR Python pipelines to assist in structural bioinformatics and cheminformatics research. Nucleic Acids Research, 50(W1), W753–W760. https://doi.org/10.1093/nar/gkac267\n",
        "* Kimber, T. B., Sydow, D., & Volkamer, A. (2022). Kinase similarity assessment pipeline for off-target prediction [v1.0]. Living Journal of Computational Molecular Science, 3(1), 1599. https://doi.org/10.1186/s13321-019-0351-x\n",
        "* Backenköhler, M., Kramer, P. L., Groß, J., Großmann, G., Joeres, R., Tagirdzhanov, A., Sydow, D., Ibrahim, H., Odje, F., Wolf, V., & Volkamer, A. (2023). TeachOpenCADD goes deep learning: Open-source teaching platform exploring molecular DL applications [Preprint]. ChemRxiv. https://doi.org/10.26434/chemrxiv-2023-kz1pb\n",
        "*Sydow, D., Wichmann, M., Rodríguez-Guerra, J., Goldmann, D., Landrum, G., & Volkamer, A. (2019). TeachOpenCADD-KNIME: A teaching platform for computer-aided drug design using KNIME workflows. Journal of Chemical Information and Modeling, 59(10), 4083–4086. https://doi.org/10.1021/acs.jcim.9b00662\n",
        "*Sydow, D., Rodríguez-Guerra, J., & Volkamer, A. (2021). Teaching computer-aided drug design using TeachOpenCADD. In K. L. Deberg & K. D. Glendening (Eds.), Teaching programming across the chemistry curriculum (Chap. 10, pp. 135–158). American Chemical Society. https://doi.org/10.1021/bk-2021-1387.ch010\n",
        "* ChEMBL bioactivity database: [Gaulton *et al.*, <i>Nucleic Acids Res.</i> (2017), 45(Database issue), D945–D954](https://www.ncbi.nlm.nih.gov/pmc/articles/PMC5210557/)\n",
        "* ChEMBL web services: [Davies *et al.*, <i>Nucleic Acids Res.</i> (2015), <b>43</b>, 612-620](https://academic.oup.com/nar/article/43/W1/W612/2467881)\n",
        "* [ChEMBL web-interface](https://www.ebi.ac.uk/chembl/)\n",
        "*  GitHub [ChEMBL web rescource client](https://github.com/chembl/chembl_webresource_client)\n",
        "* The EBI RDF platform: [Jupp *et al.*, <i>Bioinformatics </i> (2014), 30(9), 1338-9](https://www.ncbi.nlm.nih.gov/pubmed/24413672)\n",
        "* Info on half maximal inhibitory concentration: [(p)IC50](https://en.wikipedia.org/wiki/IC50)\n",
        "* [UniProt website](https://www.uniprot.org/)"
      ]
    }
  ],
  "metadata": {
    "kernelspec": {
      "display_name": "Python 3 (ipykernel)",
      "language": "python",
      "name": "python3"
    },
    "language_info": {
      "codemirror_mode": {
        "name": "ipython",
        "version": 3
      },
      "file_extension": ".py",
      "mimetype": "text/x-python",
      "name": "python",
      "nbconvert_exporter": "python",
      "pygments_lexer": "ipython3",
      "version": "3.9.16"
    },
    "toc-autonumbering": true,
    "toc-showmarkdowntxt": false,
    "toc-showtags": false,
    "widgets": {
      "application/vnd.jupyter.widget-state+json": {}
    },
    "colab": {
      "provenance": []
    }
  },
  "nbformat": 4,
  "nbformat_minor": 0
}