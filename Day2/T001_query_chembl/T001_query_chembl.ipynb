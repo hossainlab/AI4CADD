{
  "cells": [
    {
      "cell_type": "markdown",
      "metadata": {
        "id": "dAJUV3Hd8zBY"
      },
      "source": [
        "# 💊AI4CADD001 - Compound data acquisition (ChEMBL)\n",
        "---\n",
        "[Md. Jubayer Hossain](https://www.linkedin.com/in/hossainmj/)\n",
        "- Founder & Chief Executive Officer</b>, [DeepBio Limited](https://deepbioltd.com/)\n",
        "- Founder & Chief Executive Director</b>, [CHIRAL Bangladesh](https://chiralbd.org/)\n",
        "- Faculty</b>, [Center for Bioinformatics Learning Advancement and Systematics Training (cBLAST), University of Dhaka](https://cblast.du.ac.bd/)\n",
        "- Visiting Researcher, [Department of Public Health, Daffodil International University](https://daffodilvarsity.edu.bd/department/ph)\n",
        "- Instructor</b>, [Daffodil International University (Micro-credential Academy, AI for Public Health)](https://microcredentials.daffodilvarsity.edu.bd/) <br>\n",
        "- Program Lead</b>, [GSA Bioinformatics Internship](https://gsabioinfointernship.owlstown.net/)"
      ]
    },
    {
      "cell_type": "markdown",
      "metadata": {
        "id": "ByxU_Qv18zBZ"
      },
      "source": [
        "## Learning objectives\n",
        "\n",
        "In this notebook, we will learn more about the ChEMBL database and how to extract data from ChEMBL, i.e. (compound, activity data) pairs for a target of interest. These data sets can be used for many cheminformatics tasks, such as similarity search, clustering or machine learning.\n",
        "\n",
        "Our work here will include finding compounds that were tested against a certain target and filtering available bioactivity data."
      ]
    },
    {
      "cell_type": "markdown",
      "metadata": {
        "id": "2NFW6c918zBZ"
      },
      "source": [
        "### Contents in *Theory*\n",
        "\n",
        "* ChEMBL database\n",
        "    * ChEMBL web services\n",
        "    * ChEMBL web resource client\n",
        "* Compound activity measures\n",
        "    * IC50 measure\n",
        "    * pIC50 value"
      ]
    },
    {
      "cell_type": "markdown",
      "metadata": {
        "id": "0KfWlZpX8zBZ"
      },
      "source": [
        "### Contents in *Practical*\n",
        "    \n",
        "**Goal: Get a list of compounds with bioactivity data for a given target**\n",
        "\n",
        "* Connect to ChEMBL database\n",
        "* Get target data (example: EGFR kinase)\n",
        "    * Fetch and download target data\n",
        "    * Select target ChEMBL ID\n",
        "* Get bioactivity data\n",
        "    * Fetch and download bioactivity data for targets\n",
        "    * Preprocess and filter bioactivity data\n",
        "* Get compound data\n",
        "    * Fetch and download compound data\n",
        "    * Preprocess and filter compound data\n",
        "* Output bioactivity-compound data\n",
        "    * Merge bioactivity and compound data, and add pIC50 values\n",
        "    * Draw molecules with highest pIC50\n",
        "    * Freeze bioactivity data to ChEMBL 27\n",
        "    * Write output file"
      ]
    },
    {
      "cell_type": "markdown",
      "metadata": {
        "id": "Rpu9jsot8zBa"
      },
      "source": [
        "## Theory"
      ]
    },
    {
      "cell_type": "markdown",
      "metadata": {
        "id": "yJf_Hk6_8zBa"
      },
      "source": [
        "### ChEMBL database\n",
        ">\"ChEMBL is a manually curated database of bioactive molecules with drug-like properties. It brings together chemical, bioactivity and genomic data to aid the translation of genomic information into effective new drugs.\" ([ChEMBL website](https://www.ebi.ac.uk/chembl/))\n",
        "\n",
        "* Open large-scale bioactivity database\n",
        "* **Current data content (as of 09.2020, ChEMBL 27):**\n",
        "    * \\>1.9 million distinct compounds\n",
        "    * \\>16 million activity values\n",
        "    * Assays are mapped to ~13,000 targets\n",
        "* **Data sources** include scientific literature, PubChem bioassays, Drugs for Neglected Diseases Initiative (DNDi), BindingDB database, ...\n",
        "* ChEMBL data can be accessed via a [web-interface](https://www.ebi.ac.uk/chembl/), the [EBI-RDF platform](https://www.ncbi.nlm.nih.gov/pubmed/24413672) and the [ChEMBL web rescource client](https://github.com/chembl/chembl_webresource_client)"
      ]
    },
    {
      "cell_type": "markdown",
      "metadata": {
        "id": "uB210u708zBa"
      },
      "source": [
        "#### ChEMBL web services\n",
        "\n",
        "* RESTful web service\n",
        "* ChEMBL web service version 2.x resource schema:\n",
        "\n",
        "![ChEMBL web service schema](https://github.com/hossainlab/AI4CADD/blob/main/Day2/T001_query_chembl/images/chembl_webservices_schema_diagram.jpg?raw=1)\n",
        "\n",
        "*Figure 1:*\n",
        "\"[ChEMBL web service schema diagram](https://www.ncbi.nlm.nih.gov/pmc/articles/PMC4489243/figure/F2/). The oval shapes represent ChEMBL web service resources and the line between two resources indicates that they share a common attribute. The arrow direction shows where the primary information about a resource type can be found. A dashed line indicates the relationship between two resources behaves differently. For example, the `Image` resource provides a graphical-based representation of a `Molecule`.\"\n",
        "Figure and description are taken from: [<i>Nucleic Acids Res.</i> (2015), <b>43</b>, 612-620](https://academic.oup.com/nar/article/43/W1/W612/2467881)."
      ]
    },
    {
      "cell_type": "markdown",
      "metadata": {
        "id": "BHEWRVcQ8zBb"
      },
      "source": [
        "#### ChEMBL web resource client\n",
        "\n",
        "* Python client library for accessing ChEMBL data\n",
        "* Handles interaction with the HTTPS protocol\n",
        "* Lazy evaluation of results -> reduced number of network requests"
      ]
    },
    {
      "cell_type": "markdown",
      "metadata": {
        "id": "NqqDjAFM8zBb"
      },
      "source": [
        "### Compound activity measures"
      ]
    },
    {
      "cell_type": "markdown",
      "metadata": {
        "id": "GeKpYq7E8zBb"
      },
      "source": [
        "#### IC50 measure\n",
        "\n",
        "* [Half maximal inhibitory concentration](https://en.wikipedia.org/wiki/IC50)\n",
        "* Indicates how much of a particular drug or other substance is needed to inhibit a given biological process by half\n",
        "\n",
        "![Wiki_Example_IC50_curve_demonstrating_visually_how_IC50_is_derived](https://github.com/hossainlab/AI4CADD/blob/main/Day2/T001_query_chembl/images/Wiki_Example_IC50_curve_demonstrating_visually_how_IC50_is_derived.png?raw=1)\n",
        "\n",
        "*Figure 2:* Visual demonstration of how to derive an IC50 value:\n",
        "(i) Arrange inhibition data on y-axis and log(concentration) on x-axis. (ii) Identify maximum and minimum inhibition. (iii) The IC50 is the concentration at which the curve passes through the 50% inhibition level. Figure [\"Example IC50 curve demonstrating visually how IC50 is derived\"](https://en.wikipedia.org/wiki/IC50#/media/File:Example_IC50_curve_demonstrating_visually_how_IC50_is_derived.png) by JesseAlanGordon is licensed under [CC BY-SA 3.0](https://creativecommons.org/licenses/by-sa/3.0/)."
      ]
    },
    {
      "cell_type": "markdown",
      "metadata": {
        "id": "V2pHMkXq8zBb"
      },
      "source": [
        "#### pIC50 value\n",
        "\n",
        "* To facilitate the comparison of IC50 values, which have a large value range and are given in different units (M, nM, ...), often pIC50 values are used\n",
        "* The pIC50 is the negative log of the IC50 value when converted to molar units:\n",
        "    $ pIC_{50} = -log_{10}(IC_{50}) $, where $ IC_{50}$ is specified in units of M\n",
        "* Higher pIC50 values indicate exponentially greater potency of the drug\n",
        "* Note that the conversion can be adapted to the respective IC50 unit, e.g. for nM: $pIC_{50} = -log_{10}(IC_{50}*10^{-9})= 9-log_{10}(IC_{50}) $\n",
        "\n",
        "Other activity measures:\n",
        "\n",
        "Besides, IC50 and pIC50, other bioactivity measures are used, such as the equilibrium constant [KI](https://en.wikipedia.org/wiki/Equilibrium_constant) and the half-maximal effective concentration  [EC50](https://en.wikipedia.org/wiki/EC50)."
      ]
    },
    {
      "cell_type": "markdown",
      "metadata": {
        "id": "_Rwj5-Hh8zBb"
      },
      "source": [
        "## Practical\n",
        "\n",
        "In the following, we want to download all molecules that have been tested against our target of interest, the **epidermal growth factor receptor** ([**EGFR**](https://www.uniprot.org/uniprot/P00533)) kinase."
      ]
    },
    {
      "cell_type": "markdown",
      "metadata": {
        "id": "kcKDUPvK8zBb"
      },
      "source": [
        "### Connect to ChEMBL database"
      ]
    },
    {
      "cell_type": "markdown",
      "source": [
        "Install required packages.\n"
      ],
      "metadata": {
        "id": "_9RClYF2-8cg"
      }
    },
    {
      "cell_type": "code",
      "source": [
        "# Install RDKit.\n",
        "%%capture\n",
        "!pip install rdkit"
      ],
      "metadata": {
        "id": "2-UcOasj_ukp"
      },
      "execution_count": null,
      "outputs": []
    },
    {
      "cell_type": "code",
      "source": [
        "# Install chembl_webresource_client and tqdm\n",
        "!pip install chembl_webresource_client tqdm"
      ],
      "metadata": {
        "id": "5E-8UBraB34P"
      },
      "execution_count": null,
      "outputs": []
    },
    {
      "cell_type": "markdown",
      "metadata": {
        "id": "eKrETxiL8zBb"
      },
      "source": [
        "Then, the ChEMBL web resource client as well as other Python libraries are imported."
      ]
    },
    {
      "cell_type": "code",
      "execution_count": null,
      "metadata": {
        "id": "1GFmWd4p8zBb"
      },
      "outputs": [],
      "source": [
        "import math\n",
        "from pathlib import Path\n",
        "from zipfile import ZipFile\n",
        "from tempfile import TemporaryDirectory\n",
        "\n",
        "import numpy as np\n",
        "import pandas as pd\n",
        "from rdkit.Chem import PandasTools\n",
        "from chembl_webresource_client.new_client import new_client\n",
        "from tqdm.auto import tqdm"
      ]
    },
    {
      "cell_type": "code",
      "execution_count": null,
      "metadata": {
        "id": "xO1MwehL8zBc"
      },
      "outputs": [],
      "source": [
        "HERE = Path(_dh[-1])\n",
        "DATA = HERE / \"data\""
      ]
    },
    {
      "cell_type": "markdown",
      "metadata": {
        "id": "NgwlgZFX8zBc"
      },
      "source": [
        "Next, we create resource objects for API access."
      ]
    },
    {
      "cell_type": "code",
      "execution_count": null,
      "metadata": {
        "id": "SmYAvyD48zBc"
      },
      "outputs": [],
      "source": [
        "targets_api = new_client.target\n",
        "compounds_api = new_client.molecule\n",
        "bioactivities_api = new_client.activity"
      ]
    },
    {
      "cell_type": "code",
      "execution_count": null,
      "metadata": {
        "id": "Wn79JM9S8zBc"
      },
      "outputs": [],
      "source": [
        "type(targets_api)"
      ]
    },
    {
      "cell_type": "markdown",
      "metadata": {
        "id": "XB3C9HAG8zBd"
      },
      "source": [
        "### Get target data (EGFR kinase)\n",
        "\n",
        "* Get UniProt ID of the target of interest (EGFR kinase:  [P00533](http://www.uniprot.org/uniprot/P00533)) from [UniProt website](https://www.uniprot.org/)\n",
        "* Use UniProt ID to get target information\n",
        "\n",
        "Select a different UniProt ID, if you are interested in another target."
      ]
    },
    {
      "cell_type": "code",
      "execution_count": null,
      "metadata": {
        "id": "gr81y1uo8zBd"
      },
      "outputs": [],
      "source": [
        "uniprot_id = \"P00533\""
      ]
    },
    {
      "cell_type": "markdown",
      "metadata": {
        "id": "atafrEvA8zBd"
      },
      "source": [
        "#### Fetch target data from ChEMBL"
      ]
    },
    {
      "cell_type": "code",
      "execution_count": null,
      "metadata": {
        "id": "PLupt1j08zBd"
      },
      "outputs": [],
      "source": [
        "# Get target information from ChEMBL but restrict it to specified values only\n",
        "targets = targets_api.get(target_components__accession=uniprot_id).only(\n",
        "    \"target_chembl_id\", \"organism\", \"pref_name\", \"target_type\"\n",
        ")\n",
        "\n",
        "print(f'The type of the targets is \"{type(targets)}\"')"
      ]
    },
    {
      "cell_type": "markdown",
      "metadata": {
        "id": "LJCvWxDi8zBd"
      },
      "source": [
        "#### Download target data from ChEMBL\n",
        "\n",
        "The results of the query are stored in `targets`, a `QuerySet`, i.e. the results are not fetched from ChEMBL until we ask for it (here using `pandas.DataFrame.from_records`).\n",
        "\n",
        "More information about the `QuerySet` datatype:\n",
        "\n",
        "> QuerySets are lazy – the act of creating a QuerySet does not involve any database activity. You can stack filters together all day long, and Django will actually not run the query until the QuerySet is evaluated.\n",
        "([querysets-are-lazy](https://docs.djangoproject.com/en/3.0/topics/db/queries/#querysets-are-lazy))"
      ]
    },
    {
      "cell_type": "code",
      "execution_count": null,
      "metadata": {
        "id": "q-d-QnkR8zBd"
      },
      "outputs": [],
      "source": [
        "targets = pd.DataFrame.from_records(targets)\n",
        "targets"
      ]
    },
    {
      "cell_type": "markdown",
      "metadata": {
        "id": "4eAB4oS58zBd"
      },
      "source": [
        "#### Select target (target ChEMBL ID)\n",
        "\n",
        "After checking the entries, we select the first entry as our target of interest:\n",
        "\n",
        "`CHEMBL203`: It is a single protein and represents the human Epidermal growth factor receptor (EGFR, also named erbB1)"
      ]
    },
    {
      "cell_type": "code",
      "execution_count": null,
      "metadata": {
        "id": "-AtbuTlB8zBe"
      },
      "outputs": [],
      "source": [
        "target = targets.iloc[0]\n",
        "target"
      ]
    },
    {
      "cell_type": "markdown",
      "metadata": {
        "id": "cPJJJP0R8zBe"
      },
      "source": [
        "Save selected ChEMBL ID."
      ]
    },
    {
      "cell_type": "code",
      "execution_count": null,
      "metadata": {
        "id": "R4WY5E9c8zBe"
      },
      "outputs": [],
      "source": [
        "chembl_id = target.target_chembl_id\n",
        "print(f\"The target ChEMBL ID is {chembl_id}\")\n",
        "# NBVAL_CHECK_OUTPUT"
      ]
    },
    {
      "cell_type": "markdown",
      "metadata": {
        "id": "kbag1H_M8zBe"
      },
      "source": [
        "### Get bioactivity data\n",
        "\n",
        "Now, we want to query bioactivity data for the target of interest."
      ]
    },
    {
      "cell_type": "markdown",
      "metadata": {
        "id": "7nZfrxE88zBe"
      },
      "source": [
        "#### Fetch bioactivity data for the target from ChEMBL"
      ]
    },
    {
      "cell_type": "markdown",
      "metadata": {
        "id": "ga1p876e8zBe"
      },
      "source": [
        "In this step, we fetch the bioactivity data and filter it to only consider\n",
        "\n",
        "* human proteins,\n",
        "* bioactivity type IC50,\n",
        "* exact measurements (relation `'='`), and\n",
        "* binding data (assay type `'B'`)."
      ]
    },
    {
      "cell_type": "code",
      "execution_count": null,
      "metadata": {
        "id": "7ahQYK-n8zBe"
      },
      "outputs": [],
      "source": [
        "bioactivities = bioactivities_api.filter(\n",
        "    target_chembl_id=chembl_id, type=\"IC50\", relation=\"=\", assay_type=\"B\"\n",
        ").only(\n",
        "    \"activity_id\",\n",
        "    \"assay_chembl_id\",\n",
        "    \"assay_description\",\n",
        "    \"assay_type\",\n",
        "    \"molecule_chembl_id\",\n",
        "    \"type\",\n",
        "    \"standard_units\",\n",
        "    \"relation\",\n",
        "    \"standard_value\",\n",
        "    \"target_chembl_id\",\n",
        "    \"target_organism\",\n",
        ")\n",
        "\n",
        "print(f\"Length and type of bioactivities object: {len(bioactivities)}, {type(bioactivities)}\")"
      ]
    },
    {
      "cell_type": "markdown",
      "metadata": {
        "id": "GQB_m2M-8zBe"
      },
      "source": [
        "Each entry in our bioactivity set holds the following information:"
      ]
    },
    {
      "cell_type": "code",
      "execution_count": null,
      "metadata": {
        "id": "K0yKfaT78zBe"
      },
      "outputs": [],
      "source": [
        "print(f\"Length and type of first element: {len(bioactivities[0])}, {type(bioactivities[0])}\")\n",
        "bioactivities[0]"
      ]
    },
    {
      "cell_type": "markdown",
      "metadata": {
        "id": "5st3H3bF8zBf"
      },
      "source": [
        "#### Download bioactivity data from ChEMBL"
      ]
    },
    {
      "cell_type": "markdown",
      "metadata": {
        "id": "48D1nn6n8zBf"
      },
      "source": [
        "Finally, we download the `QuerySet` in the form of a `pandas` `DataFrame`.\n",
        "\n",
        "> **Note**: This step should not take more than 2 minutes, if so try to rerun all cells starting from _\"Fetch bioactivity data for the target from ChEMBL\"_ or read this message below:\n",
        "\n",
        "<details>\n",
        "    \n",
        "<summary>Load a local version of the data (in case you encounter any problems while fetching the data)</summary>\n",
        "    \n",
        "If you experience difficulties to query the ChEMBL database, we also provide the resulting dataframe you will construct in the cell below. If you want to use the saved version, use the following code instead to obtain `bioactivities_df`:\n",
        "  \n",
        "```python\n",
        "# replace first line in cell below with this other line\n",
        "bioactivities_df = pd.read_csv(DATA / \"EGFR_bioactivities_CHEMBL27.csv.zip\", index_col=0)\n",
        "```\n",
        "\n",
        "</details>"
      ]
    },
    {
      "cell_type": "code",
      "execution_count": null,
      "metadata": {
        "id": "u3yDrTHJ8zBf"
      },
      "outputs": [],
      "source": [
        "bioactivities_df = pd.DataFrame.from_dict(bioactivities)\n",
        "print(f\"DataFrame shape: {bioactivities_df.shape}\")\n",
        "bioactivities_df.head()"
      ]
    },
    {
      "cell_type": "markdown",
      "metadata": {
        "id": "xNs7a3xR8zBn"
      },
      "source": [
        "Note that the first two rows describe the same bioactivity entry; we will remove such artifacts later during the deduplication step. Note also that we have columns for `standard_units`/`units` and `standard_values`/`values`; in the following, we will use the standardized columns (standardization by ChEMBL), and thus, we drop the other two columns.\n",
        "\n",
        "If we used the `units` and `values` columns, we would need to convert all values with many different units to nM:"
      ]
    },
    {
      "cell_type": "code",
      "execution_count": null,
      "metadata": {
        "id": "FI1qFnFy8zBn"
      },
      "outputs": [],
      "source": [
        "bioactivities_df[\"units\"].unique()"
      ]
    },
    {
      "cell_type": "code",
      "execution_count": null,
      "metadata": {
        "id": "NRr2dhOe8zBn"
      },
      "outputs": [],
      "source": [
        "bioactivities_df.drop([\"units\", \"value\"], axis=1, inplace=True)\n",
        "bioactivities_df.head()"
      ]
    },
    {
      "cell_type": "markdown",
      "metadata": {
        "id": "Za2Fo9kz8zBo"
      },
      "source": [
        "#### Preprocess and filter bioactivity data\n",
        "\n",
        "1. Convert `standard_value`'s datatype from `object` to `float`\n",
        "2. Delete entries with missing values\n",
        "3. Keep only entries with `standard_unit == nM`\n",
        "4. Delete duplicate molecules\n",
        "5. Reset `DataFrame` index\n",
        "6. Rename columns"
      ]
    },
    {
      "cell_type": "markdown",
      "metadata": {
        "id": "I_n9rT5U8zBo"
      },
      "source": [
        "**1. Convert datatype of \"standard_value\" from \"object\" to \"float\"**\n",
        "\n",
        "The field `standard_value` holds standardized (here IC50) values. In order to make these values usable in calculations later on, convert values to floats."
      ]
    },
    {
      "cell_type": "code",
      "execution_count": null,
      "metadata": {
        "id": "8r5MkJrC8zBo"
      },
      "outputs": [],
      "source": [
        "bioactivities_df.dtypes"
      ]
    },
    {
      "cell_type": "code",
      "execution_count": null,
      "metadata": {
        "id": "qci3Hkx88zBo"
      },
      "outputs": [],
      "source": [
        "bioactivities_df = bioactivities_df.astype({\"standard_value\": \"float64\"})\n",
        "bioactivities_df.dtypes"
      ]
    },
    {
      "cell_type": "markdown",
      "metadata": {
        "id": "WBQ13hjE8zBo"
      },
      "source": [
        "**2. Delete entries with missing values**\n",
        "\n",
        "Use the parameter `inplace=True` to drop values in the current `DataFrame` directly."
      ]
    },
    {
      "cell_type": "code",
      "source": [
        "bioactivities_df.isnull().sum()"
      ],
      "metadata": {
        "id": "Di0sPXl3KXW4"
      },
      "execution_count": null,
      "outputs": []
    },
    {
      "cell_type": "code",
      "execution_count": null,
      "metadata": {
        "id": "Ja5jvH098zBo"
      },
      "outputs": [],
      "source": [
        "bioactivities_df.dropna(axis=0, how=\"any\", inplace=True)\n",
        "print(f\"DataFrame shape: {bioactivities_df.shape}\")"
      ]
    },
    {
      "cell_type": "markdown",
      "metadata": {
        "id": "k7WwN5yQ8zBo"
      },
      "source": [
        "**3. Keep only entries with \"standard_unit == nM\"**\n",
        "\n",
        "We only want to keep bioactivity entries in `nM`, thus we remove all entries with other units."
      ]
    },
    {
      "cell_type": "code",
      "execution_count": null,
      "metadata": {
        "id": "EUzKLFCL8zBo"
      },
      "outputs": [],
      "source": [
        "print(f\"Units in downloaded data: {bioactivities_df['standard_units'].unique()}\")\n",
        "\n",
        "print(\n",
        "    f\"Number of non-nM entries:\\\n",
        "    {bioactivities_df[bioactivities_df['standard_units'] != 'nM'].shape[0]}\"\n",
        ")"
      ]
    },
    {
      "cell_type": "code",
      "execution_count": null,
      "metadata": {
        "id": "lIUmvnjp8zBp"
      },
      "outputs": [],
      "source": [
        "bioactivities_df = bioactivities_df[bioactivities_df[\"standard_units\"] == \"nM\"]\n",
        "print(f\"Units after filtering: {bioactivities_df['standard_units'].unique()}\")"
      ]
    },
    {
      "cell_type": "code",
      "execution_count": null,
      "metadata": {
        "id": "Vs5ZgoQi8zBp"
      },
      "outputs": [],
      "source": [
        "print(f\"DataFrame shape: {bioactivities_df.shape}\")"
      ]
    },
    {
      "cell_type": "markdown",
      "metadata": {
        "id": "hBugQd-M8zBp"
      },
      "source": [
        "**4. Delete duplicate molecules**\n",
        "\n",
        "Sometimes the same molecule (`molecule_chembl_id`) has been tested more than once, in this case, we only keep the first one.\n",
        "\n",
        "Note other choices could be to keep the one with the best value or a mean value of all assay results for the respective compound."
      ]
    },
    {
      "cell_type": "code",
      "execution_count": null,
      "metadata": {
        "id": "HO6ObODH8zBp"
      },
      "outputs": [],
      "source": [
        "bioactivities_df.drop_duplicates(\"molecule_chembl_id\", keep=\"first\", inplace=True)\n",
        "print(f\"DataFrame shape: {bioactivities_df.shape}\")"
      ]
    },
    {
      "cell_type": "markdown",
      "metadata": {
        "id": "BC0iCO3x8zBp"
      },
      "source": [
        "**5. Reset \"DataFrame\" index**\n",
        "\n",
        "Since we deleted some rows, but we want to iterate over the index later, we reset the index to be continuous."
      ]
    },
    {
      "cell_type": "code",
      "source": [
        "bioactivities_df.head()"
      ],
      "metadata": {
        "id": "42n26JLWLJs6"
      },
      "execution_count": null,
      "outputs": []
    },
    {
      "cell_type": "code",
      "execution_count": null,
      "metadata": {
        "id": "dx2V7Ubd8zBp"
      },
      "outputs": [],
      "source": [
        "bioactivities_df.reset_index(drop=True, inplace=True)\n",
        "bioactivities_df.head()"
      ]
    },
    {
      "cell_type": "markdown",
      "metadata": {
        "id": "-O86fsmN8zBp"
      },
      "source": [
        "**6. Rename columns**"
      ]
    },
    {
      "cell_type": "code",
      "execution_count": null,
      "metadata": {
        "id": "a6Eq5HaM8zBp"
      },
      "outputs": [],
      "source": [
        "bioactivities_df.rename(\n",
        "    columns={\"standard_value\": \"IC50\", \"standard_units\": \"units\"}, inplace=True\n",
        ")\n",
        "\n",
        "bioactivities_df.head()"
      ]
    },
    {
      "cell_type": "code",
      "execution_count": null,
      "metadata": {
        "id": "kzWhuHXi8zBq"
      },
      "outputs": [],
      "source": [
        "print(f\"DataFrame shape: {bioactivities_df.shape}\")"
      ]
    },
    {
      "cell_type": "markdown",
      "metadata": {
        "id": "iCvgcigF8zBq"
      },
      "source": [
        "We now have a set of **7334** molecule ids with respective IC50 values for our target kinase."
      ]
    },
    {
      "cell_type": "markdown",
      "metadata": {
        "id": "g_A8ggwF8zBq"
      },
      "source": [
        "### Get compound data\n",
        "\n",
        "We have a `DataFrame` containing all molecules tested against EGFR (with the respective measured bioactivity).\n",
        "\n",
        "Now, we want to get the molecular structures of the molecules that are linked to respective bioactivity ChEMBL IDs."
      ]
    },
    {
      "cell_type": "markdown",
      "metadata": {
        "id": "wYm4K8LD8zBq"
      },
      "source": [
        "#### Fetch compound data from ChEMBL\n",
        "\n",
        "Let's have a look at the compounds from ChEMBL which we have defined bioactivity data for: We fetch compound ChEMBL IDs and structures for the compounds linked to our filtered bioactivity data."
      ]
    },
    {
      "cell_type": "code",
      "execution_count": null,
      "metadata": {
        "id": "bdmLpRS38zBq"
      },
      "outputs": [],
      "source": [
        "compounds_provider = compounds_api.filter(\n",
        "    molecule_chembl_id__in=list(bioactivities_df[\"molecule_chembl_id\"])\n",
        ").only(\"molecule_chembl_id\", \"molecule_structures\")"
      ]
    },
    {
      "cell_type": "markdown",
      "metadata": {
        "id": "ahk5_BYN8zBq"
      },
      "source": [
        "#### Download compound data from ChEMBL\n",
        "\n",
        "Again, we want to export the `QuerySet` object into a `pandas.DataFrame`. Given the data volume, **this can take some time.** For that reason, we will first obtain the list of records through `tqdm`, so we get a nice progress bar and some ETAs. We can then pass the list of compounds to the DataFrame."
      ]
    },
    {
      "cell_type": "code",
      "execution_count": null,
      "metadata": {
        "id": "2-QHZtlx8zBq"
      },
      "outputs": [],
      "source": [
        "compounds = list(tqdm(compounds_provider))"
      ]
    },
    {
      "cell_type": "code",
      "execution_count": null,
      "metadata": {
        "id": "_BtUZ7LP8zBq"
      },
      "outputs": [],
      "source": [
        "compounds_df = pd.DataFrame.from_records(\n",
        "    compounds,\n",
        ")\n",
        "print(f\"DataFrame shape: {compounds_df.shape}\")"
      ]
    },
    {
      "cell_type": "code",
      "execution_count": null,
      "metadata": {
        "id": "3BPGZQkp8zBq"
      },
      "outputs": [],
      "source": [
        "compounds_df.head()"
      ]
    },
    {
      "cell_type": "markdown",
      "metadata": {
        "id": "x1MfVZ5q8zBr"
      },
      "source": [
        "#### Preprocess and filter compound data\n",
        "\n",
        "1. Remove entries with missing entries\n",
        "2. Delete duplicate molecules (by molecule_chembl_id)\n",
        "3. Get molecules with canonical SMILES"
      ]
    },
    {
      "cell_type": "markdown",
      "metadata": {
        "id": "9dNPwWZC8zBr"
      },
      "source": [
        "**1. Remove entries with missing molecule structure entry**"
      ]
    },
    {
      "cell_type": "code",
      "execution_count": null,
      "metadata": {
        "id": "z40f8exa8zBr"
      },
      "outputs": [],
      "source": [
        "compounds_df.dropna(axis=0, how=\"any\", inplace=True)\n",
        "print(f\"DataFrame shape: {compounds_df.shape}\")"
      ]
    },
    {
      "cell_type": "markdown",
      "metadata": {
        "id": "oFOYhdaX8zBr"
      },
      "source": [
        "**2. Delete duplicate molecules**"
      ]
    },
    {
      "cell_type": "code",
      "execution_count": null,
      "metadata": {
        "id": "zvoq53Ox8zBr"
      },
      "outputs": [],
      "source": [
        "compounds_df.drop_duplicates(\"molecule_chembl_id\", keep=\"first\", inplace=True)\n",
        "print(f\"DataFrame shape: {compounds_df.shape}\")"
      ]
    },
    {
      "cell_type": "markdown",
      "metadata": {
        "id": "oNOrwUTV8zBr"
      },
      "source": [
        "**3. Get molecules with canonical SMILES**\n",
        "\n",
        "So far, we have multiple different molecular structure representations. We only want to keep the canonical SMILES."
      ]
    },
    {
      "cell_type": "code",
      "execution_count": null,
      "metadata": {
        "id": "02M1DXoi8zBr"
      },
      "outputs": [],
      "source": [
        "compounds_df.iloc[0].molecule_structures.keys()"
      ]
    },
    {
      "cell_type": "code",
      "execution_count": null,
      "metadata": {
        "id": "b4DlxCj28zBr"
      },
      "outputs": [],
      "source": [
        "canonical_smiles = []\n",
        "\n",
        "for i, compounds in compounds_df.iterrows():\n",
        "    try:\n",
        "        canonical_smiles.append(compounds[\"molecule_structures\"][\"canonical_smiles\"])\n",
        "    except KeyError:\n",
        "        canonical_smiles.append(None)\n",
        "\n",
        "compounds_df[\"smiles\"] = canonical_smiles\n",
        "compounds_df.drop(\"molecule_structures\", axis=1, inplace=True)\n",
        "print(f\"DataFrame shape: {compounds_df.shape}\")"
      ]
    },
    {
      "cell_type": "markdown",
      "metadata": {
        "id": "yHigP2v78zBr"
      },
      "source": [
        "Sanity check: Remove all molecules without a canonical SMILES string."
      ]
    },
    {
      "cell_type": "code",
      "execution_count": null,
      "metadata": {
        "id": "2VgD7xNl8zBr"
      },
      "outputs": [],
      "source": [
        "compounds_df.dropna(axis=0, how=\"any\", inplace=True)\n",
        "print(f\"DataFrame shape: {compounds_df.shape}\")"
      ]
    },
    {
      "cell_type": "markdown",
      "metadata": {
        "id": "dDO5xJoy8zBs"
      },
      "source": [
        "### Output (bioactivity-compound) data\n",
        "**Summary of compound and bioactivity data**"
      ]
    },
    {
      "cell_type": "code",
      "execution_count": null,
      "metadata": {
        "id": "w28OCmkQ8zBs"
      },
      "outputs": [],
      "source": [
        "print(f\"Bioactivities filtered: {bioactivities_df.shape[0]}\")\n",
        "bioactivities_df.columns"
      ]
    },
    {
      "cell_type": "code",
      "execution_count": null,
      "metadata": {
        "id": "Ub2F2rFz8zBs"
      },
      "outputs": [],
      "source": [
        "print(f\"Compounds filtered: {compounds_df.shape[0]}\")\n",
        "compounds_df.columns"
      ]
    },
    {
      "cell_type": "markdown",
      "metadata": {
        "id": "AdLFUWba8zBs"
      },
      "source": [
        "#### Merge both datasets\n",
        "\n",
        "Merge values of interest from `bioactivities_df` and `compounds_df` in an `output_df` based on the compounds' ChEMBL IDs (`molecule_chembl_id`), keeping the following columns:\n",
        "\n",
        "* ChEMBL IDs: `molecule_chembl_id`\n",
        "* SMILES: `smiles`\n",
        "* units: `units`\n",
        "* IC50: `IC50`"
      ]
    },
    {
      "cell_type": "code",
      "execution_count": null,
      "metadata": {
        "id": "EpAvi0yt8zBs"
      },
      "outputs": [],
      "source": [
        "# Merge DataFrames\n",
        "output_df = pd.merge(\n",
        "    bioactivities_df[[\"molecule_chembl_id\", \"IC50\", \"units\"]],\n",
        "    compounds_df,\n",
        "    on=\"molecule_chembl_id\",\n",
        ")\n",
        "\n",
        "# Reset row indices\n",
        "output_df.reset_index(drop=True, inplace=True)\n",
        "\n",
        "print(f\"Dataset with {output_df.shape[0]} entries.\")"
      ]
    },
    {
      "cell_type": "code",
      "execution_count": null,
      "metadata": {
        "id": "vw9rAhIr8zBs"
      },
      "outputs": [],
      "source": [
        "output_df.dtypes"
      ]
    },
    {
      "cell_type": "code",
      "execution_count": null,
      "metadata": {
        "id": "lIG8G3We8zBs"
      },
      "outputs": [],
      "source": [
        "output_df.head(10)"
      ]
    },
    {
      "cell_type": "markdown",
      "metadata": {
        "id": "k09CrS2q8zBs"
      },
      "source": [
        "#### Add pIC50 values"
      ]
    },
    {
      "cell_type": "markdown",
      "metadata": {
        "id": "XkXa0K-M8zBt"
      },
      "source": [
        "As you can see the low IC50 values are difficult to read (values are distributed over multiple scales), which is why we convert the IC50 values to pIC50."
      ]
    },
    {
      "cell_type": "code",
      "execution_count": null,
      "metadata": {
        "id": "9X8yjvUV8zBt"
      },
      "outputs": [],
      "source": [
        "def convert_ic50_to_pic50(IC50_value):\n",
        "    pIC50_value = 9 - math.log10(IC50_value)\n",
        "    return pIC50_value"
      ]
    },
    {
      "cell_type": "code",
      "execution_count": null,
      "metadata": {
        "id": "nFAc1ngp8zBt"
      },
      "outputs": [],
      "source": [
        "# Apply conversion to each row of the compounds DataFrame\n",
        "output_df[\"pIC50\"] = output_df.apply(lambda x: convert_ic50_to_pic50(x.IC50), axis=1)"
      ]
    },
    {
      "cell_type": "code",
      "execution_count": null,
      "metadata": {
        "id": "pcXjnlFk8zBt"
      },
      "outputs": [],
      "source": [
        "output_df.head()"
      ]
    },
    {
      "cell_type": "markdown",
      "metadata": {
        "id": "VWYRFArg8zBt"
      },
      "source": [
        "#### Draw compound data\n",
        "\n",
        "Let's have a look at our collected data set.\n",
        "\n",
        "First, we plot the pIC50 value distribution"
      ]
    },
    {
      "cell_type": "code",
      "execution_count": null,
      "metadata": {
        "tags": [
          "nbsphinx-thumbnail"
        ],
        "id": "BLEzAUNI8zBt"
      },
      "outputs": [],
      "source": [
        "output_df.hist(column=\"pIC50\")"
      ]
    },
    {
      "cell_type": "markdown",
      "metadata": {
        "id": "O_s-_yn78zBt"
      },
      "source": [
        "In the next steps, we add a column for RDKit molecule objects to our `DataFrame` and look at the structures of the molecules with the highest pIC50 values."
      ]
    },
    {
      "cell_type": "code",
      "execution_count": null,
      "metadata": {
        "id": "0ivPIRMf8zBt"
      },
      "outputs": [],
      "source": [
        "# Add molecule column\n",
        "PandasTools.AddMoleculeColumnToFrame(output_df, smilesCol=\"smiles\")"
      ]
    },
    {
      "cell_type": "code",
      "execution_count": null,
      "metadata": {
        "id": "VID8A1im8zBt"
      },
      "outputs": [],
      "source": [
        "# Sort molecules by pIC50\n",
        "output_df.sort_values(by=\"pIC50\", ascending=False, inplace=True)\n",
        "\n",
        "# Reset index\n",
        "output_df.reset_index(drop=True, inplace=True)"
      ]
    },
    {
      "cell_type": "markdown",
      "metadata": {
        "id": "_Rs-R6oS8zBt"
      },
      "source": [
        "Show the three most active molecules, i.e. molecules with the highest pIC50 values."
      ]
    },
    {
      "cell_type": "code",
      "execution_count": null,
      "metadata": {
        "id": "Ulwj9Thu8zBu"
      },
      "outputs": [],
      "source": [
        "output_df.drop(\"smiles\", axis=1).head(3)"
      ]
    },
    {
      "cell_type": "code",
      "execution_count": null,
      "metadata": {
        "id": "XLZD4ofV8zBu"
      },
      "outputs": [],
      "source": [
        "# Prepare saving the dataset: Drop the ROMol column\n",
        "output_df = output_df.drop(\"ROMol\", axis=1)\n",
        "print(f\"DataFrame shape: {output_df.shape}\")"
      ]
    },
    {
      "cell_type": "code",
      "source": [
        "output_df.head()"
      ],
      "metadata": {
        "id": "lu-egUDcTItY"
      },
      "execution_count": null,
      "outputs": []
    },
    {
      "cell_type": "markdown",
      "metadata": {
        "id": "eWGUWNrT8zBu"
      },
      "source": [
        "#### Freeze output data to ChEMBL 27\n",
        "\n",
        "This is a technical step: Usually, we would continue to work with the dataset that we just created (latest dataset).\n",
        "\n",
        "However, here on the TeachOpenCADD platform, we prefer to freeze the dataset to a certain ChEMBL releases (i.e. [ChEMBL 27](http://doi.org/10.6019/CHEMBL.database.27)),\n",
        "so that this tutorial and other tutorials downstream in our CADD pipeline do not change in the future (helping us to maintain the tutorial)."
      ]
    },
    {
      "cell_type": "markdown",
      "metadata": {
        "id": "LVDHZM9O8zBu"
      },
      "source": [
        "<div class=\"alert alert-block alert-info\">\n",
        "\n",
        "<b>Note:</b> If you prefer to run this notebook on the latest dataset or if you want to use it for another target, please comment the cell below.\n",
        "\n",
        "</div>"
      ]
    },
    {
      "cell_type": "code",
      "execution_count": null,
      "metadata": {
        "id": "ltafqPXq8zBu"
      },
      "outputs": [],
      "source": [
        "# Disable this cell to unfreeze the dataset\n",
        "output_df = pd.read_csv(\n",
        "    DATA / \"EGFR_compounds_ea055ef.csv\", index_col=0, float_precision=\"round_trip\"\n",
        ")\n",
        "output_df.head()"
      ]
    },
    {
      "cell_type": "code",
      "execution_count": null,
      "metadata": {
        "id": "Y4f5Uqs78zBv"
      },
      "outputs": [],
      "source": [
        "print(f\"DataFrame shape: {output_df.shape}\")\n",
        "# NBVAL_CHECK_OUTPUT"
      ]
    },
    {
      "cell_type": "markdown",
      "metadata": {
        "tags": [],
        "id": "D3CMJg4D8zBv"
      },
      "source": [
        "#### Write output data to file\n",
        "\n",
        "We want to use this bioactivity-compound dataset in the following tutorial, thus we save the data as `csv` file.\n",
        "Note that it is advisable to drop the molecule column (which only contains an image of the molecules) when saving the data."
      ]
    },
    {
      "cell_type": "code",
      "execution_count": null,
      "metadata": {
        "scrolled": true,
        "id": "YE16o2o-8zBv"
      },
      "outputs": [],
      "source": [
        "output_df.to_csv(DATA / \"EGFR_compounds.csv\")\n",
        "output_df.head()"
      ]
    },
    {
      "cell_type": "code",
      "execution_count": null,
      "metadata": {
        "id": "e5msSF-o8zBv"
      },
      "outputs": [],
      "source": [
        "print(f\"DataFrame shape: {output_df.shape}\")\n",
        "# NBVAL_CHECK_OUTPUT"
      ]
    },
    {
      "cell_type": "markdown",
      "metadata": {
        "id": "Yk2oKDz_8zBv"
      },
      "source": [
        "## Discussion"
      ]
    },
    {
      "cell_type": "markdown",
      "metadata": {
        "id": "r5m8ew0y8zBw"
      },
      "source": [
        "In this tutorial, we collected bioactivity data for our target of interest from the ChEMBL database.\n",
        "We filtered the data set in order to only contain molecules with measured IC50 bioactivity values.\n",
        "\n",
        "Be aware that ChEMBL data originates from various sources. Compound data has been generated in different labs by different people all over the world. Therefore, we have to be cautious with the predictions we make using this data set. It is always important to consider the source of the data and consistency of data production assays when interpreting the results and determining how much confidence we have in our predictions.\n",
        "\n",
        "In the next tutorials, we will filter our acquired data by Lipinski's rule of five and by unwanted substructures. Another important step would be to *clean* the molecular data. As this is not shown in any of our talktorials (yet), we would like to refer to the [Standardiser library](https://github.com/flatkinson/standardiser) or [MolVS](https://molvs.readthedocs.io/en/latest/) as useful tools for this task."
      ]
    },
    {
      "cell_type": "markdown",
      "metadata": {
        "id": "-UzEtrn58zBw"
      },
      "source": [
        "## Quiz"
      ]
    },
    {
      "cell_type": "markdown",
      "metadata": {
        "id": "N4ZptZOX8zBw"
      },
      "source": [
        "* We have downloaded in this tutorial molecules and bioactivity data from ChEMBL. What else is the ChEMBL database useful for?\n",
        "* What is the difference between IC50 and EC50?\n",
        "* What can we use the data extracted from ChEMBL for?"
      ]
    },
    {
      "cell_type": "markdown",
      "metadata": {
        "id": "19L1Mexq8zBw"
      },
      "source": [
        "## References\n",
        "\n",
        "* Review on \"Molecular similarity in medicinal chemistry\" ([<i>J. Med. Chem.</i> (2014), <b>57</b>, 3186-3204](https://pubmed.ncbi.nlm.nih.gov/24151987))\n",
        "* [Morgan fingerprints](http://www.rdkit.org/docs/GettingStartedInPython.html#morgan-fingerprints-circular-fingerprints) with `rdkit`\n",
        "* Description of the extended-connectivity fingerprint ECFP ([<i>J. Chem. Inf. Model.</i> (2010), <b>50</b>,742-754](https://pubs.acs.org/doi/abs/10.1021/ci100050t))\n",
        "* What is the chemical space?\n",
        "([<i>ACS Chem. Neurosci.</i> (2012), <b>19</b>, 649-57](https://www.ncbi.nlm.nih.gov/pubmed/23019491))\n",
        "* List of [molecular descriptors](https://www.rdkit.org/docs/GettingStartedInPython.html#list-of-available-descriptors) in `rdkit`\n",
        "* List of [fingerprints](https://www.rdkit.org/docs/GettingStartedInPython.html#list-of-available-fingerprints) in `rdkit`\n",
        "* Introduction to enrichment plots ([Applied Chemoinformatics, Wiley-VCH Verlag GmbH & Co. KGaA, Weinheim, (2018), **1**, 313-31](https://onlinelibrary.wiley.com/doi/10.1002/9783527806539.ch6h))\n",
        "* Sydow, D., Morger, A., Driller, M. et al. TeachOpenCADD: a teaching platform for computer-aided drug design using open source packages and data. J Cheminform 11, 29 (2019). https://doi.org/10.1186/s13321-019-0351-x\n",
        "* Sydow, D., Rodríguez-Guerra, J., Kimber, T. B., Schaller, D., Taylor, C. J., Chen, Y., Leja, M., Misra, S., Wichmann, M., Ariamajd, A., & Volkamer, A. (2022). TeachOpenCADD 2022: Open source and FAIR Python pipelines to assist in structural bioinformatics and cheminformatics research. Nucleic Acids Research, 50(W1), W753–W760. https://doi.org/10.1093/nar/gkac267\n",
        "* Kimber, T. B., Sydow, D., & Volkamer, A. (2022). Kinase similarity assessment pipeline for off-target prediction [v1.0]. Living Journal of Computational Molecular Science, 3(1), 1599. https://doi.org/10.1186/s13321-019-0351-x\n",
        "* Backenköhler, M., Kramer, P. L., Groß, J., Großmann, G., Joeres, R., Tagirdzhanov, A., Sydow, D., Ibrahim, H., Odje, F., Wolf, V., & Volkamer, A. (2023). TeachOpenCADD goes deep learning: Open-source teaching platform exploring molecular DL applications [Preprint]. ChemRxiv. https://doi.org/10.26434/chemrxiv-2023-kz1pb\n",
        "*Sydow, D., Wichmann, M., Rodríguez-Guerra, J., Goldmann, D., Landrum, G., & Volkamer, A. (2019). TeachOpenCADD-KNIME: A teaching platform for computer-aided drug design using KNIME workflows. Journal of Chemical Information and Modeling, 59(10), 4083–4086. https://doi.org/10.1021/acs.jcim.9b00662\n",
        "*Sydow, D., Rodríguez-Guerra, J., & Volkamer, A. (2021). Teaching computer-aided drug design using TeachOpenCADD. In K. L. Deberg & K. D. Glendening (Eds.), Teaching programming across the chemistry curriculum (Chap. 10, pp. 135–158). American Chemical Society. https://doi.org/10.1021/bk-2021-1387.ch010\n",
        "* ChEMBL bioactivity database: [Gaulton *et al.*, <i>Nucleic Acids Res.</i> (2017), 45(Database issue), D945–D954](https://www.ncbi.nlm.nih.gov/pmc/articles/PMC5210557/)\n",
        "* ChEMBL web services: [Davies *et al.*, <i>Nucleic Acids Res.</i> (2015), <b>43</b>, 612-620](https://academic.oup.com/nar/article/43/W1/W612/2467881)\n",
        "* [ChEMBL web-interface](https://www.ebi.ac.uk/chembl/)\n",
        "*  GitHub [ChEMBL web rescource client](https://github.com/chembl/chembl_webresource_client)\n",
        "* The EBI RDF platform: [Jupp *et al.*, <i>Bioinformatics </i> (2014), 30(9), 1338-9](https://www.ncbi.nlm.nih.gov/pubmed/24413672)\n",
        "* Info on half maximal inhibitory concentration: [(p)IC50](https://en.wikipedia.org/wiki/IC50)\n",
        "* [UniProt website](https://www.uniprot.org/)"
      ]
    }
  ],
  "metadata": {
    "kernelspec": {
      "display_name": "Python 3 (ipykernel)",
      "language": "python",
      "name": "python3"
    },
    "language_info": {
      "codemirror_mode": {
        "name": "ipython",
        "version": 3
      },
      "file_extension": ".py",
      "mimetype": "text/x-python",
      "name": "python",
      "nbconvert_exporter": "python",
      "pygments_lexer": "ipython3",
      "version": "3.9.16"
    },
    "toc-autonumbering": true,
    "toc-showmarkdowntxt": false,
    "toc-showtags": false,
    "colab": {
      "provenance": []
    }
  },
  "nbformat": 4,
  "nbformat_minor": 0
}